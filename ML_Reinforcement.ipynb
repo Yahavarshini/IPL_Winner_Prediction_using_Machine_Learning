{
 "cells": [
  {
   "cell_type": "code",
   "execution_count": 1,
   "id": "757141a9-0cb3-4aee-a7f4-35a68c9ff0fe",
   "metadata": {},
   "outputs": [],
   "source": [
    "from sklearn.model_selection import cross_val_score, train_test_split, GridSearchCV, RandomizedSearchCV\n",
    "from sklearn.linear_model import Ridge,Lasso, LogisticRegression\n",
    "from sklearn.metrics import confusion_matrix,accuracy_score,classification_report,f1_score,precision_score,recall_score\n",
    "from statsmodels.stats.outliers_influence import variance_inflation_factor\n",
    "from statsmodels.tools.tools import add_constant\n",
    "import pandas as pd\n",
    "import numpy as np\n",
    "from sklearn.preprocessing import Normalizer, MinMaxScaler, StandardScaler,LabelEncoder\n",
    "import matplotlib.pyplot as plt\n",
    "import seaborn as sns\n",
    "import statsmodels.api as sm\n",
    "from sklearn.feature_selection import RFE\n",
    "import warnings\n",
    "warnings.filterwarnings(\"ignore\")\n",
    "from sklearn.neighbors import KNeighborsClassifier\n",
    "from sklearn.svm import SVC\n",
    "from sklearn.naive_bayes import BernoulliNB,GaussianNB\n",
    "from sklearn.tree import DecisionTreeClassifier\n",
    "from sklearn.ensemble import RandomForestClassifier,AdaBoostClassifier,GradientBoostingClassifier\n",
    "from imblearn.over_sampling import SMOTE\n",
    "from sklearn.feature_selection import RFE\n",
    "import xgboost as xgb\n",
    "from xgboost import XGBClassifier\n",
    "import re\n"
   ]
  },
  {
   "cell_type": "code",
   "execution_count": 2,
   "id": "57b29df5-7680-4ddc-bd31-91afd1176faf",
   "metadata": {},
   "outputs": [],
   "source": [
    "df = pd.read_csv(\"ipl_matches.csv\")"
   ]
  },
  {
   "cell_type": "code",
   "execution_count": 3,
   "id": "5046155d-106a-491c-be21-b1009db362b5",
   "metadata": {},
   "outputs": [
    {
     "data": {
      "text/html": [
       "<div>\n",
       "<style scoped>\n",
       "    .dataframe tbody tr th:only-of-type {\n",
       "        vertical-align: middle;\n",
       "    }\n",
       "\n",
       "    .dataframe tbody tr th {\n",
       "        vertical-align: top;\n",
       "    }\n",
       "\n",
       "    .dataframe thead th {\n",
       "        text-align: right;\n",
       "    }\n",
       "</style>\n",
       "<table border=\"1\" class=\"dataframe\">\n",
       "  <thead>\n",
       "    <tr style=\"text-align: right;\">\n",
       "      <th></th>\n",
       "      <th>id</th>\n",
       "      <th>Season</th>\n",
       "      <th>city</th>\n",
       "      <th>date</th>\n",
       "      <th>team1</th>\n",
       "      <th>team2</th>\n",
       "      <th>toss_winner</th>\n",
       "      <th>toss_decision</th>\n",
       "      <th>result</th>\n",
       "      <th>dl_applied</th>\n",
       "      <th>winner</th>\n",
       "      <th>win_by_runs</th>\n",
       "      <th>win_by_wickets</th>\n",
       "      <th>player_of_match</th>\n",
       "      <th>venue</th>\n",
       "      <th>umpire1</th>\n",
       "      <th>umpire2</th>\n",
       "      <th>umpire3</th>\n",
       "    </tr>\n",
       "  </thead>\n",
       "  <tbody>\n",
       "    <tr>\n",
       "      <th>0</th>\n",
       "      <td>1</td>\n",
       "      <td>IPL-2017</td>\n",
       "      <td>Hyderabad</td>\n",
       "      <td>05-04-2017</td>\n",
       "      <td>Sunrisers Hyderabad</td>\n",
       "      <td>Royal Challengers Bangalore</td>\n",
       "      <td>Royal Challengers Bangalore</td>\n",
       "      <td>field</td>\n",
       "      <td>normal</td>\n",
       "      <td>0</td>\n",
       "      <td>Sunrisers Hyderabad</td>\n",
       "      <td>35</td>\n",
       "      <td>0</td>\n",
       "      <td>Yuvraj Singh</td>\n",
       "      <td>Rajiv Gandhi International Stadium, Uppal</td>\n",
       "      <td>AY Dandekar</td>\n",
       "      <td>NJ Llong</td>\n",
       "      <td>NaN</td>\n",
       "    </tr>\n",
       "    <tr>\n",
       "      <th>1</th>\n",
       "      <td>2</td>\n",
       "      <td>IPL-2017</td>\n",
       "      <td>Pune</td>\n",
       "      <td>06-04-2017</td>\n",
       "      <td>Mumbai Indians</td>\n",
       "      <td>Rising Pune Supergiant</td>\n",
       "      <td>Rising Pune Supergiant</td>\n",
       "      <td>field</td>\n",
       "      <td>normal</td>\n",
       "      <td>0</td>\n",
       "      <td>Rising Pune Supergiant</td>\n",
       "      <td>0</td>\n",
       "      <td>7</td>\n",
       "      <td>SPD Smith</td>\n",
       "      <td>Maharashtra Cricket Association Stadium</td>\n",
       "      <td>A Nand Kishore</td>\n",
       "      <td>S Ravi</td>\n",
       "      <td>NaN</td>\n",
       "    </tr>\n",
       "    <tr>\n",
       "      <th>2</th>\n",
       "      <td>3</td>\n",
       "      <td>IPL-2017</td>\n",
       "      <td>Rajkot</td>\n",
       "      <td>07-04-2017</td>\n",
       "      <td>Gujarat Lions</td>\n",
       "      <td>Kolkata Knight Riders</td>\n",
       "      <td>Kolkata Knight Riders</td>\n",
       "      <td>field</td>\n",
       "      <td>normal</td>\n",
       "      <td>0</td>\n",
       "      <td>Kolkata Knight Riders</td>\n",
       "      <td>0</td>\n",
       "      <td>10</td>\n",
       "      <td>CA Lynn</td>\n",
       "      <td>Saurashtra Cricket Association Stadium</td>\n",
       "      <td>Nitin Menon</td>\n",
       "      <td>CK Nandan</td>\n",
       "      <td>NaN</td>\n",
       "    </tr>\n",
       "    <tr>\n",
       "      <th>3</th>\n",
       "      <td>4</td>\n",
       "      <td>IPL-2017</td>\n",
       "      <td>Indore</td>\n",
       "      <td>08-04-2017</td>\n",
       "      <td>Rising Pune Supergiant</td>\n",
       "      <td>Kings XI Punjab</td>\n",
       "      <td>Kings XI Punjab</td>\n",
       "      <td>field</td>\n",
       "      <td>normal</td>\n",
       "      <td>0</td>\n",
       "      <td>Kings XI Punjab</td>\n",
       "      <td>0</td>\n",
       "      <td>6</td>\n",
       "      <td>GJ Maxwell</td>\n",
       "      <td>Holkar Cricket Stadium</td>\n",
       "      <td>AK Chaudhary</td>\n",
       "      <td>C Shamshuddin</td>\n",
       "      <td>NaN</td>\n",
       "    </tr>\n",
       "    <tr>\n",
       "      <th>4</th>\n",
       "      <td>5</td>\n",
       "      <td>IPL-2017</td>\n",
       "      <td>Bangalore</td>\n",
       "      <td>08-04-2017</td>\n",
       "      <td>Royal Challengers Bangalore</td>\n",
       "      <td>Delhi Daredevils</td>\n",
       "      <td>Royal Challengers Bangalore</td>\n",
       "      <td>bat</td>\n",
       "      <td>normal</td>\n",
       "      <td>0</td>\n",
       "      <td>Royal Challengers Bangalore</td>\n",
       "      <td>15</td>\n",
       "      <td>0</td>\n",
       "      <td>KM Jadhav</td>\n",
       "      <td>M Chinnaswamy Stadium</td>\n",
       "      <td>NaN</td>\n",
       "      <td>NaN</td>\n",
       "      <td>NaN</td>\n",
       "    </tr>\n",
       "  </tbody>\n",
       "</table>\n",
       "</div>"
      ],
      "text/plain": [
       "   id    Season       city        date                        team1  \\\n",
       "0   1  IPL-2017  Hyderabad  05-04-2017          Sunrisers Hyderabad   \n",
       "1   2  IPL-2017       Pune  06-04-2017               Mumbai Indians   \n",
       "2   3  IPL-2017     Rajkot  07-04-2017                Gujarat Lions   \n",
       "3   4  IPL-2017     Indore  08-04-2017       Rising Pune Supergiant   \n",
       "4   5  IPL-2017  Bangalore  08-04-2017  Royal Challengers Bangalore   \n",
       "\n",
       "                         team2                  toss_winner toss_decision  \\\n",
       "0  Royal Challengers Bangalore  Royal Challengers Bangalore         field   \n",
       "1       Rising Pune Supergiant       Rising Pune Supergiant         field   \n",
       "2        Kolkata Knight Riders        Kolkata Knight Riders         field   \n",
       "3              Kings XI Punjab              Kings XI Punjab         field   \n",
       "4             Delhi Daredevils  Royal Challengers Bangalore           bat   \n",
       "\n",
       "   result  dl_applied                       winner  win_by_runs  \\\n",
       "0  normal           0          Sunrisers Hyderabad           35   \n",
       "1  normal           0       Rising Pune Supergiant            0   \n",
       "2  normal           0        Kolkata Knight Riders            0   \n",
       "3  normal           0              Kings XI Punjab            0   \n",
       "4  normal           0  Royal Challengers Bangalore           15   \n",
       "\n",
       "   win_by_wickets player_of_match                                      venue  \\\n",
       "0               0    Yuvraj Singh  Rajiv Gandhi International Stadium, Uppal   \n",
       "1               7       SPD Smith    Maharashtra Cricket Association Stadium   \n",
       "2              10         CA Lynn     Saurashtra Cricket Association Stadium   \n",
       "3               6      GJ Maxwell                     Holkar Cricket Stadium   \n",
       "4               0       KM Jadhav                      M Chinnaswamy Stadium   \n",
       "\n",
       "          umpire1        umpire2 umpire3  \n",
       "0     AY Dandekar       NJ Llong     NaN  \n",
       "1  A Nand Kishore         S Ravi     NaN  \n",
       "2     Nitin Menon      CK Nandan     NaN  \n",
       "3    AK Chaudhary  C Shamshuddin     NaN  \n",
       "4             NaN            NaN     NaN  "
      ]
     },
     "execution_count": 3,
     "metadata": {},
     "output_type": "execute_result"
    }
   ],
   "source": [
    "df.head()"
   ]
  },
  {
   "cell_type": "code",
   "execution_count": 4,
   "id": "203d53d8-b118-451b-ac84-d0f6163099a5",
   "metadata": {},
   "outputs": [
    {
     "data": {
      "text/html": [
       "<div>\n",
       "<style scoped>\n",
       "    .dataframe tbody tr th:only-of-type {\n",
       "        vertical-align: middle;\n",
       "    }\n",
       "\n",
       "    .dataframe tbody tr th {\n",
       "        vertical-align: top;\n",
       "    }\n",
       "\n",
       "    .dataframe thead th {\n",
       "        text-align: right;\n",
       "    }\n",
       "</style>\n",
       "<table border=\"1\" class=\"dataframe\">\n",
       "  <thead>\n",
       "    <tr style=\"text-align: right;\">\n",
       "      <th></th>\n",
       "      <th>id</th>\n",
       "      <th>Season</th>\n",
       "      <th>city</th>\n",
       "      <th>date</th>\n",
       "      <th>team1</th>\n",
       "      <th>team2</th>\n",
       "      <th>toss_winner</th>\n",
       "      <th>toss_decision</th>\n",
       "      <th>result</th>\n",
       "      <th>dl_applied</th>\n",
       "      <th>winner</th>\n",
       "      <th>win_by_runs</th>\n",
       "      <th>win_by_wickets</th>\n",
       "      <th>player_of_match</th>\n",
       "      <th>venue</th>\n",
       "      <th>umpire1</th>\n",
       "      <th>umpire2</th>\n",
       "      <th>umpire3</th>\n",
       "    </tr>\n",
       "  </thead>\n",
       "  <tbody>\n",
       "    <tr>\n",
       "      <th>751</th>\n",
       "      <td>11347</td>\n",
       "      <td>IPL-2019</td>\n",
       "      <td>Mumbai</td>\n",
       "      <td>05-05-2019</td>\n",
       "      <td>Kolkata Knight Riders</td>\n",
       "      <td>Mumbai Indians</td>\n",
       "      <td>Mumbai Indians</td>\n",
       "      <td>field</td>\n",
       "      <td>normal</td>\n",
       "      <td>0</td>\n",
       "      <td>Mumbai Indians</td>\n",
       "      <td>0</td>\n",
       "      <td>9</td>\n",
       "      <td>HH Pandya</td>\n",
       "      <td>Wankhede Stadium</td>\n",
       "      <td>Nanda Kishore</td>\n",
       "      <td>O Nandan</td>\n",
       "      <td>S Ravi</td>\n",
       "    </tr>\n",
       "    <tr>\n",
       "      <th>752</th>\n",
       "      <td>11412</td>\n",
       "      <td>IPL-2019</td>\n",
       "      <td>Chennai</td>\n",
       "      <td>07-05-2019</td>\n",
       "      <td>Chennai Super Kings</td>\n",
       "      <td>Mumbai Indians</td>\n",
       "      <td>Chennai Super Kings</td>\n",
       "      <td>bat</td>\n",
       "      <td>normal</td>\n",
       "      <td>0</td>\n",
       "      <td>Mumbai Indians</td>\n",
       "      <td>0</td>\n",
       "      <td>6</td>\n",
       "      <td>AS Yadav</td>\n",
       "      <td>M. A. Chidambaram Stadium</td>\n",
       "      <td>Nigel Llong</td>\n",
       "      <td>Nitin Menon</td>\n",
       "      <td>Ian Gould</td>\n",
       "    </tr>\n",
       "    <tr>\n",
       "      <th>753</th>\n",
       "      <td>11413</td>\n",
       "      <td>IPL-2019</td>\n",
       "      <td>Visakhapatnam</td>\n",
       "      <td>08-05-2019</td>\n",
       "      <td>Sunrisers Hyderabad</td>\n",
       "      <td>Delhi Capitals</td>\n",
       "      <td>Delhi Capitals</td>\n",
       "      <td>field</td>\n",
       "      <td>normal</td>\n",
       "      <td>0</td>\n",
       "      <td>Delhi Capitals</td>\n",
       "      <td>0</td>\n",
       "      <td>2</td>\n",
       "      <td>RR Pant</td>\n",
       "      <td>ACA-VDCA Stadium</td>\n",
       "      <td>NaN</td>\n",
       "      <td>NaN</td>\n",
       "      <td>NaN</td>\n",
       "    </tr>\n",
       "    <tr>\n",
       "      <th>754</th>\n",
       "      <td>11414</td>\n",
       "      <td>IPL-2019</td>\n",
       "      <td>Visakhapatnam</td>\n",
       "      <td>10-05-2019</td>\n",
       "      <td>Delhi Capitals</td>\n",
       "      <td>Chennai Super Kings</td>\n",
       "      <td>Chennai Super Kings</td>\n",
       "      <td>field</td>\n",
       "      <td>normal</td>\n",
       "      <td>0</td>\n",
       "      <td>Chennai Super Kings</td>\n",
       "      <td>0</td>\n",
       "      <td>6</td>\n",
       "      <td>F du Plessis</td>\n",
       "      <td>ACA-VDCA Stadium</td>\n",
       "      <td>Sundaram Ravi</td>\n",
       "      <td>Bruce Oxenford</td>\n",
       "      <td>Chettithody Shamshuddin</td>\n",
       "    </tr>\n",
       "    <tr>\n",
       "      <th>755</th>\n",
       "      <td>11415</td>\n",
       "      <td>IPL-2019</td>\n",
       "      <td>Hyderabad</td>\n",
       "      <td>12-05-2019</td>\n",
       "      <td>Mumbai Indians</td>\n",
       "      <td>Chennai Super Kings</td>\n",
       "      <td>Mumbai Indians</td>\n",
       "      <td>bat</td>\n",
       "      <td>normal</td>\n",
       "      <td>0</td>\n",
       "      <td>Mumbai Indians</td>\n",
       "      <td>1</td>\n",
       "      <td>0</td>\n",
       "      <td>JJ Bumrah</td>\n",
       "      <td>Rajiv Gandhi Intl. Cricket Stadium</td>\n",
       "      <td>Nitin Menon</td>\n",
       "      <td>Ian Gould</td>\n",
       "      <td>Nigel Llong</td>\n",
       "    </tr>\n",
       "  </tbody>\n",
       "</table>\n",
       "</div>"
      ],
      "text/plain": [
       "        id    Season           city        date                  team1  \\\n",
       "751  11347  IPL-2019         Mumbai  05-05-2019  Kolkata Knight Riders   \n",
       "752  11412  IPL-2019        Chennai  07-05-2019    Chennai Super Kings   \n",
       "753  11413  IPL-2019  Visakhapatnam  08-05-2019    Sunrisers Hyderabad   \n",
       "754  11414  IPL-2019  Visakhapatnam  10-05-2019         Delhi Capitals   \n",
       "755  11415  IPL-2019      Hyderabad  12-05-2019         Mumbai Indians   \n",
       "\n",
       "                   team2          toss_winner toss_decision  result  \\\n",
       "751       Mumbai Indians       Mumbai Indians         field  normal   \n",
       "752       Mumbai Indians  Chennai Super Kings           bat  normal   \n",
       "753       Delhi Capitals       Delhi Capitals         field  normal   \n",
       "754  Chennai Super Kings  Chennai Super Kings         field  normal   \n",
       "755  Chennai Super Kings       Mumbai Indians           bat  normal   \n",
       "\n",
       "     dl_applied               winner  win_by_runs  win_by_wickets  \\\n",
       "751           0       Mumbai Indians            0               9   \n",
       "752           0       Mumbai Indians            0               6   \n",
       "753           0       Delhi Capitals            0               2   \n",
       "754           0  Chennai Super Kings            0               6   \n",
       "755           0       Mumbai Indians            1               0   \n",
       "\n",
       "    player_of_match                               venue        umpire1  \\\n",
       "751       HH Pandya                    Wankhede Stadium  Nanda Kishore   \n",
       "752        AS Yadav           M. A. Chidambaram Stadium    Nigel Llong   \n",
       "753         RR Pant                    ACA-VDCA Stadium            NaN   \n",
       "754    F du Plessis                    ACA-VDCA Stadium  Sundaram Ravi   \n",
       "755       JJ Bumrah  Rajiv Gandhi Intl. Cricket Stadium    Nitin Menon   \n",
       "\n",
       "            umpire2                  umpire3  \n",
       "751        O Nandan                   S Ravi  \n",
       "752     Nitin Menon                Ian Gould  \n",
       "753             NaN                      NaN  \n",
       "754  Bruce Oxenford  Chettithody Shamshuddin  \n",
       "755       Ian Gould              Nigel Llong  "
      ]
     },
     "execution_count": 4,
     "metadata": {},
     "output_type": "execute_result"
    }
   ],
   "source": [
    "df.tail()"
   ]
  },
  {
   "cell_type": "code",
   "execution_count": 5,
   "id": "b33b1493-8200-46ee-b768-b0d9e465484d",
   "metadata": {},
   "outputs": [
    {
     "name": "stdout",
     "output_type": "stream",
     "text": [
      "<class 'pandas.core.frame.DataFrame'>\n",
      "RangeIndex: 756 entries, 0 to 755\n",
      "Data columns (total 18 columns):\n",
      " #   Column           Non-Null Count  Dtype \n",
      "---  ------           --------------  ----- \n",
      " 0   id               756 non-null    int64 \n",
      " 1   Season           756 non-null    object\n",
      " 2   city             749 non-null    object\n",
      " 3   date             756 non-null    object\n",
      " 4   team1            756 non-null    object\n",
      " 5   team2            756 non-null    object\n",
      " 6   toss_winner      756 non-null    object\n",
      " 7   toss_decision    756 non-null    object\n",
      " 8   result           756 non-null    object\n",
      " 9   dl_applied       756 non-null    int64 \n",
      " 10  winner           752 non-null    object\n",
      " 11  win_by_runs      756 non-null    int64 \n",
      " 12  win_by_wickets   756 non-null    int64 \n",
      " 13  player_of_match  752 non-null    object\n",
      " 14  venue            756 non-null    object\n",
      " 15  umpire1          754 non-null    object\n",
      " 16  umpire2          754 non-null    object\n",
      " 17  umpire3          119 non-null    object\n",
      "dtypes: int64(4), object(14)\n",
      "memory usage: 106.4+ KB\n"
     ]
    }
   ],
   "source": [
    "df.info()"
   ]
  },
  {
   "cell_type": "code",
   "execution_count": 6,
   "id": "52f8372f-31a4-43d2-9aa4-c118d110e986",
   "metadata": {},
   "outputs": [],
   "source": [
    "df.drop(columns={'id','umpire3','date'},inplace=True)"
   ]
  },
  {
   "cell_type": "code",
   "execution_count": 7,
   "id": "c6c70ea4-1c03-4f44-b15e-ab3c15251ff3",
   "metadata": {},
   "outputs": [
    {
     "data": {
      "text/html": [
       "<div>\n",
       "<style scoped>\n",
       "    .dataframe tbody tr th:only-of-type {\n",
       "        vertical-align: middle;\n",
       "    }\n",
       "\n",
       "    .dataframe tbody tr th {\n",
       "        vertical-align: top;\n",
       "    }\n",
       "\n",
       "    .dataframe thead th {\n",
       "        text-align: right;\n",
       "    }\n",
       "</style>\n",
       "<table border=\"1\" class=\"dataframe\">\n",
       "  <thead>\n",
       "    <tr style=\"text-align: right;\">\n",
       "      <th></th>\n",
       "      <th>Season</th>\n",
       "      <th>city</th>\n",
       "      <th>team1</th>\n",
       "      <th>team2</th>\n",
       "      <th>toss_winner</th>\n",
       "      <th>toss_decision</th>\n",
       "      <th>result</th>\n",
       "      <th>dl_applied</th>\n",
       "      <th>winner</th>\n",
       "      <th>win_by_runs</th>\n",
       "      <th>win_by_wickets</th>\n",
       "      <th>player_of_match</th>\n",
       "      <th>venue</th>\n",
       "      <th>umpire1</th>\n",
       "      <th>umpire2</th>\n",
       "    </tr>\n",
       "  </thead>\n",
       "  <tbody>\n",
       "    <tr>\n",
       "      <th>0</th>\n",
       "      <td>IPL-2017</td>\n",
       "      <td>Hyderabad</td>\n",
       "      <td>Sunrisers Hyderabad</td>\n",
       "      <td>Royal Challengers Bangalore</td>\n",
       "      <td>Royal Challengers Bangalore</td>\n",
       "      <td>field</td>\n",
       "      <td>normal</td>\n",
       "      <td>0</td>\n",
       "      <td>Sunrisers Hyderabad</td>\n",
       "      <td>35</td>\n",
       "      <td>0</td>\n",
       "      <td>Yuvraj Singh</td>\n",
       "      <td>Rajiv Gandhi International Stadium, Uppal</td>\n",
       "      <td>AY Dandekar</td>\n",
       "      <td>NJ Llong</td>\n",
       "    </tr>\n",
       "    <tr>\n",
       "      <th>1</th>\n",
       "      <td>IPL-2017</td>\n",
       "      <td>Pune</td>\n",
       "      <td>Mumbai Indians</td>\n",
       "      <td>Rising Pune Supergiant</td>\n",
       "      <td>Rising Pune Supergiant</td>\n",
       "      <td>field</td>\n",
       "      <td>normal</td>\n",
       "      <td>0</td>\n",
       "      <td>Rising Pune Supergiant</td>\n",
       "      <td>0</td>\n",
       "      <td>7</td>\n",
       "      <td>SPD Smith</td>\n",
       "      <td>Maharashtra Cricket Association Stadium</td>\n",
       "      <td>A Nand Kishore</td>\n",
       "      <td>S Ravi</td>\n",
       "    </tr>\n",
       "    <tr>\n",
       "      <th>2</th>\n",
       "      <td>IPL-2017</td>\n",
       "      <td>Rajkot</td>\n",
       "      <td>Gujarat Lions</td>\n",
       "      <td>Kolkata Knight Riders</td>\n",
       "      <td>Kolkata Knight Riders</td>\n",
       "      <td>field</td>\n",
       "      <td>normal</td>\n",
       "      <td>0</td>\n",
       "      <td>Kolkata Knight Riders</td>\n",
       "      <td>0</td>\n",
       "      <td>10</td>\n",
       "      <td>CA Lynn</td>\n",
       "      <td>Saurashtra Cricket Association Stadium</td>\n",
       "      <td>Nitin Menon</td>\n",
       "      <td>CK Nandan</td>\n",
       "    </tr>\n",
       "    <tr>\n",
       "      <th>3</th>\n",
       "      <td>IPL-2017</td>\n",
       "      <td>Indore</td>\n",
       "      <td>Rising Pune Supergiant</td>\n",
       "      <td>Kings XI Punjab</td>\n",
       "      <td>Kings XI Punjab</td>\n",
       "      <td>field</td>\n",
       "      <td>normal</td>\n",
       "      <td>0</td>\n",
       "      <td>Kings XI Punjab</td>\n",
       "      <td>0</td>\n",
       "      <td>6</td>\n",
       "      <td>GJ Maxwell</td>\n",
       "      <td>Holkar Cricket Stadium</td>\n",
       "      <td>AK Chaudhary</td>\n",
       "      <td>C Shamshuddin</td>\n",
       "    </tr>\n",
       "    <tr>\n",
       "      <th>4</th>\n",
       "      <td>IPL-2017</td>\n",
       "      <td>Bangalore</td>\n",
       "      <td>Royal Challengers Bangalore</td>\n",
       "      <td>Delhi Daredevils</td>\n",
       "      <td>Royal Challengers Bangalore</td>\n",
       "      <td>bat</td>\n",
       "      <td>normal</td>\n",
       "      <td>0</td>\n",
       "      <td>Royal Challengers Bangalore</td>\n",
       "      <td>15</td>\n",
       "      <td>0</td>\n",
       "      <td>KM Jadhav</td>\n",
       "      <td>M Chinnaswamy Stadium</td>\n",
       "      <td>NaN</td>\n",
       "      <td>NaN</td>\n",
       "    </tr>\n",
       "    <tr>\n",
       "      <th>...</th>\n",
       "      <td>...</td>\n",
       "      <td>...</td>\n",
       "      <td>...</td>\n",
       "      <td>...</td>\n",
       "      <td>...</td>\n",
       "      <td>...</td>\n",
       "      <td>...</td>\n",
       "      <td>...</td>\n",
       "      <td>...</td>\n",
       "      <td>...</td>\n",
       "      <td>...</td>\n",
       "      <td>...</td>\n",
       "      <td>...</td>\n",
       "      <td>...</td>\n",
       "      <td>...</td>\n",
       "    </tr>\n",
       "    <tr>\n",
       "      <th>751</th>\n",
       "      <td>IPL-2019</td>\n",
       "      <td>Mumbai</td>\n",
       "      <td>Kolkata Knight Riders</td>\n",
       "      <td>Mumbai Indians</td>\n",
       "      <td>Mumbai Indians</td>\n",
       "      <td>field</td>\n",
       "      <td>normal</td>\n",
       "      <td>0</td>\n",
       "      <td>Mumbai Indians</td>\n",
       "      <td>0</td>\n",
       "      <td>9</td>\n",
       "      <td>HH Pandya</td>\n",
       "      <td>Wankhede Stadium</td>\n",
       "      <td>Nanda Kishore</td>\n",
       "      <td>O Nandan</td>\n",
       "    </tr>\n",
       "    <tr>\n",
       "      <th>752</th>\n",
       "      <td>IPL-2019</td>\n",
       "      <td>Chennai</td>\n",
       "      <td>Chennai Super Kings</td>\n",
       "      <td>Mumbai Indians</td>\n",
       "      <td>Chennai Super Kings</td>\n",
       "      <td>bat</td>\n",
       "      <td>normal</td>\n",
       "      <td>0</td>\n",
       "      <td>Mumbai Indians</td>\n",
       "      <td>0</td>\n",
       "      <td>6</td>\n",
       "      <td>AS Yadav</td>\n",
       "      <td>M. A. Chidambaram Stadium</td>\n",
       "      <td>Nigel Llong</td>\n",
       "      <td>Nitin Menon</td>\n",
       "    </tr>\n",
       "    <tr>\n",
       "      <th>753</th>\n",
       "      <td>IPL-2019</td>\n",
       "      <td>Visakhapatnam</td>\n",
       "      <td>Sunrisers Hyderabad</td>\n",
       "      <td>Delhi Capitals</td>\n",
       "      <td>Delhi Capitals</td>\n",
       "      <td>field</td>\n",
       "      <td>normal</td>\n",
       "      <td>0</td>\n",
       "      <td>Delhi Capitals</td>\n",
       "      <td>0</td>\n",
       "      <td>2</td>\n",
       "      <td>RR Pant</td>\n",
       "      <td>ACA-VDCA Stadium</td>\n",
       "      <td>NaN</td>\n",
       "      <td>NaN</td>\n",
       "    </tr>\n",
       "    <tr>\n",
       "      <th>754</th>\n",
       "      <td>IPL-2019</td>\n",
       "      <td>Visakhapatnam</td>\n",
       "      <td>Delhi Capitals</td>\n",
       "      <td>Chennai Super Kings</td>\n",
       "      <td>Chennai Super Kings</td>\n",
       "      <td>field</td>\n",
       "      <td>normal</td>\n",
       "      <td>0</td>\n",
       "      <td>Chennai Super Kings</td>\n",
       "      <td>0</td>\n",
       "      <td>6</td>\n",
       "      <td>F du Plessis</td>\n",
       "      <td>ACA-VDCA Stadium</td>\n",
       "      <td>Sundaram Ravi</td>\n",
       "      <td>Bruce Oxenford</td>\n",
       "    </tr>\n",
       "    <tr>\n",
       "      <th>755</th>\n",
       "      <td>IPL-2019</td>\n",
       "      <td>Hyderabad</td>\n",
       "      <td>Mumbai Indians</td>\n",
       "      <td>Chennai Super Kings</td>\n",
       "      <td>Mumbai Indians</td>\n",
       "      <td>bat</td>\n",
       "      <td>normal</td>\n",
       "      <td>0</td>\n",
       "      <td>Mumbai Indians</td>\n",
       "      <td>1</td>\n",
       "      <td>0</td>\n",
       "      <td>JJ Bumrah</td>\n",
       "      <td>Rajiv Gandhi Intl. Cricket Stadium</td>\n",
       "      <td>Nitin Menon</td>\n",
       "      <td>Ian Gould</td>\n",
       "    </tr>\n",
       "  </tbody>\n",
       "</table>\n",
       "<p>756 rows × 15 columns</p>\n",
       "</div>"
      ],
      "text/plain": [
       "       Season           city                        team1  \\\n",
       "0    IPL-2017      Hyderabad          Sunrisers Hyderabad   \n",
       "1    IPL-2017           Pune               Mumbai Indians   \n",
       "2    IPL-2017         Rajkot                Gujarat Lions   \n",
       "3    IPL-2017         Indore       Rising Pune Supergiant   \n",
       "4    IPL-2017      Bangalore  Royal Challengers Bangalore   \n",
       "..        ...            ...                          ...   \n",
       "751  IPL-2019         Mumbai        Kolkata Knight Riders   \n",
       "752  IPL-2019        Chennai          Chennai Super Kings   \n",
       "753  IPL-2019  Visakhapatnam          Sunrisers Hyderabad   \n",
       "754  IPL-2019  Visakhapatnam               Delhi Capitals   \n",
       "755  IPL-2019      Hyderabad               Mumbai Indians   \n",
       "\n",
       "                           team2                  toss_winner toss_decision  \\\n",
       "0    Royal Challengers Bangalore  Royal Challengers Bangalore         field   \n",
       "1         Rising Pune Supergiant       Rising Pune Supergiant         field   \n",
       "2          Kolkata Knight Riders        Kolkata Knight Riders         field   \n",
       "3                Kings XI Punjab              Kings XI Punjab         field   \n",
       "4               Delhi Daredevils  Royal Challengers Bangalore           bat   \n",
       "..                           ...                          ...           ...   \n",
       "751               Mumbai Indians               Mumbai Indians         field   \n",
       "752               Mumbai Indians          Chennai Super Kings           bat   \n",
       "753               Delhi Capitals               Delhi Capitals         field   \n",
       "754          Chennai Super Kings          Chennai Super Kings         field   \n",
       "755          Chennai Super Kings               Mumbai Indians           bat   \n",
       "\n",
       "     result  dl_applied                       winner  win_by_runs  \\\n",
       "0    normal           0          Sunrisers Hyderabad           35   \n",
       "1    normal           0       Rising Pune Supergiant            0   \n",
       "2    normal           0        Kolkata Knight Riders            0   \n",
       "3    normal           0              Kings XI Punjab            0   \n",
       "4    normal           0  Royal Challengers Bangalore           15   \n",
       "..      ...         ...                          ...          ...   \n",
       "751  normal           0               Mumbai Indians            0   \n",
       "752  normal           0               Mumbai Indians            0   \n",
       "753  normal           0               Delhi Capitals            0   \n",
       "754  normal           0          Chennai Super Kings            0   \n",
       "755  normal           0               Mumbai Indians            1   \n",
       "\n",
       "     win_by_wickets player_of_match  \\\n",
       "0                 0    Yuvraj Singh   \n",
       "1                 7       SPD Smith   \n",
       "2                10         CA Lynn   \n",
       "3                 6      GJ Maxwell   \n",
       "4                 0       KM Jadhav   \n",
       "..              ...             ...   \n",
       "751               9       HH Pandya   \n",
       "752               6        AS Yadav   \n",
       "753               2         RR Pant   \n",
       "754               6    F du Plessis   \n",
       "755               0       JJ Bumrah   \n",
       "\n",
       "                                         venue         umpire1         umpire2  \n",
       "0    Rajiv Gandhi International Stadium, Uppal     AY Dandekar        NJ Llong  \n",
       "1      Maharashtra Cricket Association Stadium  A Nand Kishore          S Ravi  \n",
       "2       Saurashtra Cricket Association Stadium     Nitin Menon       CK Nandan  \n",
       "3                       Holkar Cricket Stadium    AK Chaudhary   C Shamshuddin  \n",
       "4                        M Chinnaswamy Stadium             NaN             NaN  \n",
       "..                                         ...             ...             ...  \n",
       "751                           Wankhede Stadium   Nanda Kishore        O Nandan  \n",
       "752                  M. A. Chidambaram Stadium     Nigel Llong     Nitin Menon  \n",
       "753                           ACA-VDCA Stadium             NaN             NaN  \n",
       "754                           ACA-VDCA Stadium   Sundaram Ravi  Bruce Oxenford  \n",
       "755         Rajiv Gandhi Intl. Cricket Stadium     Nitin Menon       Ian Gould  \n",
       "\n",
       "[756 rows x 15 columns]"
      ]
     },
     "execution_count": 7,
     "metadata": {},
     "output_type": "execute_result"
    }
   ],
   "source": [
    "df.drop_duplicates()"
   ]
  },
  {
   "cell_type": "code",
   "execution_count": 8,
   "id": "5589dd28-f1b7-4e2e-bd02-56184852905e",
   "metadata": {},
   "outputs": [],
   "source": [
    "df = df.dropna(subset=['player_of_match', 'winner'])"
   ]
  },
  {
   "cell_type": "code",
   "execution_count": 9,
   "id": "9ea158d4-abcf-4b17-b573-11eeab6cf9f4",
   "metadata": {},
   "outputs": [
    {
     "data": {
      "text/plain": [
       "(752, 15)"
      ]
     },
     "execution_count": 9,
     "metadata": {},
     "output_type": "execute_result"
    }
   ],
   "source": [
    "df.shape"
   ]
  },
  {
   "cell_type": "code",
   "execution_count": 10,
   "id": "ae00e309-333b-47db-8afe-bb55faf83d16",
   "metadata": {},
   "outputs": [
    {
     "data": {
      "text/plain": [
       "7"
      ]
     },
     "execution_count": 10,
     "metadata": {},
     "output_type": "execute_result"
    }
   ],
   "source": [
    "df['city'].isnull().sum()"
   ]
  },
  {
   "cell_type": "code",
   "execution_count": 11,
   "id": "bb7f9a13-846b-4480-bb58-453831b07644",
   "metadata": {},
   "outputs": [
    {
     "name": "stdout",
     "output_type": "stream",
     "text": [
      "                                   venue city\n",
      "461  Dubai International Cricket Stadium  NaN\n",
      "462  Dubai International Cricket Stadium  NaN\n",
      "466  Dubai International Cricket Stadium  NaN\n",
      "468  Dubai International Cricket Stadium  NaN\n",
      "469  Dubai International Cricket Stadium  NaN\n",
      "474  Dubai International Cricket Stadium  NaN\n",
      "476  Dubai International Cricket Stadium  NaN\n"
     ]
    }
   ],
   "source": [
    "null_city = df[df['city'].isnull()]\n",
    "print(null_city[['venue', 'city']])"
   ]
  },
  {
   "cell_type": "code",
   "execution_count": 12,
   "id": "bcae81cf-817f-4b97-9daa-849c6808ac88",
   "metadata": {},
   "outputs": [
    {
     "name": "stdout",
     "output_type": "stream",
     "text": [
      "[]\n"
     ]
    }
   ],
   "source": [
    "city_for_dubai = df[df['venue'] == \"Dubai International Cricket Stadium\"]['city'].dropna().unique()\n",
    "print(city_for_dubai)"
   ]
  },
  {
   "cell_type": "code",
   "execution_count": 13,
   "id": "39b5c66d-e59e-40d4-a906-cbc9846e2fc2",
   "metadata": {},
   "outputs": [],
   "source": [
    "df['city'].fillna(\"Dubai\",inplace=True)"
   ]
  },
  {
   "cell_type": "code",
   "execution_count": 14,
   "id": "1afc7801-69c8-42ee-9072-14aeb3542b82",
   "metadata": {},
   "outputs": [
    {
     "name": "stdout",
     "output_type": "stream",
     "text": [
      "<class 'pandas.core.frame.DataFrame'>\n",
      "Index: 752 entries, 0 to 755\n",
      "Data columns (total 15 columns):\n",
      " #   Column           Non-Null Count  Dtype \n",
      "---  ------           --------------  ----- \n",
      " 0   Season           752 non-null    object\n",
      " 1   city             752 non-null    object\n",
      " 2   team1            752 non-null    object\n",
      " 3   team2            752 non-null    object\n",
      " 4   toss_winner      752 non-null    object\n",
      " 5   toss_decision    752 non-null    object\n",
      " 6   result           752 non-null    object\n",
      " 7   dl_applied       752 non-null    int64 \n",
      " 8   winner           752 non-null    object\n",
      " 9   win_by_runs      752 non-null    int64 \n",
      " 10  win_by_wickets   752 non-null    int64 \n",
      " 11  player_of_match  752 non-null    object\n",
      " 12  venue            752 non-null    object\n",
      " 13  umpire1          750 non-null    object\n",
      " 14  umpire2          750 non-null    object\n",
      "dtypes: int64(3), object(12)\n",
      "memory usage: 94.0+ KB\n"
     ]
    }
   ],
   "source": [
    "df.info()"
   ]
  },
  {
   "cell_type": "code",
   "execution_count": 15,
   "id": "c1ec17b0-81f0-4221-a3ff-3d1b4497cda2",
   "metadata": {},
   "outputs": [],
   "source": [
    "df['year'] = df['Season'].str.extract(r'(\\d{4})')\n",
    "df['year'] = df['year'].astype(int)\n",
    "df = df.drop('Season', axis=1)"
   ]
  },
  {
   "cell_type": "code",
   "execution_count": 16,
   "id": "49f10396-3bdb-42e6-a63b-875e2256ff5c",
   "metadata": {},
   "outputs": [],
   "source": [
    "df['umpire1'].fillna('Unknown',inplace=True)"
   ]
  },
  {
   "cell_type": "code",
   "execution_count": 17,
   "id": "4e739727-c7b9-489b-9afe-4c020de8ded6",
   "metadata": {},
   "outputs": [],
   "source": [
    "df['umpire2'].fillna('Unknown',inplace=True)"
   ]
  },
  {
   "cell_type": "code",
   "execution_count": 18,
   "id": "556462ad-aa3a-417f-a6f7-17cacc1bcda4",
   "metadata": {},
   "outputs": [
    {
     "data": {
      "text/plain": [
       "array(['Hyderabad', 'Pune', 'Rajkot', 'Indore', 'Bangalore', 'Mumbai',\n",
       "       'Kolkata', 'Delhi', 'Chandigarh', 'Kanpur', 'Jaipur', 'Chennai',\n",
       "       'Cape Town', 'Port Elizabeth', 'Durban', 'Centurion',\n",
       "       'East London', 'Johannesburg', 'Kimberley', 'Bloemfontein',\n",
       "       'Ahmedabad', 'Cuttack', 'Nagpur', 'Dharamsala', 'Kochi',\n",
       "       'Visakhapatnam', 'Raipur', 'Ranchi', 'Abu Dhabi', 'Sharjah',\n",
       "       'Dubai', 'Mohali', 'Bengaluru'], dtype=object)"
      ]
     },
     "execution_count": 18,
     "metadata": {},
     "output_type": "execute_result"
    }
   ],
   "source": [
    "df['city'].unique()"
   ]
  },
  {
   "cell_type": "code",
   "execution_count": 19,
   "id": "61aed763-ad36-4cdf-a5e1-2bc8768ca4a8",
   "metadata": {},
   "outputs": [
    {
     "data": {
      "text/plain": [
       "array(['Sunrisers Hyderabad', 'Mumbai Indians', 'Gujarat Lions',\n",
       "       'Rising Pune Supergiant', 'Royal Challengers Bangalore',\n",
       "       'Kolkata Knight Riders', 'Delhi Daredevils', 'Kings XI Punjab',\n",
       "       'Chennai Super Kings', 'Rajasthan Royals', 'Deccan Chargers',\n",
       "       'Kochi Tuskers Kerala', 'Pune Warriors', 'Rising Pune Supergiants',\n",
       "       'Delhi Capitals'], dtype=object)"
      ]
     },
     "execution_count": 19,
     "metadata": {},
     "output_type": "execute_result"
    }
   ],
   "source": [
    "df['team1'].unique()"
   ]
  },
  {
   "cell_type": "code",
   "execution_count": 20,
   "id": "bf44d8ed-c59f-4219-be1b-7b85b1f9da14",
   "metadata": {},
   "outputs": [],
   "source": [
    "team_map = {\n",
    "    'Rising Pune Supergiant': 'Pune Warriors',\n",
    "    'Rising Pune Supergiants': 'Pune Warriors',\n",
    "    'Delhi Daredevils': 'Delhi Capitals'\n",
    "}\n",
    "columns = ['team1', 'team2', 'toss_winner', 'winner']\n",
    "for col in columns:\n",
    "    df[col] = df[col].replace(team_map)\n"
   ]
  },
  {
   "cell_type": "code",
   "execution_count": 21,
   "id": "c87b4b40-578b-4551-aaa4-d17cc2ca7095",
   "metadata": {},
   "outputs": [
    {
     "data": {
      "text/plain": [
       "array(['Sunrisers Hyderabad', 'Mumbai Indians', 'Gujarat Lions',\n",
       "       'Pune Warriors', 'Royal Challengers Bangalore',\n",
       "       'Kolkata Knight Riders', 'Delhi Capitals', 'Kings XI Punjab',\n",
       "       'Chennai Super Kings', 'Rajasthan Royals', 'Deccan Chargers',\n",
       "       'Kochi Tuskers Kerala'], dtype=object)"
      ]
     },
     "execution_count": 21,
     "metadata": {},
     "output_type": "execute_result"
    }
   ],
   "source": [
    "df['team1'].unique()"
   ]
  },
  {
   "cell_type": "code",
   "execution_count": 22,
   "id": "828a1226-73c8-4c8e-9b03-0695856f79fa",
   "metadata": {},
   "outputs": [
    {
     "data": {
      "text/plain": [
       "41"
      ]
     },
     "execution_count": 22,
     "metadata": {},
     "output_type": "execute_result"
    }
   ],
   "source": [
    "df['venue'].nunique()"
   ]
  },
  {
   "cell_type": "code",
   "execution_count": 23,
   "id": "44d0465c-ef5a-40e0-a6e7-97fe2d95d9ec",
   "metadata": {},
   "outputs": [
    {
     "name": "stdout",
     "output_type": "stream",
     "text": [
      "- Aca-Vdca Stadium\n",
      "- Arun Jaitley Stadium\n",
      "- Barabati Stadium\n",
      "- Brabourne Stadium\n",
      "- Buffalo Park\n",
      "- De Beers Diamond Oval\n",
      "- Dr Dy Patil Sports Academy\n",
      "- Dubai International Cricket Stadium\n",
      "- Eden Gardens\n",
      "- Green Park\n",
      "- Himachal Pradesh Cricket Association Stadium\n",
      "- Holkar Cricket Stadium\n",
      "- Is Bindra Stadium\n",
      "- Jsca International Stadium Complex\n",
      "- Kingsmead\n",
      "- M A Chidambaram Stadium\n",
      "- M Chinnaswamy Stadium\n",
      "- Maharashtra Cricket Association Stadium\n",
      "- Nehru Stadium\n",
      "- New Wanderers Stadium\n",
      "- Newlands\n",
      "- Outsurance Oval\n",
      "- Punjab Cricket Association Stadium\n",
      "- Rajiv Gandhi International Stadium\n",
      "- Sardar Patel Stadium\n",
      "- Saurashtra Cricket Association Stadium\n",
      "- Sawai Mansingh Stadium\n",
      "- Shaheed Veer Narayan Singh International Stadium\n",
      "- Sharjah Cricket Stadium\n",
      "- Sheikh Zayed Stadium\n",
      "- St George'S Park\n",
      "- Subrata Roy Sahara Stadium\n",
      "- Supersport Park\n",
      "- Vidarbha Cricket Association Stadium\n",
      "- Wankhede Stadium\n"
     ]
    }
   ],
   "source": [
    "def clean_stadium(name: str) -> str:\n",
    "\n",
    "    if pd.isna(name):\n",
    "        return name\n",
    "    name = str(name).lower().replace('.', '')\n",
    "    name = re.sub(r'\\bintl\\b|\\bint\\b', 'international', name)\n",
    "    name = re.sub(r'\\bacademy\\b', 'academy', name)\n",
    "    name = re.sub(r'\\baca[- ]?vdca\\b', 'aca vdca', name)\n",
    "    name = re.sub(r'\\s+', ' ', name).strip()\n",
    "\n",
    "    if ',' in name:\n",
    "        first, _ = [p.strip() for p in name.split(',', 1)]\n",
    "        if first.endswith('stadium'):\n",
    "            name = first\n",
    "    mapping = {\n",
    "        'feroz shah kotla':                                'arun jaitley stadium',\n",
    "        'feroz shah kotla ground':                         'arun jaitley stadium',\n",
    "        'punjab cricket association stadium mohali':       'is bindra stadium',\n",
    "        'punjab cricket association is bindra stadium':    'is bindra stadium',\n",
    "        'rajiv gandhi international stadium uppal':        'rajiv gandhi international stadium',\n",
    "        'rajiv gandhi intl cricket stadium':               'rajiv gandhi international stadium',\n",
    "        'rajiv gandhi international cricket stadium':      'rajiv gandhi international stadium',\n",
    "        'ma chidambaram stadium chepauk':                  'm a chidambaram stadium',\n",
    "        'ma chidambaram stadium':                          'm a chidambaram stadium',\n",
    "        'aca vdca stadium':                                'aca-vdca stadium',\n",
    "        'dr ys rajasekhara reddy aca vdca cricket stadium':'aca-vdca stadium',\n",
    "        \"st george's park\":                                \"st george's park\"\n",
    "    }\n",
    "\n",
    "    name = mapping.get(name, name)\n",
    "    return name.title()         \n",
    "\n",
    "df['venue_clean'] = df['venue'].apply(clean_stadium)\n",
    "\n",
    "cleaned = sorted({clean_stadium(n) for n in df['venue'].unique()})\n",
    "for c in cleaned:\n",
    "    print('-', c)\n"
   ]
  },
  {
   "cell_type": "code",
   "execution_count": 24,
   "id": "dfc31bf1-7e58-46aa-a4e2-436d22acd1e7",
   "metadata": {},
   "outputs": [
    {
     "data": {
      "text/plain": [
       "35"
      ]
     },
     "execution_count": 24,
     "metadata": {},
     "output_type": "execute_result"
    }
   ],
   "source": [
    "df['venue_clean'].nunique()"
   ]
  },
  {
   "cell_type": "code",
   "execution_count": 25,
   "id": "052fd385-2930-46ab-b617-de0dc123d65f",
   "metadata": {},
   "outputs": [],
   "source": [
    "df.drop('venue',inplace=True,axis=1)"
   ]
  },
  {
   "cell_type": "code",
   "execution_count": 26,
   "id": "49dd3292-cb28-4e07-a9e1-af8d27db7b74",
   "metadata": {},
   "outputs": [],
   "source": [
    "df['venue'] = df['venue_clean']"
   ]
  },
  {
   "cell_type": "code",
   "execution_count": 27,
   "id": "2d075d54-8749-498e-9b04-f28adbba776a",
   "metadata": {},
   "outputs": [],
   "source": [
    "df.drop('venue_clean',inplace=True,axis=1)"
   ]
  },
  {
   "cell_type": "code",
   "execution_count": 28,
   "id": "bd2143ea-d537-4668-bcfe-a3dbe40e0371",
   "metadata": {},
   "outputs": [
    {
     "data": {
      "text/html": [
       "<div>\n",
       "<style scoped>\n",
       "    .dataframe tbody tr th:only-of-type {\n",
       "        vertical-align: middle;\n",
       "    }\n",
       "\n",
       "    .dataframe tbody tr th {\n",
       "        vertical-align: top;\n",
       "    }\n",
       "\n",
       "    .dataframe thead th {\n",
       "        text-align: right;\n",
       "    }\n",
       "</style>\n",
       "<table border=\"1\" class=\"dataframe\">\n",
       "  <thead>\n",
       "    <tr style=\"text-align: right;\">\n",
       "      <th></th>\n",
       "      <th>city</th>\n",
       "      <th>team1</th>\n",
       "      <th>team2</th>\n",
       "      <th>toss_winner</th>\n",
       "      <th>toss_decision</th>\n",
       "      <th>result</th>\n",
       "      <th>dl_applied</th>\n",
       "      <th>winner</th>\n",
       "      <th>win_by_runs</th>\n",
       "      <th>win_by_wickets</th>\n",
       "      <th>player_of_match</th>\n",
       "      <th>umpire1</th>\n",
       "      <th>umpire2</th>\n",
       "      <th>year</th>\n",
       "      <th>venue</th>\n",
       "    </tr>\n",
       "  </thead>\n",
       "  <tbody>\n",
       "    <tr>\n",
       "      <th>0</th>\n",
       "      <td>Hyderabad</td>\n",
       "      <td>Sunrisers Hyderabad</td>\n",
       "      <td>Royal Challengers Bangalore</td>\n",
       "      <td>Royal Challengers Bangalore</td>\n",
       "      <td>field</td>\n",
       "      <td>normal</td>\n",
       "      <td>0</td>\n",
       "      <td>Sunrisers Hyderabad</td>\n",
       "      <td>35</td>\n",
       "      <td>0</td>\n",
       "      <td>Yuvraj Singh</td>\n",
       "      <td>AY Dandekar</td>\n",
       "      <td>NJ Llong</td>\n",
       "      <td>2017</td>\n",
       "      <td>Rajiv Gandhi International Stadium</td>\n",
       "    </tr>\n",
       "    <tr>\n",
       "      <th>1</th>\n",
       "      <td>Pune</td>\n",
       "      <td>Mumbai Indians</td>\n",
       "      <td>Pune Warriors</td>\n",
       "      <td>Pune Warriors</td>\n",
       "      <td>field</td>\n",
       "      <td>normal</td>\n",
       "      <td>0</td>\n",
       "      <td>Pune Warriors</td>\n",
       "      <td>0</td>\n",
       "      <td>7</td>\n",
       "      <td>SPD Smith</td>\n",
       "      <td>A Nand Kishore</td>\n",
       "      <td>S Ravi</td>\n",
       "      <td>2017</td>\n",
       "      <td>Maharashtra Cricket Association Stadium</td>\n",
       "    </tr>\n",
       "    <tr>\n",
       "      <th>2</th>\n",
       "      <td>Rajkot</td>\n",
       "      <td>Gujarat Lions</td>\n",
       "      <td>Kolkata Knight Riders</td>\n",
       "      <td>Kolkata Knight Riders</td>\n",
       "      <td>field</td>\n",
       "      <td>normal</td>\n",
       "      <td>0</td>\n",
       "      <td>Kolkata Knight Riders</td>\n",
       "      <td>0</td>\n",
       "      <td>10</td>\n",
       "      <td>CA Lynn</td>\n",
       "      <td>Nitin Menon</td>\n",
       "      <td>CK Nandan</td>\n",
       "      <td>2017</td>\n",
       "      <td>Saurashtra Cricket Association Stadium</td>\n",
       "    </tr>\n",
       "    <tr>\n",
       "      <th>3</th>\n",
       "      <td>Indore</td>\n",
       "      <td>Pune Warriors</td>\n",
       "      <td>Kings XI Punjab</td>\n",
       "      <td>Kings XI Punjab</td>\n",
       "      <td>field</td>\n",
       "      <td>normal</td>\n",
       "      <td>0</td>\n",
       "      <td>Kings XI Punjab</td>\n",
       "      <td>0</td>\n",
       "      <td>6</td>\n",
       "      <td>GJ Maxwell</td>\n",
       "      <td>AK Chaudhary</td>\n",
       "      <td>C Shamshuddin</td>\n",
       "      <td>2017</td>\n",
       "      <td>Holkar Cricket Stadium</td>\n",
       "    </tr>\n",
       "    <tr>\n",
       "      <th>4</th>\n",
       "      <td>Bangalore</td>\n",
       "      <td>Royal Challengers Bangalore</td>\n",
       "      <td>Delhi Capitals</td>\n",
       "      <td>Royal Challengers Bangalore</td>\n",
       "      <td>bat</td>\n",
       "      <td>normal</td>\n",
       "      <td>0</td>\n",
       "      <td>Royal Challengers Bangalore</td>\n",
       "      <td>15</td>\n",
       "      <td>0</td>\n",
       "      <td>KM Jadhav</td>\n",
       "      <td>Unknown</td>\n",
       "      <td>Unknown</td>\n",
       "      <td>2017</td>\n",
       "      <td>M Chinnaswamy Stadium</td>\n",
       "    </tr>\n",
       "  </tbody>\n",
       "</table>\n",
       "</div>"
      ],
      "text/plain": [
       "        city                        team1                        team2  \\\n",
       "0  Hyderabad          Sunrisers Hyderabad  Royal Challengers Bangalore   \n",
       "1       Pune               Mumbai Indians                Pune Warriors   \n",
       "2     Rajkot                Gujarat Lions        Kolkata Knight Riders   \n",
       "3     Indore                Pune Warriors              Kings XI Punjab   \n",
       "4  Bangalore  Royal Challengers Bangalore               Delhi Capitals   \n",
       "\n",
       "                   toss_winner toss_decision  result  dl_applied  \\\n",
       "0  Royal Challengers Bangalore         field  normal           0   \n",
       "1                Pune Warriors         field  normal           0   \n",
       "2        Kolkata Knight Riders         field  normal           0   \n",
       "3              Kings XI Punjab         field  normal           0   \n",
       "4  Royal Challengers Bangalore           bat  normal           0   \n",
       "\n",
       "                        winner  win_by_runs  win_by_wickets player_of_match  \\\n",
       "0          Sunrisers Hyderabad           35               0    Yuvraj Singh   \n",
       "1                Pune Warriors            0               7       SPD Smith   \n",
       "2        Kolkata Knight Riders            0              10         CA Lynn   \n",
       "3              Kings XI Punjab            0               6      GJ Maxwell   \n",
       "4  Royal Challengers Bangalore           15               0       KM Jadhav   \n",
       "\n",
       "          umpire1        umpire2  year  \\\n",
       "0     AY Dandekar       NJ Llong  2017   \n",
       "1  A Nand Kishore         S Ravi  2017   \n",
       "2     Nitin Menon      CK Nandan  2017   \n",
       "3    AK Chaudhary  C Shamshuddin  2017   \n",
       "4         Unknown        Unknown  2017   \n",
       "\n",
       "                                     venue  \n",
       "0       Rajiv Gandhi International Stadium  \n",
       "1  Maharashtra Cricket Association Stadium  \n",
       "2   Saurashtra Cricket Association Stadium  \n",
       "3                   Holkar Cricket Stadium  \n",
       "4                    M Chinnaswamy Stadium  "
      ]
     },
     "execution_count": 28,
     "metadata": {},
     "output_type": "execute_result"
    }
   ],
   "source": [
    "df.head()"
   ]
  },
  {
   "cell_type": "code",
   "execution_count": 29,
   "id": "3546ee29-a64a-4b3b-9397-d74b2e0fb5ad",
   "metadata": {},
   "outputs": [
    {
     "data": {
      "text/plain": [
       "array(['normal', 'tie'], dtype=object)"
      ]
     },
     "execution_count": 29,
     "metadata": {},
     "output_type": "execute_result"
    }
   ],
   "source": [
    "df['result'].unique()"
   ]
  },
  {
   "cell_type": "code",
   "execution_count": 30,
   "id": "11daee39-13fc-4052-aafe-9cd1441972d7",
   "metadata": {},
   "outputs": [
    {
     "data": {
      "text/plain": [
       "226"
      ]
     },
     "execution_count": 30,
     "metadata": {},
     "output_type": "execute_result"
    }
   ],
   "source": [
    "df['player_of_match'].nunique()"
   ]
  },
  {
   "cell_type": "code",
   "execution_count": 31,
   "id": "2ebd1a3d-0ab9-4dc7-b710-f11539dd57df",
   "metadata": {},
   "outputs": [
    {
     "data": {
      "text/plain": [
       "array([2017, 2008, 2009, 2010, 2011, 2012, 2013, 2014, 2015, 2016, 2018,\n",
       "       2019])"
      ]
     },
     "execution_count": 31,
     "metadata": {},
     "output_type": "execute_result"
    }
   ],
   "source": [
    "df['year'].unique()"
   ]
  },
  {
   "cell_type": "code",
   "execution_count": 32,
   "id": "5312e0c3-3323-4fd0-9731-20cb6607ed98",
   "metadata": {},
   "outputs": [
    {
     "name": "stdout",
     "output_type": "stream",
     "text": [
      "Kochi Tuskers Kerala played in the year: [2011]\n"
     ]
    }
   ],
   "source": [
    "mask = (df['team1'] == 'Kochi Tuskers Kerala') | (df['team2'] == 'Kochi Tuskers Kerala')\n",
    "years_played = df.loc[mask, 'year'].unique()\n",
    "print(\"Kochi Tuskers Kerala played in the year:\", sorted(years_played))"
   ]
  },
  {
   "cell_type": "code",
   "execution_count": 33,
   "id": "23706b95-8fd1-4d89-9ff5-926f1a127d22",
   "metadata": {},
   "outputs": [],
   "source": [
    "df = df[~df[['team1', 'team2']].eq('Kochi Tuskers Kerala').any(axis=1)].copy()"
   ]
  },
  {
   "cell_type": "code",
   "execution_count": 34,
   "id": "957b2413-1766-4799-803a-3c41bde700f8",
   "metadata": {},
   "outputs": [
    {
     "name": "stdout",
     "output_type": "stream",
     "text": [
      "Gujarat Lions played in the year: [2016, 2017]\n"
     ]
    }
   ],
   "source": [
    "mask = (df['team1'] == 'Gujarat Lions') | (df['team2'] == 'Gujarat Lions')\n",
    "years_played = df.loc[mask, 'year'].unique()\n",
    "print(\"Gujarat Lions played in the year:\", sorted(years_played))"
   ]
  },
  {
   "cell_type": "code",
   "execution_count": 35,
   "id": "41f7fb60-7848-4fbd-8255-b02583f45986",
   "metadata": {},
   "outputs": [
    {
     "data": {
      "text/plain": [
       "array(['Sunrisers Hyderabad', 'Mumbai Indians', 'Gujarat Lions',\n",
       "       'Pune Warriors', 'Royal Challengers Bangalore',\n",
       "       'Kolkata Knight Riders', 'Delhi Capitals', 'Kings XI Punjab',\n",
       "       'Chennai Super Kings', 'Rajasthan Royals', 'Deccan Chargers'],\n",
       "      dtype=object)"
      ]
     },
     "execution_count": 35,
     "metadata": {},
     "output_type": "execute_result"
    }
   ],
   "source": [
    "df['team1'].unique()"
   ]
  },
  {
   "cell_type": "markdown",
   "id": "0b51ac51-6a12-40c5-9da5-888e59b768c0",
   "metadata": {},
   "source": [
    "# EDA Analysis"
   ]
  },
  {
   "cell_type": "code",
   "execution_count": 37,
   "id": "ab6cf70a-82f4-48b4-a641-86b2c1fccbfd",
   "metadata": {},
   "outputs": [
    {
     "data": {
      "image/png": "[encoded data removed]",
      "text/plain": [
       "<Figure size 1500x3000 with 2 Axes>"
      ]
     },
     "metadata": {},
     "output_type": "display_data"
    }
   ],
   "source": [
    "numeric_columns = df[['win_by_runs','win_by_wickets']]\n",
    "\n",
    "plt.figure(figsize=(15, 30))\n",
    "for i in range(len(numeric_columns.columns)):\n",
    "    plt.subplot(8, 2, i + 1)\n",
    "    sns.boxplot(y=numeric_columns.columns[i], data=df)\n",
    "    plt.title(numeric_columns.columns[i])\n",
    "\n",
    "plt.show()"
   ]
  },
  {
   "cell_type": "code",
   "execution_count": 38,
   "id": "b519c306-7720-4d7e-ab05-738b7077e76a",
   "metadata": {},
   "outputs": [
    {
     "data": {
      "image/png": "[encoded data removed]",
      "text/plain": [
       "<Figure size 1500x2000 with 4 Axes>"
      ]
     },
     "metadata": {},
     "output_type": "display_data"
    }
   ],
   "source": [
    "categorical_cols = ['team1', 'toss_winner', 'toss_decision', 'winner']\n",
    "\n",
    "plt.figure(figsize=(15, 20))\n",
    "\n",
    "for i, col in enumerate(categorical_cols):\n",
    "    plt.subplot(len(categorical_cols), 1, i + 1)\n",
    "    sns.countplot(y=col, data=df, order=df[col].value_counts().index, palette='Set2')\n",
    "    plt.title(f'Count Plot of {col}')\n",
    "    plt.ylabel(col)\n",
    "    plt.xlabel('Count')\n",
    "plt.tight_layout()\n",
    "plt.show()\n"
   ]
  },
  {
   "cell_type": "code",
   "execution_count": 39,
   "id": "8e19795e-e332-4796-90be-c812d990c6ac",
   "metadata": {},
   "outputs": [
    {
     "data": {
      "image/png": "[encoded data removed]",
      "text/plain": [
       "<Figure size 1200x500 with 1 Axes>"
      ]
     },
     "metadata": {},
     "output_type": "display_data"
    }
   ],
   "source": [
    "umpires = pd.concat([df['umpire1'], df['umpire2']])\n",
    "top_umpires = umpires.value_counts().head(10).index\n",
    "\n",
    "plt.figure(figsize=(12,5))\n",
    "sns.countplot(y=umpires[umpires.isin(top_umpires)], order=top_umpires, palette='viridis')\n",
    "plt.title('Top 10 Umpires by Match Count')\n",
    "plt.xlabel('Count')\n",
    "plt.ylabel('Umpire')\n",
    "plt.tight_layout()\n",
    "plt.show()\n"
   ]
  },
  {
   "cell_type": "code",
   "execution_count": 40,
   "id": "11b36dce-b6a6-4d15-aea8-f78962e2dd58",
   "metadata": {},
   "outputs": [
    {
     "data": {
      "image/png": "[encoded data removed]",
      "text/plain": [
       "<Figure size 1200x500 with 1 Axes>"
      ]
     },
     "metadata": {},
     "output_type": "display_data"
    }
   ],
   "source": [
    "top_venues = df['venue'].value_counts().head(10).index\n",
    "plt.figure(figsize=(12, 5))\n",
    "sns.countplot(y='venue', data=df[df['venue'].isin(top_venues)],\n",
    "              order=top_venues, palette='viridis')\n",
    "plt.title('Top 10 Venues by Match Count')\n",
    "plt.ylabel('Venue')\n",
    "plt.xlabel('Count')\n",
    "plt.tight_layout()\n",
    "plt.show()\n"
   ]
  },
  {
   "cell_type": "code",
   "execution_count": 41,
   "id": "7b70c1b5-36ba-4ba8-aaaf-ae1b7bb5e040",
   "metadata": {},
   "outputs": [
    {
     "data": {
      "image/png": "[encoded data removed]",
      "text/plain": [
       "<Figure size 1200x500 with 1 Axes>"
      ]
     },
     "metadata": {},
     "output_type": "display_data"
    }
   ],
   "source": [
    "top_players = df['player_of_match'].value_counts().head(10).index\n",
    "plt.figure(figsize=(12, 5))\n",
    "sns.countplot(y='player_of_match', data=df[df['player_of_match'].isin(top_players)],\n",
    "              order=top_players, palette='viridis')\n",
    "plt.title('Top 10 Players of Match Count')\n",
    "plt.ylabel('player_of_match')\n",
    "plt.xlabel('Count')\n",
    "plt.tight_layout()\n",
    "plt.show()"
   ]
  },
  {
   "cell_type": "code",
   "execution_count": 42,
   "id": "aca12dae-f289-4b43-99ca-c81986423809",
   "metadata": {},
   "outputs": [
    {
     "data": {
      "image/png": "[encoded data removed]",
      "text/plain": [
       "<Figure size 800x500 with 1 Axes>"
      ]
     },
     "metadata": {},
     "output_type": "display_data"
    }
   ],
   "source": [
    "df['toss_winner_match_winner'] = df['toss_winner'] == df['winner']\n",
    "\n",
    "decision_win_count = df.groupby(['toss_decision', 'toss_winner_match_winner']).size().reset_index(name='count')\n",
    "plt.figure(figsize=(8, 5))\n",
    "sns.barplot(x='toss_decision', y='count', hue='toss_winner_match_winner', data=decision_win_count, palette='viridis')\n",
    "plt.title('Win Count Based on Toss Decision')\n",
    "plt.xlabel('Toss Decision')\n",
    "plt.ylabel('Match Count')\n",
    "plt.legend(title='Toss Winner Won Match')\n",
    "plt.tight_layout()\n",
    "plt.show()\n"
   ]
  },
  {
   "cell_type": "code",
   "execution_count": 43,
   "id": "3ed5535b-7225-475b-9406-01f3a9203484",
   "metadata": {},
   "outputs": [
    {
     "data": {
      "image/png": "[encoded data removed]",
      "text/plain": [
       "<Figure size 600x400 with 1 Axes>"
      ]
     },
     "metadata": {},
     "output_type": "display_data"
    }
   ],
   "source": [
    "df['toss_winner_match_winner'] = df['toss_winner'] == df['winner']\n",
    "\n",
    "toss_match_win_counts = df['toss_winner_match_winner'].value_counts().reset_index()\n",
    "toss_match_win_counts.columns = ['Toss Winner = Match Winner', 'Count']\n",
    "\n",
    "plt.figure(figsize=(6, 4))\n",
    "sns.barplot(x='Toss Winner = Match Winner', y='Count', data=toss_match_win_counts, palette='viridis')\n",
    "plt.title('Does Toss Winner Also Win the Match?')\n",
    "plt.xlabel('')\n",
    "plt.ylabel('Number of Matches')\n",
    "plt.xticks([0, 1], ['No', 'Yes'])\n",
    "plt.tight_layout()\n",
    "plt.show()"
   ]
  },
  {
   "cell_type": "code",
   "execution_count": 44,
   "id": "69a57843-4d3c-44fe-98d7-45bf0b01781c",
   "metadata": {},
   "outputs": [
    {
     "data": {
      "image/png": "[encoded data removed]",
      "text/plain": [
       "<Figure size 1200x600 with 1 Axes>"
      ]
     },
     "metadata": {},
     "output_type": "display_data"
    }
   ],
   "source": [
    "toss_win_df = df[df['toss_winner'] == df['winner']]\n",
    "venue_toss_win = toss_win_df.groupby(['venue', 'toss_decision']).size().reset_index(name='count')\n",
    "top_venues = (\n",
    "    venue_toss_win.groupby('venue')['count'].sum()\n",
    "    .sort_values(ascending=False).head(10).index\n",
    ")\n",
    "venue_toss_win_top = venue_toss_win[venue_toss_win['venue'].isin(top_venues)]\n",
    "plt.figure(figsize=(12, 6))\n",
    "sns.barplot(y='venue', x='count', hue='toss_decision', data=venue_toss_win_top, palette='Set2')\n",
    "plt.title('Toss Winner Win Count by Toss Decision at Top 10 Venues')\n",
    "plt.ylabel('Venue')\n",
    "plt.xlabel('Number of Matches Won by Toss Winner')\n",
    "plt.legend(title='Toss Decision')\n",
    "plt.tight_layout()\n",
    "plt.show()\n"
   ]
  },
  {
   "cell_type": "code",
   "execution_count": 45,
   "id": "e1273c4e-f529-4b73-bbac-c0b2614842dc",
   "metadata": {},
   "outputs": [
    {
     "data": {
      "image/png": "[encoded data removed]",
      "text/plain": [
       "<Figure size 1200x600 with 1 Axes>"
      ]
     },
     "metadata": {},
     "output_type": "display_data"
    }
   ],
   "source": [
    "valid_matches = df[df['winner'].notnull()]\n",
    "\n",
    "batting_wins = valid_matches[(valid_matches['toss_decision'] == 'bat') & (valid_matches['toss_winner'] == valid_matches['winner'])]\n",
    "chasing_wins = valid_matches[(valid_matches['toss_decision'] == 'field') & (valid_matches['toss_winner'] == valid_matches['winner'])]\n",
    "\n",
    "batting_counts = batting_wins['winner'].value_counts().reset_index()\n",
    "batting_counts.columns = ['team', 'batting_wins']\n",
    "\n",
    "chasing_counts = chasing_wins['winner'].value_counts().reset_index()\n",
    "chasing_counts.columns = ['team', 'chasing_wins']\n",
    "\n",
    "bat_vs_chase = pd.merge(batting_counts, chasing_counts, on='team', how='outer').fillna(0)\n",
    "\n",
    "bat_vs_chase_sorted = bat_vs_chase.sort_values(by='chasing_wins', ascending=False)\n",
    "\n",
    "plt.figure(figsize=(12, 6))\n",
    "sns.barplot(data=bat_vs_chase_sorted.melt(id_vars='team', var_name='Decision', value_name='Wins'),\n",
    "            y='team', x='Wins', hue='Decision', palette='Set2')\n",
    "\n",
    "plt.title('Team Wins When Batting First vs Chasing')\n",
    "plt.tight_layout()\n",
    "plt.show()\n"
   ]
  },
  {
   "cell_type": "code",
   "execution_count": 47,
   "id": "baa8b7e7-27eb-4175-a3ea-9be8448b071a",
   "metadata": {},
   "outputs": [
    {
     "data": {
      "image/png": "[encoded data removed]",
      "text/plain": [
       "<Figure size 1200x800 with 2 Axes>"
      ]
     },
     "metadata": {},
     "output_type": "display_data"
    }
   ],
   "source": [
    "team_matchups = valid_matches[['team1', 'team2', 'winner']].copy()\n",
    "\n",
    "team_matchups['opponent'] = team_matchups.apply(\n",
    "    lambda x: x['team2'] if x['winner'] == x['team1'] else x['team1'], axis=1\n",
    ")\n",
    "win_matrix = team_matchups.groupby(['winner', 'opponent']).size().unstack(fill_value=0)\n",
    "\n",
    "plt.figure(figsize=(12, 8))\n",
    "sns.heatmap(win_matrix, annot=True, fmt='d')\n",
    "plt.title('Team Wins Against Each Opponent')\n",
    "plt.xlabel('Opponent')\n",
    "plt.ylabel('Winning Team')\n",
    "plt.tight_layout()\n",
    "plt.show()"
   ]
  },
  {
   "cell_type": "markdown",
   "id": "634ced40-0778-490e-a801-38c1bb5bcbe9",
   "metadata": {},
   "source": [
    "# Machine Learning"
   ]
  },
  {
   "cell_type": "code",
   "execution_count": 63,
   "id": "578b44b3-244e-4c2e-b9bd-da936ccb6399",
   "metadata": {},
   "outputs": [
    {
     "data": {
      "text/plain": [
       "(738, 16)"
      ]
     },
     "execution_count": 63,
     "metadata": {},
     "output_type": "execute_result"
    }
   ],
   "source": [
    "df.shape"
   ]
  },
  {
   "cell_type": "code",
   "execution_count": 73,
   "id": "de6341d1-5bc1-4884-8cd5-a803ecd7a931",
   "metadata": {},
   "outputs": [
    {
     "data": {
      "text/html": [
       "<div>\n",
       "<style scoped>\n",
       "    .dataframe tbody tr th:only-of-type {\n",
       "        vertical-align: middle;\n",
       "    }\n",
       "\n",
       "    .dataframe tbody tr th {\n",
       "        vertical-align: top;\n",
       "    }\n",
       "\n",
       "    .dataframe thead th {\n",
       "        text-align: right;\n",
       "    }\n",
       "</style>\n",
       "<table border=\"1\" class=\"dataframe\">\n",
       "  <thead>\n",
       "    <tr style=\"text-align: right;\">\n",
       "      <th></th>\n",
       "      <th>city</th>\n",
       "      <th>team1</th>\n",
       "      <th>team2</th>\n",
       "      <th>toss_winner</th>\n",
       "      <th>toss_decision</th>\n",
       "      <th>result</th>\n",
       "      <th>dl_applied</th>\n",
       "      <th>winner</th>\n",
       "      <th>win_by_runs</th>\n",
       "      <th>win_by_wickets</th>\n",
       "      <th>player_of_match</th>\n",
       "      <th>umpire1</th>\n",
       "      <th>umpire2</th>\n",
       "      <th>year</th>\n",
       "      <th>venue</th>\n",
       "      <th>toss_winner_match_winner</th>\n",
       "    </tr>\n",
       "  </thead>\n",
       "  <tbody>\n",
       "    <tr>\n",
       "      <th>0</th>\n",
       "      <td>Hyderabad</td>\n",
       "      <td>Sunrisers Hyderabad</td>\n",
       "      <td>Royal Challengers Bangalore</td>\n",
       "      <td>Royal Challengers Bangalore</td>\n",
       "      <td>field</td>\n",
       "      <td>normal</td>\n",
       "      <td>0</td>\n",
       "      <td>Sunrisers Hyderabad</td>\n",
       "      <td>35</td>\n",
       "      <td>0</td>\n",
       "      <td>Yuvraj Singh</td>\n",
       "      <td>AY Dandekar</td>\n",
       "      <td>NJ Llong</td>\n",
       "      <td>2017</td>\n",
       "      <td>Rajiv Gandhi International Stadium</td>\n",
       "      <td>False</td>\n",
       "    </tr>\n",
       "    <tr>\n",
       "      <th>1</th>\n",
       "      <td>Pune</td>\n",
       "      <td>Mumbai Indians</td>\n",
       "      <td>Pune Warriors</td>\n",
       "      <td>Pune Warriors</td>\n",
       "      <td>field</td>\n",
       "      <td>normal</td>\n",
       "      <td>0</td>\n",
       "      <td>Pune Warriors</td>\n",
       "      <td>0</td>\n",
       "      <td>7</td>\n",
       "      <td>SPD Smith</td>\n",
       "      <td>A Nand Kishore</td>\n",
       "      <td>S Ravi</td>\n",
       "      <td>2017</td>\n",
       "      <td>Maharashtra Cricket Association Stadium</td>\n",
       "      <td>True</td>\n",
       "    </tr>\n",
       "    <tr>\n",
       "      <th>2</th>\n",
       "      <td>Rajkot</td>\n",
       "      <td>Gujarat Lions</td>\n",
       "      <td>Kolkata Knight Riders</td>\n",
       "      <td>Kolkata Knight Riders</td>\n",
       "      <td>field</td>\n",
       "      <td>normal</td>\n",
       "      <td>0</td>\n",
       "      <td>Kolkata Knight Riders</td>\n",
       "      <td>0</td>\n",
       "      <td>10</td>\n",
       "      <td>CA Lynn</td>\n",
       "      <td>Nitin Menon</td>\n",
       "      <td>CK Nandan</td>\n",
       "      <td>2017</td>\n",
       "      <td>Saurashtra Cricket Association Stadium</td>\n",
       "      <td>True</td>\n",
       "    </tr>\n",
       "    <tr>\n",
       "      <th>3</th>\n",
       "      <td>Indore</td>\n",
       "      <td>Pune Warriors</td>\n",
       "      <td>Kings XI Punjab</td>\n",
       "      <td>Kings XI Punjab</td>\n",
       "      <td>field</td>\n",
       "      <td>normal</td>\n",
       "      <td>0</td>\n",
       "      <td>Kings XI Punjab</td>\n",
       "      <td>0</td>\n",
       "      <td>6</td>\n",
       "      <td>GJ Maxwell</td>\n",
       "      <td>AK Chaudhary</td>\n",
       "      <td>C Shamshuddin</td>\n",
       "      <td>2017</td>\n",
       "      <td>Holkar Cricket Stadium</td>\n",
       "      <td>True</td>\n",
       "    </tr>\n",
       "    <tr>\n",
       "      <th>4</th>\n",
       "      <td>Bangalore</td>\n",
       "      <td>Royal Challengers Bangalore</td>\n",
       "      <td>Delhi Capitals</td>\n",
       "      <td>Royal Challengers Bangalore</td>\n",
       "      <td>bat</td>\n",
       "      <td>normal</td>\n",
       "      <td>0</td>\n",
       "      <td>Royal Challengers Bangalore</td>\n",
       "      <td>15</td>\n",
       "      <td>0</td>\n",
       "      <td>KM Jadhav</td>\n",
       "      <td>Unknown</td>\n",
       "      <td>Unknown</td>\n",
       "      <td>2017</td>\n",
       "      <td>M Chinnaswamy Stadium</td>\n",
       "      <td>True</td>\n",
       "    </tr>\n",
       "  </tbody>\n",
       "</table>\n",
       "</div>"
      ],
      "text/plain": [
       "        city                        team1                        team2  \\\n",
       "0  Hyderabad          Sunrisers Hyderabad  Royal Challengers Bangalore   \n",
       "1       Pune               Mumbai Indians                Pune Warriors   \n",
       "2     Rajkot                Gujarat Lions        Kolkata Knight Riders   \n",
       "3     Indore                Pune Warriors              Kings XI Punjab   \n",
       "4  Bangalore  Royal Challengers Bangalore               Delhi Capitals   \n",
       "\n",
       "                   toss_winner toss_decision  result  dl_applied  \\\n",
       "0  Royal Challengers Bangalore         field  normal           0   \n",
       "1                Pune Warriors         field  normal           0   \n",
       "2        Kolkata Knight Riders         field  normal           0   \n",
       "3              Kings XI Punjab         field  normal           0   \n",
       "4  Royal Challengers Bangalore           bat  normal           0   \n",
       "\n",
       "                        winner  win_by_runs  win_by_wickets player_of_match  \\\n",
       "0          Sunrisers Hyderabad           35               0    Yuvraj Singh   \n",
       "1                Pune Warriors            0               7       SPD Smith   \n",
       "2        Kolkata Knight Riders            0              10         CA Lynn   \n",
       "3              Kings XI Punjab            0               6      GJ Maxwell   \n",
       "4  Royal Challengers Bangalore           15               0       KM Jadhav   \n",
       "\n",
       "          umpire1        umpire2  year  \\\n",
       "0     AY Dandekar       NJ Llong  2017   \n",
       "1  A Nand Kishore         S Ravi  2017   \n",
       "2     Nitin Menon      CK Nandan  2017   \n",
       "3    AK Chaudhary  C Shamshuddin  2017   \n",
       "4         Unknown        Unknown  2017   \n",
       "\n",
       "                                     venue  toss_winner_match_winner  \n",
       "0       Rajiv Gandhi International Stadium                     False  \n",
       "1  Maharashtra Cricket Association Stadium                      True  \n",
       "2   Saurashtra Cricket Association Stadium                      True  \n",
       "3                   Holkar Cricket Stadium                      True  \n",
       "4                    M Chinnaswamy Stadium                      True  "
      ]
     },
     "execution_count": 73,
     "metadata": {},
     "output_type": "execute_result"
    }
   ],
   "source": [
    "df.head()"
   ]
  },
  {
   "cell_type": "code",
   "execution_count": 77,
   "id": "2e5a3050-4043-428f-bef4-5c58b0120004",
   "metadata": {},
   "outputs": [],
   "source": [
    "df.drop(columns={'umpire1','umpire2','year','toss_winner_match_winner','city','result'},inplace=True)   "
   ]
  },
  {
   "cell_type": "markdown",
   "id": "36c5905b-5bdb-4d48-b94c-7710c854ad31",
   "metadata": {},
   "source": [
    "df.head(2)"
   ]
  },
  {
   "cell_type": "markdown",
   "id": "4ffa80ce-2c01-4e2e-a18a-c8ef583cdcbf",
   "metadata": {},
   "source": [
    "### Feature Transforming"
   ]
  },
  {
   "cell_type": "markdown",
   "id": "e0a11084-9ca7-46d4-a847-d83448cbcb1b",
   "metadata": {},
   "source": [
    "### Label Encoding"
   ]
  },
  {
   "cell_type": "code",
   "execution_count": 89,
   "id": "e7ab3c29-0eee-4504-aad6-1f704f4f1006",
   "metadata": {},
   "outputs": [],
   "source": [
    "label = LabelEncoder()\n",
    "for column in df.columns:\n",
    "    df[column] =  label.fit_transform(df[column])"
   ]
  },
  {
   "cell_type": "code",
   "execution_count": 91,
   "id": "79171732-a6d6-46a3-bf39-bf40acaf1546",
   "metadata": {},
   "outputs": [],
   "source": [
    "X = df.drop(['winner','win_by_runs','win_by_wickets','dl_applied'], axis=1)\n",
    "y = df['winner']"
   ]
  },
  {
   "cell_type": "markdown",
   "id": "1972b5a4-4662-4415-b4c8-8cb9ed2e29d2",
   "metadata": {},
   "source": [
    "### Using RFE for feature selection"
   ]
  },
  {
   "cell_type": "code",
   "execution_count": 93,
   "id": "b6b33521-d517-41a0-9334-773a42d0d51f",
   "metadata": {},
   "outputs": [
    {
     "data": {
      "text/html": [
       "<style>#sk-container-id-1 {\n",
       "  /* Definition of color scheme common for light and dark mode */\n",
       "  --sklearn-color-text: black;\n",
       "  --sklearn-color-line: gray;\n",
       "  /* Definition of color scheme for unfitted estimators */\n",
       "  --sklearn-color-unfitted-level-0: #fff5e6;\n",
       "  --sklearn-color-unfitted-level-1: #f6e4d2;\n",
       "  --sklearn-color-unfitted-level-2: #ffe0b3;\n",
       "  --sklearn-color-unfitted-level-3: chocolate;\n",
       "  /* Definition of color scheme for fitted estimators */\n",
       "  --sklearn-color-fitted-level-0: #f0f8ff;\n",
       "  --sklearn-color-fitted-level-1: #d4ebff;\n",
       "  --sklearn-color-fitted-level-2: #b3dbfd;\n",
       "  --sklearn-color-fitted-level-3: cornflowerblue;\n",
       "\n",
       "  /* Specific color for light theme */\n",
       "  --sklearn-color-text-on-default-background: var(--sg-text-color, var(--theme-code-foreground, var(--jp-content-font-color1, black)));\n",
       "  --sklearn-color-background: var(--sg-background-color, var(--theme-background, var(--jp-layout-color0, white)));\n",
       "  --sklearn-color-border-box: var(--sg-text-color, var(--theme-code-foreground, var(--jp-content-font-color1, black)));\n",
       "  --sklearn-color-icon: #696969;\n",
       "\n",
       "  @media (prefers-color-scheme: dark) {\n",
       "    /* Redefinition of color scheme for dark theme */\n",
       "    --sklearn-color-text-on-default-background: var(--sg-text-color, var(--theme-code-foreground, var(--jp-content-font-color1, white)));\n",
       "    --sklearn-color-background: var(--sg-background-color, var(--theme-background, var(--jp-layout-color0, #111)));\n",
       "    --sklearn-color-border-box: var(--sg-text-color, var(--theme-code-foreground, var(--jp-content-font-color1, white)));\n",
       "    --sklearn-color-icon: #878787;\n",
       "  }\n",
       "}\n",
       "\n",
       "#sk-container-id-1 {\n",
       "  color: var(--sklearn-color-text);\n",
       "}\n",
       "\n",
       "#sk-container-id-1 pre {\n",
       "  padding: 0;\n",
       "}\n",
       "\n",
       "#sk-container-id-1 input.sk-hidden--visually {\n",
       "  border: 0;\n",
       "  clip: rect(1px 1px 1px 1px);\n",
       "  clip: rect(1px, 1px, 1px, 1px);\n",
       "  height: 1px;\n",
       "  margin: -1px;\n",
       "  overflow: hidden;\n",
       "  padding: 0;\n",
       "  position: absolute;\n",
       "  width: 1px;\n",
       "}\n",
       "\n",
       "#sk-container-id-1 div.sk-dashed-wrapped {\n",
       "  border: 1px dashed var(--sklearn-color-line);\n",
       "  margin: 0 0.4em 0.5em 0.4em;\n",
       "  box-sizing: border-box;\n",
       "  padding-bottom: 0.4em;\n",
       "  background-color: var(--sklearn-color-background);\n",
       "}\n",
       "\n",
       "#sk-container-id-1 div.sk-container {\n",
       "  /* jupyter's `normalize.less` sets `[hidden] { display: none; }`\n",
       "     but bootstrap.min.css set `[hidden] { display: none !important; }`\n",
       "     so we also need the `!important` here to be able to override the\n",
       "     default hidden behavior on the sphinx rendered scikit-learn.org.\n",
       "     See: https://github.com/scikit-learn/scikit-learn/issues/21755 */\n",
       "  display: inline-block !important;\n",
       "  position: relative;\n",
       "}\n",
       "\n",
       "#sk-container-id-1 div.sk-text-repr-fallback {\n",
       "  display: none;\n",
       "}\n",
       "\n",
       "div.sk-parallel-item,\n",
       "div.sk-serial,\n",
       "div.sk-item {\n",
       "  /* draw centered vertical line to link estimators */\n",
       "  background-image: linear-gradient(var(--sklearn-color-text-on-default-background), var(--sklearn-color-text-on-default-background));\n",
       "  background-size: 2px 100%;\n",
       "  background-repeat: no-repeat;\n",
       "  background-position: center center;\n",
       "}\n",
       "\n",
       "/* Parallel-specific style estimator block */\n",
       "\n",
       "#sk-container-id-1 div.sk-parallel-item::after {\n",
       "  content: \"\";\n",
       "  width: 100%;\n",
       "  border-bottom: 2px solid var(--sklearn-color-text-on-default-background);\n",
       "  flex-grow: 1;\n",
       "}\n",
       "\n",
       "#sk-container-id-1 div.sk-parallel {\n",
       "  display: flex;\n",
       "  align-items: stretch;\n",
       "  justify-content: center;\n",
       "  background-color: var(--sklearn-color-background);\n",
       "  position: relative;\n",
       "}\n",
       "\n",
       "#sk-container-id-1 div.sk-parallel-item {\n",
       "  display: flex;\n",
       "  flex-direction: column;\n",
       "}\n",
       "\n",
       "#sk-container-id-1 div.sk-parallel-item:first-child::after {\n",
       "  align-self: flex-end;\n",
       "  width: 50%;\n",
       "}\n",
       "\n",
       "#sk-container-id-1 div.sk-parallel-item:last-child::after {\n",
       "  align-self: flex-start;\n",
       "  width: 50%;\n",
       "}\n",
       "\n",
       "#sk-container-id-1 div.sk-parallel-item:only-child::after {\n",
       "  width: 0;\n",
       "}\n",
       "\n",
       "/* Serial-specific style estimator block */\n",
       "\n",
       "#sk-container-id-1 div.sk-serial {\n",
       "  display: flex;\n",
       "  flex-direction: column;\n",
       "  align-items: center;\n",
       "  background-color: var(--sklearn-color-background);\n",
       "  padding-right: 1em;\n",
       "  padding-left: 1em;\n",
       "}\n",
       "\n",
       "\n",
       "/* Toggleable style: style used for estimator/Pipeline/ColumnTransformer box that is\n",
       "clickable and can be expanded/collapsed.\n",
       "- Pipeline and ColumnTransformer use this feature and define the default style\n",
       "- Estimators will overwrite some part of the style using the `sk-estimator` class\n",
       "*/\n",
       "\n",
       "/* Pipeline and ColumnTransformer style (default) */\n",
       "\n",
       "#sk-container-id-1 div.sk-toggleable {\n",
       "  /* Default theme specific background. It is overwritten whether we have a\n",
       "  specific estimator or a Pipeline/ColumnTransformer */\n",
       "  background-color: var(--sklearn-color-background);\n",
       "}\n",
       "\n",
       "/* Toggleable label */\n",
       "#sk-container-id-1 label.sk-toggleable__label {\n",
       "  cursor: pointer;\n",
       "  display: block;\n",
       "  width: 100%;\n",
       "  margin-bottom: 0;\n",
       "  padding: 0.5em;\n",
       "  box-sizing: border-box;\n",
       "  text-align: center;\n",
       "}\n",
       "\n",
       "#sk-container-id-1 label.sk-toggleable__label-arrow:before {\n",
       "  /* Arrow on the left of the label */\n",
       "  content: \"▸\";\n",
       "  float: left;\n",
       "  margin-right: 0.25em;\n",
       "  color: var(--sklearn-color-icon);\n",
       "}\n",
       "\n",
       "#sk-container-id-1 label.sk-toggleable__label-arrow:hover:before {\n",
       "  color: var(--sklearn-color-text);\n",
       "}\n",
       "\n",
       "/* Toggleable content - dropdown */\n",
       "\n",
       "#sk-container-id-1 div.sk-toggleable__content {\n",
       "  max-height: 0;\n",
       "  max-width: 0;\n",
       "  overflow: hidden;\n",
       "  text-align: left;\n",
       "  /* unfitted */\n",
       "  background-color: var(--sklearn-color-unfitted-level-0);\n",
       "}\n",
       "\n",
       "#sk-container-id-1 div.sk-toggleable__content.fitted {\n",
       "  /* fitted */\n",
       "  background-color: var(--sklearn-color-fitted-level-0);\n",
       "}\n",
       "\n",
       "#sk-container-id-1 div.sk-toggleable__content pre {\n",
       "  margin: 0.2em;\n",
       "  border-radius: 0.25em;\n",
       "  color: var(--sklearn-color-text);\n",
       "  /* unfitted */\n",
       "  background-color: var(--sklearn-color-unfitted-level-0);\n",
       "}\n",
       "\n",
       "#sk-container-id-1 div.sk-toggleable__content.fitted pre {\n",
       "  /* unfitted */\n",
       "  background-color: var(--sklearn-color-fitted-level-0);\n",
       "}\n",
       "\n",
       "#sk-container-id-1 input.sk-toggleable__control:checked~div.sk-toggleable__content {\n",
       "  /* Expand drop-down */\n",
       "  max-height: 200px;\n",
       "  max-width: 100%;\n",
       "  overflow: auto;\n",
       "}\n",
       "\n",
       "#sk-container-id-1 input.sk-toggleable__control:checked~label.sk-toggleable__label-arrow:before {\n",
       "  content: \"▾\";\n",
       "}\n",
       "\n",
       "/* Pipeline/ColumnTransformer-specific style */\n",
       "\n",
       "#sk-container-id-1 div.sk-label input.sk-toggleable__control:checked~label.sk-toggleable__label {\n",
       "  color: var(--sklearn-color-text);\n",
       "  background-color: var(--sklearn-color-unfitted-level-2);\n",
       "}\n",
       "\n",
       "#sk-container-id-1 div.sk-label.fitted input.sk-toggleable__control:checked~label.sk-toggleable__label {\n",
       "  background-color: var(--sklearn-color-fitted-level-2);\n",
       "}\n",
       "\n",
       "/* Estimator-specific style */\n",
       "\n",
       "/* Colorize estimator box */\n",
       "#sk-container-id-1 div.sk-estimator input.sk-toggleable__control:checked~label.sk-toggleable__label {\n",
       "  /* unfitted */\n",
       "  background-color: var(--sklearn-color-unfitted-level-2);\n",
       "}\n",
       "\n",
       "#sk-container-id-1 div.sk-estimator.fitted input.sk-toggleable__control:checked~label.sk-toggleable__label {\n",
       "  /* fitted */\n",
       "  background-color: var(--sklearn-color-fitted-level-2);\n",
       "}\n",
       "\n",
       "#sk-container-id-1 div.sk-label label.sk-toggleable__label,\n",
       "#sk-container-id-1 div.sk-label label {\n",
       "  /* The background is the default theme color */\n",
       "  color: var(--sklearn-color-text-on-default-background);\n",
       "}\n",
       "\n",
       "/* On hover, darken the color of the background */\n",
       "#sk-container-id-1 div.sk-label:hover label.sk-toggleable__label {\n",
       "  color: var(--sklearn-color-text);\n",
       "  background-color: var(--sklearn-color-unfitted-level-2);\n",
       "}\n",
       "\n",
       "/* Label box, darken color on hover, fitted */\n",
       "#sk-container-id-1 div.sk-label.fitted:hover label.sk-toggleable__label.fitted {\n",
       "  color: var(--sklearn-color-text);\n",
       "  background-color: var(--sklearn-color-fitted-level-2);\n",
       "}\n",
       "\n",
       "/* Estimator label */\n",
       "\n",
       "#sk-container-id-1 div.sk-label label {\n",
       "  font-family: monospace;\n",
       "  font-weight: bold;\n",
       "  display: inline-block;\n",
       "  line-height: 1.2em;\n",
       "}\n",
       "\n",
       "#sk-container-id-1 div.sk-label-container {\n",
       "  text-align: center;\n",
       "}\n",
       "\n",
       "/* Estimator-specific */\n",
       "#sk-container-id-1 div.sk-estimator {\n",
       "  font-family: monospace;\n",
       "  border: 1px dotted var(--sklearn-color-border-box);\n",
       "  border-radius: 0.25em;\n",
       "  box-sizing: border-box;\n",
       "  margin-bottom: 0.5em;\n",
       "  /* unfitted */\n",
       "  background-color: var(--sklearn-color-unfitted-level-0);\n",
       "}\n",
       "\n",
       "#sk-container-id-1 div.sk-estimator.fitted {\n",
       "  /* fitted */\n",
       "  background-color: var(--sklearn-color-fitted-level-0);\n",
       "}\n",
       "\n",
       "/* on hover */\n",
       "#sk-container-id-1 div.sk-estimator:hover {\n",
       "  /* unfitted */\n",
       "  background-color: var(--sklearn-color-unfitted-level-2);\n",
       "}\n",
       "\n",
       "#sk-container-id-1 div.sk-estimator.fitted:hover {\n",
       "  /* fitted */\n",
       "  background-color: var(--sklearn-color-fitted-level-2);\n",
       "}\n",
       "\n",
       "/* Specification for estimator info (e.g. \"i\" and \"?\") */\n",
       "\n",
       "/* Common style for \"i\" and \"?\" */\n",
       "\n",
       ".sk-estimator-doc-link,\n",
       "a:link.sk-estimator-doc-link,\n",
       "a:visited.sk-estimator-doc-link {\n",
       "  float: right;\n",
       "  font-size: smaller;\n",
       "  line-height: 1em;\n",
       "  font-family: monospace;\n",
       "  background-color: var(--sklearn-color-background);\n",
       "  border-radius: 1em;\n",
       "  height: 1em;\n",
       "  width: 1em;\n",
       "  text-decoration: none !important;\n",
       "  margin-left: 1ex;\n",
       "  /* unfitted */\n",
       "  border: var(--sklearn-color-unfitted-level-1) 1pt solid;\n",
       "  color: var(--sklearn-color-unfitted-level-1);\n",
       "}\n",
       "\n",
       ".sk-estimator-doc-link.fitted,\n",
       "a:link.sk-estimator-doc-link.fitted,\n",
       "a:visited.sk-estimator-doc-link.fitted {\n",
       "  /* fitted */\n",
       "  border: var(--sklearn-color-fitted-level-1) 1pt solid;\n",
       "  color: var(--sklearn-color-fitted-level-1);\n",
       "}\n",
       "\n",
       "/* On hover */\n",
       "div.sk-estimator:hover .sk-estimator-doc-link:hover,\n",
       ".sk-estimator-doc-link:hover,\n",
       "div.sk-label-container:hover .sk-estimator-doc-link:hover,\n",
       ".sk-estimator-doc-link:hover {\n",
       "  /* unfitted */\n",
       "  background-color: var(--sklearn-color-unfitted-level-3);\n",
       "  color: var(--sklearn-color-background);\n",
       "  text-decoration: none;\n",
       "}\n",
       "\n",
       "div.sk-estimator.fitted:hover .sk-estimator-doc-link.fitted:hover,\n",
       ".sk-estimator-doc-link.fitted:hover,\n",
       "div.sk-label-container:hover .sk-estimator-doc-link.fitted:hover,\n",
       ".sk-estimator-doc-link.fitted:hover {\n",
       "  /* fitted */\n",
       "  background-color: var(--sklearn-color-fitted-level-3);\n",
       "  color: var(--sklearn-color-background);\n",
       "  text-decoration: none;\n",
       "}\n",
       "\n",
       "/* Span, style for the box shown on hovering the info icon */\n",
       ".sk-estimator-doc-link span {\n",
       "  display: none;\n",
       "  z-index: 9999;\n",
       "  position: relative;\n",
       "  font-weight: normal;\n",
       "  right: .2ex;\n",
       "  padding: .5ex;\n",
       "  margin: .5ex;\n",
       "  width: min-content;\n",
       "  min-width: 20ex;\n",
       "  max-width: 50ex;\n",
       "  color: var(--sklearn-color-text);\n",
       "  box-shadow: 2pt 2pt 4pt #999;\n",
       "  /* unfitted */\n",
       "  background: var(--sklearn-color-unfitted-level-0);\n",
       "  border: .5pt solid var(--sklearn-color-unfitted-level-3);\n",
       "}\n",
       "\n",
       ".sk-estimator-doc-link.fitted span {\n",
       "  /* fitted */\n",
       "  background: var(--sklearn-color-fitted-level-0);\n",
       "  border: var(--sklearn-color-fitted-level-3);\n",
       "}\n",
       "\n",
       ".sk-estimator-doc-link:hover span {\n",
       "  display: block;\n",
       "}\n",
       "\n",
       "/* \"?\"-specific style due to the `<a>` HTML tag */\n",
       "\n",
       "#sk-container-id-1 a.estimator_doc_link {\n",
       "  float: right;\n",
       "  font-size: 1rem;\n",
       "  line-height: 1em;\n",
       "  font-family: monospace;\n",
       "  background-color: var(--sklearn-color-background);\n",
       "  border-radius: 1rem;\n",
       "  height: 1rem;\n",
       "  width: 1rem;\n",
       "  text-decoration: none;\n",
       "  /* unfitted */\n",
       "  color: var(--sklearn-color-unfitted-level-1);\n",
       "  border: var(--sklearn-color-unfitted-level-1) 1pt solid;\n",
       "}\n",
       "\n",
       "#sk-container-id-1 a.estimator_doc_link.fitted {\n",
       "  /* fitted */\n",
       "  border: var(--sklearn-color-fitted-level-1) 1pt solid;\n",
       "  color: var(--sklearn-color-fitted-level-1);\n",
       "}\n",
       "\n",
       "/* On hover */\n",
       "#sk-container-id-1 a.estimator_doc_link:hover {\n",
       "  /* unfitted */\n",
       "  background-color: var(--sklearn-color-unfitted-level-3);\n",
       "  color: var(--sklearn-color-background);\n",
       "  text-decoration: none;\n",
       "}\n",
       "\n",
       "#sk-container-id-1 a.estimator_doc_link.fitted:hover {\n",
       "  /* fitted */\n",
       "  background-color: var(--sklearn-color-fitted-level-3);\n",
       "}\n",
       "</style><div id=\"sk-container-id-1\" class=\"sk-top-container\"><div class=\"sk-text-repr-fallback\"><pre>RFE(estimator=LogisticRegression(solver=&#x27;liblinear&#x27;), n_features_to_select=5)</pre><b>In a Jupyter environment, please rerun this cell to show the HTML representation or trust the notebook. <br />On GitHub, the HTML representation is unable to render, please try loading this page with nbviewer.org.</b></div><div class=\"sk-container\" hidden><div class=\"sk-item sk-dashed-wrapped\"><div class=\"sk-label-container\"><div class=\"sk-label fitted sk-toggleable\"><input class=\"sk-toggleable__control sk-hidden--visually\" id=\"sk-estimator-id-1\" type=\"checkbox\" ><label for=\"sk-estimator-id-1\" class=\"sk-toggleable__label fitted sk-toggleable__label-arrow fitted\">&nbsp;&nbsp;RFE<a class=\"sk-estimator-doc-link fitted\" rel=\"noreferrer\" target=\"_blank\" href=\"https://scikit-learn.org/1.5/modules/generated/sklearn.feature_selection.RFE.html\">?<span>Documentation for RFE</span></a><span class=\"sk-estimator-doc-link fitted\">i<span>Fitted</span></span></label><div class=\"sk-toggleable__content fitted\"><pre>RFE(estimator=LogisticRegression(solver=&#x27;liblinear&#x27;), n_features_to_select=5)</pre></div> </div></div><div class=\"sk-parallel\"><div class=\"sk-parallel-item\"><div class=\"sk-item\"><div class=\"sk-label-container\"><div class=\"sk-label fitted sk-toggleable\"><input class=\"sk-toggleable__control sk-hidden--visually\" id=\"sk-estimator-id-2\" type=\"checkbox\" ><label for=\"sk-estimator-id-2\" class=\"sk-toggleable__label fitted sk-toggleable__label-arrow fitted\">estimator: LogisticRegression</label><div class=\"sk-toggleable__content fitted\"><pre>LogisticRegression(solver=&#x27;liblinear&#x27;)</pre></div> </div></div><div class=\"sk-serial\"><div class=\"sk-item\"><div class=\"sk-estimator fitted sk-toggleable\"><input class=\"sk-toggleable__control sk-hidden--visually\" id=\"sk-estimator-id-3\" type=\"checkbox\" ><label for=\"sk-estimator-id-3\" class=\"sk-toggleable__label fitted sk-toggleable__label-arrow fitted\">&nbsp;LogisticRegression<a class=\"sk-estimator-doc-link fitted\" rel=\"noreferrer\" target=\"_blank\" href=\"https://scikit-learn.org/1.5/modules/generated/sklearn.linear_model.LogisticRegression.html\">?<span>Documentation for LogisticRegression</span></a></label><div class=\"sk-toggleable__content fitted\"><pre>LogisticRegression(solver=&#x27;liblinear&#x27;)</pre></div> </div></div></div></div></div></div></div></div></div>"
      ],
      "text/plain": [
       "RFE(estimator=LogisticRegression(solver='liblinear'), n_features_to_select=5)"
      ]
     },
     "execution_count": 93,
     "metadata": {},
     "output_type": "execute_result"
    }
   ],
   "source": [
    "es = LogisticRegression(solver='liblinear')\n",
    "rfe = RFE(estimator=es, n_features_to_select=5)  \n",
    "rfe.fit(X, y)"
   ]
  },
  {
   "cell_type": "code",
   "execution_count": 94,
   "id": "6c5218da-70f8-4be5-b4ea-f62909436eb7",
   "metadata": {},
   "outputs": [
    {
     "name": "stdout",
     "output_type": "stream",
     "text": [
      "Selected features by RFE: Index(['team1', 'team2', 'toss_winner', 'toss_decision', 'venue'], dtype='object')\n"
     ]
    }
   ],
   "source": [
    "col = X.columns[rfe.support_]\n",
    "print(\"Selected features by RFE:\", col)"
   ]
  },
  {
   "cell_type": "code",
   "execution_count": 95,
   "id": "cc0dea92-5c17-49f6-8e8d-c7ee3be2c5fc",
   "metadata": {},
   "outputs": [
    {
     "data": {
      "text/html": [
       "<div>\n",
       "<style scoped>\n",
       "    .dataframe tbody tr th:only-of-type {\n",
       "        vertical-align: middle;\n",
       "    }\n",
       "\n",
       "    .dataframe tbody tr th {\n",
       "        vertical-align: top;\n",
       "    }\n",
       "\n",
       "    .dataframe thead th {\n",
       "        text-align: right;\n",
       "    }\n",
       "</style>\n",
       "<table border=\"1\" class=\"dataframe\">\n",
       "  <thead>\n",
       "    <tr style=\"text-align: right;\">\n",
       "      <th></th>\n",
       "      <th>team1</th>\n",
       "      <th>team2</th>\n",
       "      <th>toss_winner</th>\n",
       "      <th>toss_decision</th>\n",
       "      <th>venue</th>\n",
       "    </tr>\n",
       "  </thead>\n",
       "  <tbody>\n",
       "    <tr>\n",
       "      <th>0</th>\n",
       "      <td>10</td>\n",
       "      <td>9</td>\n",
       "      <td>9</td>\n",
       "      <td>1</td>\n",
       "      <td>22</td>\n",
       "    </tr>\n",
       "    <tr>\n",
       "      <th>1</th>\n",
       "      <td>6</td>\n",
       "      <td>7</td>\n",
       "      <td>7</td>\n",
       "      <td>1</td>\n",
       "      <td>17</td>\n",
       "    </tr>\n",
       "    <tr>\n",
       "      <th>2</th>\n",
       "      <td>3</td>\n",
       "      <td>5</td>\n",
       "      <td>5</td>\n",
       "      <td>1</td>\n",
       "      <td>24</td>\n",
       "    </tr>\n",
       "    <tr>\n",
       "      <th>3</th>\n",
       "      <td>7</td>\n",
       "      <td>4</td>\n",
       "      <td>4</td>\n",
       "      <td>1</td>\n",
       "      <td>11</td>\n",
       "    </tr>\n",
       "    <tr>\n",
       "      <th>4</th>\n",
       "      <td>9</td>\n",
       "      <td>2</td>\n",
       "      <td>9</td>\n",
       "      <td>0</td>\n",
       "      <td>16</td>\n",
       "    </tr>\n",
       "    <tr>\n",
       "      <th>...</th>\n",
       "      <td>...</td>\n",
       "      <td>...</td>\n",
       "      <td>...</td>\n",
       "      <td>...</td>\n",
       "      <td>...</td>\n",
       "    </tr>\n",
       "    <tr>\n",
       "      <th>751</th>\n",
       "      <td>5</td>\n",
       "      <td>6</td>\n",
       "      <td>6</td>\n",
       "      <td>1</td>\n",
       "      <td>33</td>\n",
       "    </tr>\n",
       "    <tr>\n",
       "      <th>752</th>\n",
       "      <td>0</td>\n",
       "      <td>6</td>\n",
       "      <td>0</td>\n",
       "      <td>0</td>\n",
       "      <td>15</td>\n",
       "    </tr>\n",
       "    <tr>\n",
       "      <th>753</th>\n",
       "      <td>10</td>\n",
       "      <td>2</td>\n",
       "      <td>2</td>\n",
       "      <td>1</td>\n",
       "      <td>0</td>\n",
       "    </tr>\n",
       "    <tr>\n",
       "      <th>754</th>\n",
       "      <td>2</td>\n",
       "      <td>0</td>\n",
       "      <td>0</td>\n",
       "      <td>1</td>\n",
       "      <td>0</td>\n",
       "    </tr>\n",
       "    <tr>\n",
       "      <th>755</th>\n",
       "      <td>6</td>\n",
       "      <td>0</td>\n",
       "      <td>6</td>\n",
       "      <td>0</td>\n",
       "      <td>22</td>\n",
       "    </tr>\n",
       "  </tbody>\n",
       "</table>\n",
       "<p>738 rows × 5 columns</p>\n",
       "</div>"
      ],
      "text/plain": [
       "     team1  team2  toss_winner  toss_decision  venue\n",
       "0       10      9            9              1     22\n",
       "1        6      7            7              1     17\n",
       "2        3      5            5              1     24\n",
       "3        7      4            4              1     11\n",
       "4        9      2            9              0     16\n",
       "..     ...    ...          ...            ...    ...\n",
       "751      5      6            6              1     33\n",
       "752      0      6            0              0     15\n",
       "753     10      2            2              1      0\n",
       "754      2      0            0              1      0\n",
       "755      6      0            6              0     22\n",
       "\n",
       "[738 rows x 5 columns]"
      ]
     },
     "execution_count": 95,
     "metadata": {},
     "output_type": "execute_result"
    }
   ],
   "source": [
    "x = X[col]\n",
    "x"
   ]
  },
  {
   "cell_type": "code",
   "execution_count": 96,
   "id": "a0e4e5ec-c49c-4a44-91c0-8f6403bc96ea",
   "metadata": {},
   "outputs": [],
   "source": [
    "x_train,x_test,y_train,y_test = train_test_split(x,y,test_size=0.2,random_state=42,stratify=y)"
   ]
  },
  {
   "cell_type": "code",
   "execution_count": 97,
   "id": "f5b64f81-ed7f-4a33-b6a0-6baaf18391ba",
   "metadata": {},
   "outputs": [
    {
     "name": "stdout",
     "output_type": "stream",
     "text": [
      "Counter({6: 109, 0: 99, 5: 92, 9: 82, 4: 81, 2: 76, 8: 74, 10: 58, 1: 28, 7: 26, 3: 13})\n"
     ]
    }
   ],
   "source": [
    "from collections import Counter\n",
    "count = Counter(y)\n",
    "print(count)"
   ]
  },
  {
   "cell_type": "markdown",
   "id": "e74e95a4-23f2-4aa7-9b43-a51ec7c2804c",
   "metadata": {},
   "source": [
    "### Sampling"
   ]
  },
  {
   "cell_type": "code",
   "execution_count": 108,
   "id": "8700d727-abef-4a09-8f49-d0976c59b478",
   "metadata": {},
   "outputs": [],
   "source": [
    "sm = SMOTE(random_state=5,k_neighbors=4)\n",
    "x_sm, y_sm = sm.fit_resample(x_train, y_train)"
   ]
  },
  {
   "cell_type": "code",
   "execution_count": 110,
   "id": "bd907ea6-3827-458f-a9ac-b93f10d5b978",
   "metadata": {},
   "outputs": [
    {
     "name": "stdout",
     "output_type": "stream",
     "text": [
      "Counter({2: 87, 0: 87, 8: 87, 6: 87, 5: 87, 1: 87, 4: 87, 10: 87, 9: 87, 7: 87, 3: 87})\n"
     ]
    }
   ],
   "source": [
    "print(Counter(y_sm))"
   ]
  },
  {
   "cell_type": "markdown",
   "id": "11781310-87e7-466f-94f8-71f6b89be75e",
   "metadata": {},
   "source": [
    "### Logistic Regresion"
   ]
  },
  {
   "cell_type": "code",
   "execution_count": 112,
   "id": "2c184c9c-4d09-4d5e-bb90-aaaa08f4b9eb",
   "metadata": {},
   "outputs": [
    {
     "data": {
      "text/html": [
       "<style>#sk-container-id-2 {\n",
       "  /* Definition of color scheme common for light and dark mode */\n",
       "  --sklearn-color-text: black;\n",
       "  --sklearn-color-line: gray;\n",
       "  /* Definition of color scheme for unfitted estimators */\n",
       "  --sklearn-color-unfitted-level-0: #fff5e6;\n",
       "  --sklearn-color-unfitted-level-1: #f6e4d2;\n",
       "  --sklearn-color-unfitted-level-2: #ffe0b3;\n",
       "  --sklearn-color-unfitted-level-3: chocolate;\n",
       "  /* Definition of color scheme for fitted estimators */\n",
       "  --sklearn-color-fitted-level-0: #f0f8ff;\n",
       "  --sklearn-color-fitted-level-1: #d4ebff;\n",
       "  --sklearn-color-fitted-level-2: #b3dbfd;\n",
       "  --sklearn-color-fitted-level-3: cornflowerblue;\n",
       "\n",
       "  /* Specific color for light theme */\n",
       "  --sklearn-color-text-on-default-background: var(--sg-text-color, var(--theme-code-foreground, var(--jp-content-font-color1, black)));\n",
       "  --sklearn-color-background: var(--sg-background-color, var(--theme-background, var(--jp-layout-color0, white)));\n",
       "  --sklearn-color-border-box: var(--sg-text-color, var(--theme-code-foreground, var(--jp-content-font-color1, black)));\n",
       "  --sklearn-color-icon: #696969;\n",
       "\n",
       "  @media (prefers-color-scheme: dark) {\n",
       "    /* Redefinition of color scheme for dark theme */\n",
       "    --sklearn-color-text-on-default-background: var(--sg-text-color, var(--theme-code-foreground, var(--jp-content-font-color1, white)));\n",
       "    --sklearn-color-background: var(--sg-background-color, var(--theme-background, var(--jp-layout-color0, #111)));\n",
       "    --sklearn-color-border-box: var(--sg-text-color, var(--theme-code-foreground, var(--jp-content-font-color1, white)));\n",
       "    --sklearn-color-icon: #878787;\n",
       "  }\n",
       "}\n",
       "\n",
       "#sk-container-id-2 {\n",
       "  color: var(--sklearn-color-text);\n",
       "}\n",
       "\n",
       "#sk-container-id-2 pre {\n",
       "  padding: 0;\n",
       "}\n",
       "\n",
       "#sk-container-id-2 input.sk-hidden--visually {\n",
       "  border: 0;\n",
       "  clip: rect(1px 1px 1px 1px);\n",
       "  clip: rect(1px, 1px, 1px, 1px);\n",
       "  height: 1px;\n",
       "  margin: -1px;\n",
       "  overflow: hidden;\n",
       "  padding: 0;\n",
       "  position: absolute;\n",
       "  width: 1px;\n",
       "}\n",
       "\n",
       "#sk-container-id-2 div.sk-dashed-wrapped {\n",
       "  border: 1px dashed var(--sklearn-color-line);\n",
       "  margin: 0 0.4em 0.5em 0.4em;\n",
       "  box-sizing: border-box;\n",
       "  padding-bottom: 0.4em;\n",
       "  background-color: var(--sklearn-color-background);\n",
       "}\n",
       "\n",
       "#sk-container-id-2 div.sk-container {\n",
       "  /* jupyter's `normalize.less` sets `[hidden] { display: none; }`\n",
       "     but bootstrap.min.css set `[hidden] { display: none !important; }`\n",
       "     so we also need the `!important` here to be able to override the\n",
       "     default hidden behavior on the sphinx rendered scikit-learn.org.\n",
       "     See: https://github.com/scikit-learn/scikit-learn/issues/21755 */\n",
       "  display: inline-block !important;\n",
       "  position: relative;\n",
       "}\n",
       "\n",
       "#sk-container-id-2 div.sk-text-repr-fallback {\n",
       "  display: none;\n",
       "}\n",
       "\n",
       "div.sk-parallel-item,\n",
       "div.sk-serial,\n",
       "div.sk-item {\n",
       "  /* draw centered vertical line to link estimators */\n",
       "  background-image: linear-gradient(var(--sklearn-color-text-on-default-background), var(--sklearn-color-text-on-default-background));\n",
       "  background-size: 2px 100%;\n",
       "  background-repeat: no-repeat;\n",
       "  background-position: center center;\n",
       "}\n",
       "\n",
       "/* Parallel-specific style estimator block */\n",
       "\n",
       "#sk-container-id-2 div.sk-parallel-item::after {\n",
       "  content: \"\";\n",
       "  width: 100%;\n",
       "  border-bottom: 2px solid var(--sklearn-color-text-on-default-background);\n",
       "  flex-grow: 1;\n",
       "}\n",
       "\n",
       "#sk-container-id-2 div.sk-parallel {\n",
       "  display: flex;\n",
       "  align-items: stretch;\n",
       "  justify-content: center;\n",
       "  background-color: var(--sklearn-color-background);\n",
       "  position: relative;\n",
       "}\n",
       "\n",
       "#sk-container-id-2 div.sk-parallel-item {\n",
       "  display: flex;\n",
       "  flex-direction: column;\n",
       "}\n",
       "\n",
       "#sk-container-id-2 div.sk-parallel-item:first-child::after {\n",
       "  align-self: flex-end;\n",
       "  width: 50%;\n",
       "}\n",
       "\n",
       "#sk-container-id-2 div.sk-parallel-item:last-child::after {\n",
       "  align-self: flex-start;\n",
       "  width: 50%;\n",
       "}\n",
       "\n",
       "#sk-container-id-2 div.sk-parallel-item:only-child::after {\n",
       "  width: 0;\n",
       "}\n",
       "\n",
       "/* Serial-specific style estimator block */\n",
       "\n",
       "#sk-container-id-2 div.sk-serial {\n",
       "  display: flex;\n",
       "  flex-direction: column;\n",
       "  align-items: center;\n",
       "  background-color: var(--sklearn-color-background);\n",
       "  padding-right: 1em;\n",
       "  padding-left: 1em;\n",
       "}\n",
       "\n",
       "\n",
       "/* Toggleable style: style used for estimator/Pipeline/ColumnTransformer box that is\n",
       "clickable and can be expanded/collapsed.\n",
       "- Pipeline and ColumnTransformer use this feature and define the default style\n",
       "- Estimators will overwrite some part of the style using the `sk-estimator` class\n",
       "*/\n",
       "\n",
       "/* Pipeline and ColumnTransformer style (default) */\n",
       "\n",
       "#sk-container-id-2 div.sk-toggleable {\n",
       "  /* Default theme specific background. It is overwritten whether we have a\n",
       "  specific estimator or a Pipeline/ColumnTransformer */\n",
       "  background-color: var(--sklearn-color-background);\n",
       "}\n",
       "\n",
       "/* Toggleable label */\n",
       "#sk-container-id-2 label.sk-toggleable__label {\n",
       "  cursor: pointer;\n",
       "  display: block;\n",
       "  width: 100%;\n",
       "  margin-bottom: 0;\n",
       "  padding: 0.5em;\n",
       "  box-sizing: border-box;\n",
       "  text-align: center;\n",
       "}\n",
       "\n",
       "#sk-container-id-2 label.sk-toggleable__label-arrow:before {\n",
       "  /* Arrow on the left of the label */\n",
       "  content: \"▸\";\n",
       "  float: left;\n",
       "  margin-right: 0.25em;\n",
       "  color: var(--sklearn-color-icon);\n",
       "}\n",
       "\n",
       "#sk-container-id-2 label.sk-toggleable__label-arrow:hover:before {\n",
       "  color: var(--sklearn-color-text);\n",
       "}\n",
       "\n",
       "/* Toggleable content - dropdown */\n",
       "\n",
       "#sk-container-id-2 div.sk-toggleable__content {\n",
       "  max-height: 0;\n",
       "  max-width: 0;\n",
       "  overflow: hidden;\n",
       "  text-align: left;\n",
       "  /* unfitted */\n",
       "  background-color: var(--sklearn-color-unfitted-level-0);\n",
       "}\n",
       "\n",
       "#sk-container-id-2 div.sk-toggleable__content.fitted {\n",
       "  /* fitted */\n",
       "  background-color: var(--sklearn-color-fitted-level-0);\n",
       "}\n",
       "\n",
       "#sk-container-id-2 div.sk-toggleable__content pre {\n",
       "  margin: 0.2em;\n",
       "  border-radius: 0.25em;\n",
       "  color: var(--sklearn-color-text);\n",
       "  /* unfitted */\n",
       "  background-color: var(--sklearn-color-unfitted-level-0);\n",
       "}\n",
       "\n",
       "#sk-container-id-2 div.sk-toggleable__content.fitted pre {\n",
       "  /* unfitted */\n",
       "  background-color: var(--sklearn-color-fitted-level-0);\n",
       "}\n",
       "\n",
       "#sk-container-id-2 input.sk-toggleable__control:checked~div.sk-toggleable__content {\n",
       "  /* Expand drop-down */\n",
       "  max-height: 200px;\n",
       "  max-width: 100%;\n",
       "  overflow: auto;\n",
       "}\n",
       "\n",
       "#sk-container-id-2 input.sk-toggleable__control:checked~label.sk-toggleable__label-arrow:before {\n",
       "  content: \"▾\";\n",
       "}\n",
       "\n",
       "/* Pipeline/ColumnTransformer-specific style */\n",
       "\n",
       "#sk-container-id-2 div.sk-label input.sk-toggleable__control:checked~label.sk-toggleable__label {\n",
       "  color: var(--sklearn-color-text);\n",
       "  background-color: var(--sklearn-color-unfitted-level-2);\n",
       "}\n",
       "\n",
       "#sk-container-id-2 div.sk-label.fitted input.sk-toggleable__control:checked~label.sk-toggleable__label {\n",
       "  background-color: var(--sklearn-color-fitted-level-2);\n",
       "}\n",
       "\n",
       "/* Estimator-specific style */\n",
       "\n",
       "/* Colorize estimator box */\n",
       "#sk-container-id-2 div.sk-estimator input.sk-toggleable__control:checked~label.sk-toggleable__label {\n",
       "  /* unfitted */\n",
       "  background-color: var(--sklearn-color-unfitted-level-2);\n",
       "}\n",
       "\n",
       "#sk-container-id-2 div.sk-estimator.fitted input.sk-toggleable__control:checked~label.sk-toggleable__label {\n",
       "  /* fitted */\n",
       "  background-color: var(--sklearn-color-fitted-level-2);\n",
       "}\n",
       "\n",
       "#sk-container-id-2 div.sk-label label.sk-toggleable__label,\n",
       "#sk-container-id-2 div.sk-label label {\n",
       "  /* The background is the default theme color */\n",
       "  color: var(--sklearn-color-text-on-default-background);\n",
       "}\n",
       "\n",
       "/* On hover, darken the color of the background */\n",
       "#sk-container-id-2 div.sk-label:hover label.sk-toggleable__label {\n",
       "  color: var(--sklearn-color-text);\n",
       "  background-color: var(--sklearn-color-unfitted-level-2);\n",
       "}\n",
       "\n",
       "/* Label box, darken color on hover, fitted */\n",
       "#sk-container-id-2 div.sk-label.fitted:hover label.sk-toggleable__label.fitted {\n",
       "  color: var(--sklearn-color-text);\n",
       "  background-color: var(--sklearn-color-fitted-level-2);\n",
       "}\n",
       "\n",
       "/* Estimator label */\n",
       "\n",
       "#sk-container-id-2 div.sk-label label {\n",
       "  font-family: monospace;\n",
       "  font-weight: bold;\n",
       "  display: inline-block;\n",
       "  line-height: 1.2em;\n",
       "}\n",
       "\n",
       "#sk-container-id-2 div.sk-label-container {\n",
       "  text-align: center;\n",
       "}\n",
       "\n",
       "/* Estimator-specific */\n",
       "#sk-container-id-2 div.sk-estimator {\n",
       "  font-family: monospace;\n",
       "  border: 1px dotted var(--sklearn-color-border-box);\n",
       "  border-radius: 0.25em;\n",
       "  box-sizing: border-box;\n",
       "  margin-bottom: 0.5em;\n",
       "  /* unfitted */\n",
       "  background-color: var(--sklearn-color-unfitted-level-0);\n",
       "}\n",
       "\n",
       "#sk-container-id-2 div.sk-estimator.fitted {\n",
       "  /* fitted */\n",
       "  background-color: var(--sklearn-color-fitted-level-0);\n",
       "}\n",
       "\n",
       "/* on hover */\n",
       "#sk-container-id-2 div.sk-estimator:hover {\n",
       "  /* unfitted */\n",
       "  background-color: var(--sklearn-color-unfitted-level-2);\n",
       "}\n",
       "\n",
       "#sk-container-id-2 div.sk-estimator.fitted:hover {\n",
       "  /* fitted */\n",
       "  background-color: var(--sklearn-color-fitted-level-2);\n",
       "}\n",
       "\n",
       "/* Specification for estimator info (e.g. \"i\" and \"?\") */\n",
       "\n",
       "/* Common style for \"i\" and \"?\" */\n",
       "\n",
       ".sk-estimator-doc-link,\n",
       "a:link.sk-estimator-doc-link,\n",
       "a:visited.sk-estimator-doc-link {\n",
       "  float: right;\n",
       "  font-size: smaller;\n",
       "  line-height: 1em;\n",
       "  font-family: monospace;\n",
       "  background-color: var(--sklearn-color-background);\n",
       "  border-radius: 1em;\n",
       "  height: 1em;\n",
       "  width: 1em;\n",
       "  text-decoration: none !important;\n",
       "  margin-left: 1ex;\n",
       "  /* unfitted */\n",
       "  border: var(--sklearn-color-unfitted-level-1) 1pt solid;\n",
       "  color: var(--sklearn-color-unfitted-level-1);\n",
       "}\n",
       "\n",
       ".sk-estimator-doc-link.fitted,\n",
       "a:link.sk-estimator-doc-link.fitted,\n",
       "a:visited.sk-estimator-doc-link.fitted {\n",
       "  /* fitted */\n",
       "  border: var(--sklearn-color-fitted-level-1) 1pt solid;\n",
       "  color: var(--sklearn-color-fitted-level-1);\n",
       "}\n",
       "\n",
       "/* On hover */\n",
       "div.sk-estimator:hover .sk-estimator-doc-link:hover,\n",
       ".sk-estimator-doc-link:hover,\n",
       "div.sk-label-container:hover .sk-estimator-doc-link:hover,\n",
       ".sk-estimator-doc-link:hover {\n",
       "  /* unfitted */\n",
       "  background-color: var(--sklearn-color-unfitted-level-3);\n",
       "  color: var(--sklearn-color-background);\n",
       "  text-decoration: none;\n",
       "}\n",
       "\n",
       "div.sk-estimator.fitted:hover .sk-estimator-doc-link.fitted:hover,\n",
       ".sk-estimator-doc-link.fitted:hover,\n",
       "div.sk-label-container:hover .sk-estimator-doc-link.fitted:hover,\n",
       ".sk-estimator-doc-link.fitted:hover {\n",
       "  /* fitted */\n",
       "  background-color: var(--sklearn-color-fitted-level-3);\n",
       "  color: var(--sklearn-color-background);\n",
       "  text-decoration: none;\n",
       "}\n",
       "\n",
       "/* Span, style for the box shown on hovering the info icon */\n",
       ".sk-estimator-doc-link span {\n",
       "  display: none;\n",
       "  z-index: 9999;\n",
       "  position: relative;\n",
       "  font-weight: normal;\n",
       "  right: .2ex;\n",
       "  padding: .5ex;\n",
       "  margin: .5ex;\n",
       "  width: min-content;\n",
       "  min-width: 20ex;\n",
       "  max-width: 50ex;\n",
       "  color: var(--sklearn-color-text);\n",
       "  box-shadow: 2pt 2pt 4pt #999;\n",
       "  /* unfitted */\n",
       "  background: var(--sklearn-color-unfitted-level-0);\n",
       "  border: .5pt solid var(--sklearn-color-unfitted-level-3);\n",
       "}\n",
       "\n",
       ".sk-estimator-doc-link.fitted span {\n",
       "  /* fitted */\n",
       "  background: var(--sklearn-color-fitted-level-0);\n",
       "  border: var(--sklearn-color-fitted-level-3);\n",
       "}\n",
       "\n",
       ".sk-estimator-doc-link:hover span {\n",
       "  display: block;\n",
       "}\n",
       "\n",
       "/* \"?\"-specific style due to the `<a>` HTML tag */\n",
       "\n",
       "#sk-container-id-2 a.estimator_doc_link {\n",
       "  float: right;\n",
       "  font-size: 1rem;\n",
       "  line-height: 1em;\n",
       "  font-family: monospace;\n",
       "  background-color: var(--sklearn-color-background);\n",
       "  border-radius: 1rem;\n",
       "  height: 1rem;\n",
       "  width: 1rem;\n",
       "  text-decoration: none;\n",
       "  /* unfitted */\n",
       "  color: var(--sklearn-color-unfitted-level-1);\n",
       "  border: var(--sklearn-color-unfitted-level-1) 1pt solid;\n",
       "}\n",
       "\n",
       "#sk-container-id-2 a.estimator_doc_link.fitted {\n",
       "  /* fitted */\n",
       "  border: var(--sklearn-color-fitted-level-1) 1pt solid;\n",
       "  color: var(--sklearn-color-fitted-level-1);\n",
       "}\n",
       "\n",
       "/* On hover */\n",
       "#sk-container-id-2 a.estimator_doc_link:hover {\n",
       "  /* unfitted */\n",
       "  background-color: var(--sklearn-color-unfitted-level-3);\n",
       "  color: var(--sklearn-color-background);\n",
       "  text-decoration: none;\n",
       "}\n",
       "\n",
       "#sk-container-id-2 a.estimator_doc_link.fitted:hover {\n",
       "  /* fitted */\n",
       "  background-color: var(--sklearn-color-fitted-level-3);\n",
       "}\n",
       "</style><div id=\"sk-container-id-2\" class=\"sk-top-container\"><div class=\"sk-text-repr-fallback\"><pre>LogisticRegression()</pre><b>In a Jupyter environment, please rerun this cell to show the HTML representation or trust the notebook. <br />On GitHub, the HTML representation is unable to render, please try loading this page with nbviewer.org.</b></div><div class=\"sk-container\" hidden><div class=\"sk-item\"><div class=\"sk-estimator fitted sk-toggleable\"><input class=\"sk-toggleable__control sk-hidden--visually\" id=\"sk-estimator-id-4\" type=\"checkbox\" checked><label for=\"sk-estimator-id-4\" class=\"sk-toggleable__label fitted sk-toggleable__label-arrow fitted\">&nbsp;&nbsp;LogisticRegression<a class=\"sk-estimator-doc-link fitted\" rel=\"noreferrer\" target=\"_blank\" href=\"https://scikit-learn.org/1.5/modules/generated/sklearn.linear_model.LogisticRegression.html\">?<span>Documentation for LogisticRegression</span></a><span class=\"sk-estimator-doc-link fitted\">i<span>Fitted</span></span></label><div class=\"sk-toggleable__content fitted\"><pre>LogisticRegression()</pre></div> </div></div></div></div>"
      ],
      "text/plain": [
       "LogisticRegression()"
      ]
     },
     "execution_count": 112,
     "metadata": {},
     "output_type": "execute_result"
    }
   ],
   "source": [
    "cls = LogisticRegression(penalty='l2')\n",
    "cls.fit(x_sm,y_sm)"
   ]
  },
  {
   "cell_type": "code",
   "execution_count": 114,
   "id": "309384fc-03cf-4b99-87e3-172f629f9820",
   "metadata": {},
   "outputs": [
    {
     "name": "stdout",
     "output_type": "stream",
     "text": [
      "Accuracy Score of Logistic Regression: 0.16\n"
     ]
    }
   ],
   "source": [
    "y_pred = cls.predict(x_test)\n",
    "acc1 = accuracy_score(y_pred,y_test)\n",
    "print(f\"Accuracy Score of Logistic Regression: {acc1:.2f}\")"
   ]
  },
  {
   "cell_type": "code",
   "execution_count": 116,
   "id": "19a7a3f5-1d25-4833-99e5-751c474bdfaf",
   "metadata": {},
   "outputs": [
    {
     "name": "stdout",
     "output_type": "stream",
     "text": [
      "Accuracy Score of train data of Logistic Regression: 0.27\n"
     ]
    }
   ],
   "source": [
    "y_pred_train = cls.predict(x_sm)\n",
    "acc1t = accuracy_score(y_pred_train,y_sm)\n",
    "print(f\"Accuracy Score of train data of Logistic Regression: {acc1t:.2f}\")"
   ]
  },
  {
   "cell_type": "code",
   "execution_count": 117,
   "id": "b9c19d5c-bc49-4fb0-9f7b-ce6db4eba8e8",
   "metadata": {},
   "outputs": [
    {
     "name": "stdout",
     "output_type": "stream",
     "text": [
      "[[2 0 1 0 4 0 0 0 0 0 0]\n",
      " [7 2 2 0 2 1 2 1 1 1 0]\n",
      " [3 1 1 0 1 3 0 0 0 0 0]\n",
      " [6 1 5 1 3 2 3 0 1 2 0]\n",
      " [1 0 1 0 1 0 0 0 3 0 0]\n",
      " [0 1 3 0 2 3 2 1 1 1 1]\n",
      " [1 1 2 2 2 2 2 1 2 0 2]\n",
      " [0 0 0 0 0 0 0 0 1 2 0]\n",
      " [0 0 0 0 0 0 8 0 4 4 5]\n",
      " [0 0 0 0 0 0 0 1 1 4 0]\n",
      " [0 0 0 0 1 7 5 1 1 2 4]]\n"
     ]
    }
   ],
   "source": [
    "## Confusion Matrix\n",
    "\n",
    "cm = confusion_matrix(y_pred,y_test)\n",
    "print(cm)"
   ]
  },
  {
   "cell_type": "code",
   "execution_count": 118,
   "id": "1859dc1c-9bf9-43c2-96a3-1cf819468e0d",
   "metadata": {},
   "outputs": [
    {
     "name": "stdout",
     "output_type": "stream",
     "text": [
      "              precision    recall  f1-score   support\n",
      "\n",
      "           0       0.10      0.29      0.15         7\n",
      "           1       0.33      0.11      0.16        19\n",
      "           2       0.07      0.11      0.08         9\n",
      "           3       0.33      0.04      0.07        24\n",
      "           4       0.06      0.17      0.09         6\n",
      "           5       0.17      0.20      0.18        15\n",
      "           6       0.09      0.12      0.10        17\n",
      "           7       0.00      0.00      0.00         3\n",
      "           8       0.27      0.19      0.22        21\n",
      "           9       0.25      0.67      0.36         6\n",
      "          10       0.33      0.19      0.24        21\n",
      "\n",
      "    accuracy                           0.16       148\n",
      "   macro avg       0.18      0.19      0.15       148\n",
      "weighted avg       0.23      0.16      0.16       148\n",
      "\n"
     ]
    }
   ],
   "source": [
    "## Classification report\n",
    "\n",
    "cr = classification_report(y_pred,y_test)\n",
    "print(cr)"
   ]
  },
  {
   "cell_type": "markdown",
   "id": "7a4078d5-fcc7-4d52-b3b2-572ad2b212c8",
   "metadata": {},
   "source": [
    "#### Both the training accuracy and testing accuracy are very low, which indicates that the model is underfitting."
   ]
  },
  {
   "cell_type": "markdown",
   "id": "fcb86922-3b0b-41a6-ada9-ed3b05b1ec5e",
   "metadata": {},
   "source": [
    "### One-hot Encoding"
   ]
  },
  {
   "cell_type": "code",
   "execution_count": 126,
   "id": "6e78c0fe-8083-4003-98c5-4fd94d2c55f1",
   "metadata": {},
   "outputs": [],
   "source": [
    "cat_cols = ['team1', 'team2', 'toss_winner', 'toss_decision', 'venue']\n",
    "\n",
    "df_encoded = pd.get_dummies(df,columns=cat_cols,drop_first=True)\n",
    "X = df_encoded.drop('winner', axis=1)\n",
    "Y = df_encoded['winner']\n",
    "label_encoder = LabelEncoder()\n",
    "Y = label_encoder.fit_transform(Y)"
   ]
  },
  {
   "cell_type": "code",
   "execution_count": 129,
   "id": "83631c13-58e2-4c3e-a764-1f47f6d0ca16",
   "metadata": {},
   "outputs": [],
   "source": [
    "train_x,test_x,train_y,test_y = train_test_split(X,Y,test_size=0.2,random_state=42,stratify=y)"
   ]
  },
  {
   "cell_type": "code",
   "execution_count": 130,
   "id": "0ca79edd-52a3-47a1-8a5c-640b6c8ef818",
   "metadata": {},
   "outputs": [
    {
     "name": "stdout",
     "output_type": "stream",
     "text": [
      "Counter({6: 109, 0: 99, 5: 92, 9: 82, 4: 81, 2: 76, 8: 74, 10: 58, 1: 28, 7: 26, 3: 13})\n"
     ]
    }
   ],
   "source": [
    "count = Counter(Y)\n",
    "print(count)"
   ]
  },
  {
   "cell_type": "markdown",
   "id": "4730f373-086e-4996-bdbd-db4ae6999160",
   "metadata": {},
   "source": [
    "### Over-Sampling using SMOTE"
   ]
  },
  {
   "cell_type": "code",
   "execution_count": 132,
   "id": "18b9981f-a378-4485-b3f3-2491673c5fd3",
   "metadata": {},
   "outputs": [],
   "source": [
    "smo = SMOTE(random_state=5,k_neighbors=4)\n",
    "x_smo, y_smo = smo.fit_resample(train_x, train_y)"
   ]
  },
  {
   "cell_type": "markdown",
   "id": "5f0c60ca-5857-4039-808b-aa43255f1ae4",
   "metadata": {},
   "source": [
    "## Logistic Regression"
   ]
  },
  {
   "cell_type": "markdown",
   "id": "05c5edf4-5ea4-4d84-ba29-599f249a69f4",
   "metadata": {},
   "source": [
    "### Cross-Validation"
   ]
  },
  {
   "cell_type": "code",
   "execution_count": 142,
   "id": "9cedf61c-b568-4dde-8756-d636b4425e18",
   "metadata": {},
   "outputs": [
    {
     "name": "stdout",
     "output_type": "stream",
     "text": [
      "[CV] END .................................................... total time=   0.0s\n",
      "[CV] END .................................................... total time=   0.0s\n",
      "[CV] END .................................................... total time=   0.0s\n",
      "[CV] END .................................................... total time=   0.0s\n",
      "[CV] END .................................................... total time=   0.0s\n",
      "scores: [0.56081081 0.58783784 0.5472973  0.44217687 0.5170068 ]\n",
      "Mean accuracy: 0.5310259238830668\n"
     ]
    }
   ],
   "source": [
    "scores = cross_val_score(estimator=LogisticRegression(),X=X,y=Y,scoring='accuracy',cv=5,verbose=2)\n",
    "print(\"scores:\", scores)\n",
    "print(\"Mean accuracy:\", scores.mean())"
   ]
  },
  {
   "cell_type": "markdown",
   "id": "bbc8acd6-d093-46ca-98e3-84b4b6f9c0c5",
   "metadata": {},
   "source": [
    "### Logistic Regression Without Sampling"
   ]
  },
  {
   "cell_type": "code",
   "execution_count": 145,
   "id": "25f5af76-5eec-4399-8d39-db38c77e6789",
   "metadata": {},
   "outputs": [
    {
     "name": "stdout",
     "output_type": "stream",
     "text": [
      "Accuracy Score of Logistic Regression without sampling: 0.53\n",
      "Accuracy Score of train data of Logistic Regression without sampling: 0.56\n",
      "              precision    recall  f1-score   support\n",
      "\n",
      "           0       0.40      0.57      0.47        14\n",
      "           1       0.17      0.50      0.25         2\n",
      "           2       0.60      0.38      0.46        24\n",
      "           3       0.00      0.00      0.00         0\n",
      "           4       0.69      0.46      0.55        24\n",
      "           5       0.83      0.79      0.81        19\n",
      "           6       0.73      0.53      0.62        30\n",
      "           7       0.00      0.00      0.00         1\n",
      "           8       0.47      0.64      0.54        11\n",
      "           9       0.56      0.47      0.51        19\n",
      "          10       0.25      0.75      0.38         4\n",
      "\n",
      "    accuracy                           0.53       148\n",
      "   macro avg       0.43      0.46      0.42       148\n",
      "weighted avg       0.62      0.53      0.56       148\n",
      "\n"
     ]
    }
   ],
   "source": [
    "clf = LogisticRegression(penalty='l2')\n",
    "clf.fit(train_x,train_y)\n",
    "y_pred = clf.predict(test_x)\n",
    "accw = accuracy_score(y_pred,test_y)\n",
    "print(f\"Accuracy Score of Logistic Regression without sampling: {accw:.2f}\")\n",
    "\n",
    "y_pred_train = clf.predict(train_x)\n",
    "accwt = accuracy_score(y_pred_train,train_y)\n",
    "print(f\"Accuracy Score of train data of Logistic Regression without sampling: {accwt:.2f}\")\n",
    "\n",
    "## Classification report\n",
    "\n",
    "cr = classification_report(y_pred,test_y)\n",
    "print(cr)"
   ]
  },
  {
   "cell_type": "markdown",
   "id": "abb9c12c-fdab-454a-94bd-abcf54a008a9",
   "metadata": {},
   "source": [
    "### Logistic Regression With Sampling"
   ]
  },
  {
   "cell_type": "code",
   "execution_count": 152,
   "id": "d6c63d1c-9855-4773-b39d-80c5bccd13a0",
   "metadata": {},
   "outputs": [
    {
     "name": "stdout",
     "output_type": "stream",
     "text": [
      "Accuracy Score of Logistic Regression: 0.49\n",
      "Accuracy Score of train data Logistic Regression: 0.66\n",
      "              precision    recall  f1-score   support\n",
      "\n",
      "           0       0.20      0.50      0.29         8\n",
      "           1       0.50      0.43      0.46         7\n",
      "           2       0.47      0.32      0.38        22\n",
      "           3       1.00      1.00      1.00         3\n",
      "           4       0.62      0.50      0.56        20\n",
      "           5       0.78      0.70      0.74        20\n",
      "           6       0.45      0.48      0.47        21\n",
      "           7       0.20      0.17      0.18         6\n",
      "           8       0.53      0.57      0.55        14\n",
      "           9       0.50      0.44      0.47        18\n",
      "          10       0.33      0.44      0.38         9\n",
      "\n",
      "    accuracy                           0.49       148\n",
      "   macro avg       0.51      0.50      0.50       148\n",
      "weighted avg       0.52      0.49      0.49       148\n",
      "\n"
     ]
    }
   ],
   "source": [
    "cls = LogisticRegression(penalty = 'l2')\n",
    "cls.fit(x_smo,y_smo)\n",
    "y_pred = cls.predict(test_x)\n",
    "acc2 = accuracy_score(y_pred,test_y)\n",
    "print(f\"Accuracy Score of Logistic Regression: {acc2:.2f}\")\n",
    "\n",
    "y_pred_sm = cls.predict(x_smo)\n",
    "acc2t = accuracy_score(y_pred_sm,y_smo)\n",
    "print(f\"Accuracy Score of train data Logistic Regression: {acc2t:.2f}\")\n",
    "\n",
    "## Classification report\n",
    "\n",
    "cr = classification_report(y_pred,test_y)\n",
    "print(cr)"
   ]
  },
  {
   "cell_type": "markdown",
   "id": "08ebab5a-86ca-4fb9-b466-d390a72b3fcf",
   "metadata": {},
   "source": [
    "#### Logistic Regression Summary:\n",
    "\n",
    "- Without Sampling:\n",
    "   - Train Accuracy: 56%\n",
    "   - Test Accuracy: 53%\n",
    "   - Mean Cross-Validation Accuracy: 53%\n",
    "\n",
    "- The model is performing consistently across training, test, and CV. There’s no major overfitting, and generalisation is reasonable.\n",
    "\n",
    "- With Sampling:\n",
    "    - Train Accuracy: 66%\n",
    "    - Test Accuracy: 49%\n",
    "    \n",
    "- The model fits better on the training data after sampling, but test accuracy drops, showing possible overfitting. It’s learning more from the training set but not generalising as well to new data."
   ]
  },
  {
   "cell_type": "markdown",
   "id": "b0259aa4-e398-40f1-9ef1-9dbd218623ce",
   "metadata": {},
   "source": [
    "#### Without sampling, the model gives a more balanced and reliable performance. With sampling, training accuracy increases, but test accuracy drops, which may suggest overfitting. So, in this case, training without sampling is giving better and more stable results."
   ]
  },
  {
   "cell_type": "markdown",
   "id": "ddf60f45-32b6-46d4-8967-37551b3dc472",
   "metadata": {},
   "source": [
    "## K-Nearest Neighbors [KNN] - One-hot Encoding"
   ]
  },
  {
   "cell_type": "markdown",
   "id": "3de09d23-86b0-43df-b054-0bbfc95a9e11",
   "metadata": {},
   "source": [
    "### Cross Validation"
   ]
  },
  {
   "cell_type": "code",
   "execution_count": 158,
   "id": "e9e50939-f0dc-4117-ad6b-f3490f298b0b",
   "metadata": {},
   "outputs": [
    {
     "name": "stdout",
     "output_type": "stream",
     "text": [
      "[CV] END .................................................... total time=   0.0s\n",
      "[CV] END .................................................... total time=   0.0s\n",
      "[CV] END .................................................... total time=   0.0s\n",
      "[CV] END .................................................... total time=   0.0s\n",
      "[CV] END .................................................... total time=   0.0s\n",
      "scores: [0.7027027  0.66216216 0.68243243 0.70068027 0.69387755]\n",
      "Mean accuracy: 0.6883710240853098\n"
     ]
    }
   ],
   "source": [
    "scores = cross_val_score(estimator=KNeighborsClassifier(n_neighbors=5,metric='hamming'),X=X,y=Y,scoring='accuracy',cv=5,verbose=2)\n",
    "print(\"scores:\", scores)\n",
    "print(\"Mean accuracy:\", scores.mean())"
   ]
  },
  {
   "cell_type": "markdown",
   "id": "792f7541-cfab-455d-9c7e-341b50f43aea",
   "metadata": {},
   "source": [
    "### KNN without Sampling"
   ]
  },
  {
   "cell_type": "code",
   "execution_count": 161,
   "id": "1127cec2-3e55-48d3-81e8-d54d07985fd6",
   "metadata": {},
   "outputs": [
    {
     "name": "stdout",
     "output_type": "stream",
     "text": [
      "Accuracy Score of KNN without sampling: 0.72\n",
      "Accuracy Score of Train data KNN without sampling: 0.82\n"
     ]
    }
   ],
   "source": [
    "knnws = KNeighborsClassifier(n_neighbors=5,metric='hamming')\n",
    "knnws.fit(train_x,train_y)\n",
    "y_pred = knnws.predict(test_x)\n",
    "acckws = accuracy_score(y_pred,test_y)\n",
    "print(f\"Accuracy Score of KNN without sampling: {acckws:.2f}\")\n",
    "\n",
    "y_pred_train = knnws.predict(train_x)\n",
    "acckwst = accuracy_score(y_pred_train,train_y)\n",
    "print(f\"Accuracy Score of Train data KNN without sampling: {acckwst:.2f}\")"
   ]
  },
  {
   "cell_type": "markdown",
   "id": "0fdd0581-e3d8-486e-b048-f611a8e1fab6",
   "metadata": {},
   "source": [
    "### KNN with Sampling"
   ]
  },
  {
   "cell_type": "code",
   "execution_count": 164,
   "id": "396b68d4-3d5a-435f-9d96-49d1fe83d87b",
   "metadata": {},
   "outputs": [
    {
     "name": "stdout",
     "output_type": "stream",
     "text": [
      "Accuracy Score of KNN: 0.79\n",
      "Accuracy Score of train data KNN: 0.88\n"
     ]
    }
   ],
   "source": [
    "knn = KNeighborsClassifier(n_neighbors=5,metric='hamming')\n",
    "knn.fit(x_smo,y_smo)\n",
    "y_pred = knn.predict(test_x)\n",
    "acc3 = accuracy_score(y_pred,test_y)\n",
    "print(f\"Accuracy Score of KNN: {acc3:.2f}\")\n",
    "\n",
    "y_pred_sm = knn.predict(x_smo)\n",
    "acc3t = accuracy_score(y_pred_sm,y_smo)\n",
    "print(f\"Accuracy Score of train data KNN: {acc3t:.2f}\")"
   ]
  },
  {
   "cell_type": "markdown",
   "id": "29275ebd-8cc2-486b-9a1c-e7a5d94805bc",
   "metadata": {},
   "source": [
    "### K-Nearest Neighbors (KNN) Performance Summary\n",
    "\n",
    "#### Without Sampling:\n",
    "- Train Accuracy: 82%\n",
    "- Test Accuracy: 72%\n",
    "- Mean Cross-Validation Accuracy: 68.8%\n",
    "\n",
    "The model performs well on training data and fairly well on the test set.  \n",
    "The gap between train and test (82% → 72%) shows mild overfitting, but it's within an acceptable range.  \n",
    "Cross-validation accuracy is close to test accuracy, meaning the model is generalising well.\n",
    "\n",
    "#### With Sampling:\n",
    "- Train Accuracy: 86%\n",
    "- Test Accuracy: 79%\n",
    "\n",
    "After sampling, both training and test accuracy improved.  \n",
    "The train-test gap (86% → 79%) is still reasonable, showing better fit and improved generalisation.\n",
    "\n",
    "After applying sampling, the KNN model improved in both training and test accuracy.  \n",
    "The gap between them is not too large, which means the model is learning well without overfitting much.  \n",
    "Overall, sampling helped the KNN model perform better and generalise more effectively.\n"
   ]
  },
  {
   "cell_type": "markdown",
   "id": "8e429156-e398-4133-a08f-0535d99918f2",
   "metadata": {},
   "source": [
    "#### Used Hamming metrics since it has many Categorical columns, so Accuracy is Good when compared to Logistic regression"
   ]
  },
  {
   "cell_type": "markdown",
   "id": "04a67fd3-ed10-40fe-aaf0-5ec09439fb71",
   "metadata": {},
   "source": [
    "### Finding the K value by using Elbow method"
   ]
  },
  {
   "cell_type": "code",
   "execution_count": 169,
   "id": "f66e791a-d5c6-43b8-be8b-d336a40cc5b0",
   "metadata": {},
   "outputs": [],
   "source": [
    "def Elbow(K):\n",
    "    test_error = []\n",
    "    for i in K:\n",
    "        clf = KNeighborsClassifier(n_neighbors=i,metric=\"hamming\")\n",
    "        clf.fit(train_x,train_y)\n",
    "        tmp = clf.predict(test_x)\n",
    "        tmp = accuracy_score(tmp,test_y)\n",
    "        error = 1 - tmp\n",
    "        test_error.append(error)\n",
    "    return test_error\n",
    "\n",
    "k = range(2,10,2)\n",
    "new_k = Elbow(k)"
   ]
  },
  {
   "cell_type": "code",
   "execution_count": 171,
   "id": "c1dd466e-2e4e-46a6-8355-cef7837511a7",
   "metadata": {},
   "outputs": [
    {
     "data": {
      "image/png": "[encoded data removed]",
      "text/plain": [
       "<Figure size 640x480 with 1 Axes>"
      ]
     },
     "metadata": {},
     "output_type": "display_data"
    }
   ],
   "source": [
    "plt.plot(k,new_k)\n",
    "plt.xlabel('n_neighbors')\n",
    "plt.ylabel('test_error')\n",
    "plt.title('Elbow Curve to Find k')\n",
    "plt.show()"
   ]
  },
  {
   "cell_type": "code",
   "execution_count": 172,
   "id": "a0f99b4c-b38e-4db8-ac04-82ea9b06da3b",
   "metadata": {},
   "outputs": [
    {
     "name": "stdout",
     "output_type": "stream",
     "text": [
      "Accuracy Score of KNN without sampling: 0.76\n",
      "Accuracy Score of Train data KNN without sampling: 0.84\n"
     ]
    }
   ],
   "source": [
    "knnws = KNeighborsClassifier(n_neighbors=4,metric='hamming')\n",
    "knnws.fit(train_x,train_y)\n",
    "y_pred = knnws.predict(test_x)\n",
    "acckws = accuracy_score(y_pred,test_y)\n",
    "print(f\"Accuracy Score of KNN without sampling: {acckws:.2f}\")\n",
    "\n",
    "y_pred_train = knnws.predict(train_x)\n",
    "acckwst = accuracy_score(y_pred_train,train_y)\n",
    "print(f\"Accuracy Score of Train data KNN without sampling: {acckwst:.2f}\")"
   ]
  },
  {
   "cell_type": "code",
   "execution_count": 174,
   "id": "f846bfbd-c2da-4afa-ac85-b3d9d648a587",
   "metadata": {},
   "outputs": [],
   "source": [
    "def Elbow(K):\n",
    "    test_error = []\n",
    "    for i in K:\n",
    "        clf = KNeighborsClassifier(n_neighbors=i,metric=\"hamming\")\n",
    "        clf.fit(x_smo,y_smo)\n",
    "        tmp = clf.predict(test_x)\n",
    "        tmp = accuracy_score(tmp,test_y)\n",
    "        error = 1 - tmp\n",
    "        test_error.append(error)\n",
    "    return test_error\n",
    "\n",
    "k = range(2,10,2)\n",
    "new_k = Elbow(k)"
   ]
  },
  {
   "cell_type": "code",
   "execution_count": 176,
   "id": "53e77d0d-2dc2-485e-bd94-282cb3d00fac",
   "metadata": {},
   "outputs": [
    {
     "data": {
      "image/png": "[encoded data removed]",
      "text/plain": [
       "<Figure size 640x480 with 1 Axes>"
      ]
     },
     "metadata": {},
     "output_type": "display_data"
    }
   ],
   "source": [
    "plt.plot(k,new_k)\n",
    "plt.xlabel('n_neighbors')\n",
    "plt.ylabel('test_error')\n",
    "plt.title('Elbow Curve to Find k')\n",
    "plt.show()"
   ]
  },
  {
   "cell_type": "code",
   "execution_count": 178,
   "id": "bc6352e0-cd48-482e-8af1-39bb406fae13",
   "metadata": {},
   "outputs": [
    {
     "name": "stdout",
     "output_type": "stream",
     "text": [
      "Accuracy Score of KNN for best K: 0.82\n",
      "Accuracy Score of train data KNN for best K: 0.90\n"
     ]
    }
   ],
   "source": [
    "knnt = KNeighborsClassifier(n_neighbors=4,metric='hamming')\n",
    "knnt.fit(x_smo,y_smo)\n",
    "y_pred = knnt.predict(test_x)\n",
    "acc3k = accuracy_score(y_pred,test_y)\n",
    "print(f\"Accuracy Score of KNN for best K: {acc3k:.2f}\")\n",
    "\n",
    "y_pred_sm = knnt.predict(x_smo)\n",
    "acc3tk = accuracy_score(y_pred_sm,y_smo)\n",
    "print(f\"Accuracy Score of train data KNN for best K: {acc3tk:.2f}\")"
   ]
  },
  {
   "cell_type": "markdown",
   "id": "d053d821-1256-481c-b2dd-b1ba27402c8a",
   "metadata": {},
   "source": [
    "#### By tuning k,It increases in both cases with sampling and without sampling"
   ]
  },
  {
   "cell_type": "markdown",
   "id": "3f57bd0e-fe6c-4d11-bfd5-ac04495e507e",
   "metadata": {},
   "source": [
    "## Navie-Bayes =>  Bernoulli NB\n",
    "\n",
    "- since it has Categorical Independent values, we can go with Bernoulli NB"
   ]
  },
  {
   "cell_type": "markdown",
   "id": "62ef77ba-7e69-49d2-8bd8-3670a398f7d3",
   "metadata": {},
   "source": [
    "### Cross Validation"
   ]
  },
  {
   "cell_type": "code",
   "execution_count": 184,
   "id": "31a01c16-1b1f-4d71-9af8-b1ff6c1caaa0",
   "metadata": {},
   "outputs": [
    {
     "name": "stdout",
     "output_type": "stream",
     "text": [
      "[CV] END .................................................... total time=   0.0s\n",
      "[CV] END .................................................... total time=   0.0s\n",
      "[CV] END .................................................... total time=   0.0s\n",
      "[CV] END .................................................... total time=   0.0s\n",
      "[CV] END .................................................... total time=   0.0s\n",
      "scores: [0.51351351 0.5472973  0.53378378 0.47619048 0.55102041]\n",
      "Mean accuracy: 0.5243610957896672\n"
     ]
    }
   ],
   "source": [
    "scores = cross_val_score(estimator=BernoulliNB(),X=X,y=Y,scoring='accuracy',cv=5,verbose=2)\n",
    "print(\"scores:\", scores)\n",
    "print(\"Mean accuracy:\", scores.mean())"
   ]
  },
  {
   "cell_type": "markdown",
   "id": "eb06d246-81c9-4c05-a855-e55fd69793bc",
   "metadata": {},
   "source": [
    "### Without Sampling"
   ]
  },
  {
   "cell_type": "code",
   "execution_count": 187,
   "id": "82c9392f-b4d7-4862-84db-1a0eac287b03",
   "metadata": {},
   "outputs": [
    {
     "name": "stdout",
     "output_type": "stream",
     "text": [
      "Accuracy Score of Navie-Bayes => Bernoulli NB without sampling: 0.53\n",
      "Accuracy Score of train data Navie-Bayes => Bernoulli NB without sampling: 0.62\n"
     ]
    }
   ],
   "source": [
    "nbws = BernoulliNB()\n",
    "nbws.fit(train_x,train_y)\n",
    "y_pred = nbws.predict(test_x)\n",
    "accnws = accuracy_score(y_pred,test_y)\n",
    "print(f\"Accuracy Score of Navie-Bayes => Bernoulli NB without sampling: {accnws:.2f}\")\n",
    "\n",
    "y_pred_train = nbws.predict(train_x)\n",
    "accnwst = accuracy_score(y_pred_train,train_y)\n",
    "print(f\"Accuracy Score of train data Navie-Bayes => Bernoulli NB without sampling: {accnwst:.2f}\")"
   ]
  },
  {
   "cell_type": "markdown",
   "id": "22abeeea-8fad-4f32-b6f4-ae9e055fde11",
   "metadata": {},
   "source": [
    "### With Sampling"
   ]
  },
  {
   "cell_type": "code",
   "execution_count": 190,
   "id": "318da5e5-e8e2-4f2a-a582-e3b881bc965c",
   "metadata": {},
   "outputs": [
    {
     "name": "stdout",
     "output_type": "stream",
     "text": [
      "Accuracy Score of Navie-Bayes => Bernoulli NB: 0.53\n",
      "Accuracy Score of train data Navie-Bayes => Bernoulli NB: 0.70\n"
     ]
    }
   ],
   "source": [
    "nb = BernoulliNB()\n",
    "nb.fit(x_smo,y_smo)\n",
    "y_pred = nb.predict(test_x)\n",
    "accNB = accuracy_score(y_pred,test_y)\n",
    "print(f\"Accuracy Score of Navie-Bayes => Bernoulli NB: {accNB:.2f}\")\n",
    "\n",
    "y_pred_train = nb.predict(x_smo)\n",
    "accNBT = accuracy_score(y_pred_train,y_smo)\n",
    "print(f\"Accuracy Score of train data Navie-Bayes => Bernoulli NB: {accNBT:.2f}\")"
   ]
  },
  {
   "cell_type": "markdown",
   "id": "5fe479b1-8343-4ca2-a706-7d8615272a07",
   "metadata": {},
   "source": [
    "### Bernoulli Naive Bayes – Performance Summary\n",
    "\n",
    "#### Without Sampling:\n",
    "- Train Accuracy: 62%\n",
    "- Test Accuracy: 53%\n",
    "- Mean Cross-Validation Accuracy: 52%\n",
    "\n",
    "The model performs fairly well without sampling.  \n",
    "The small gap between training and test accuracy indicates that the model is generalising reasonably and is not overfitting.\n",
    "\n",
    "#### With Sampling:\n",
    "- Train Accuracy: 70%\n",
    "- Test Accuracy: 53%\n",
    "\n",
    "After applying sampling, the training accuracy increased, but the test accuracy did not improve.  \n",
    "This suggests that the model may be overfitting to the training data created by sampling.\n",
    "\n",
    "Sampling increased the training accuracy but did not help with the test accuracy.  \n",
    "Since the performance on new data stayed the same and the gap widened, the model without sampling is more stable and reliable in this case.\n"
   ]
  },
  {
   "cell_type": "markdown",
   "id": "f14a619f-c73f-4a6d-bd18-e86c714f830f",
   "metadata": {},
   "source": [
    "## Support vector Machine"
   ]
  },
  {
   "cell_type": "markdown",
   "id": "aa3270d6-94bd-41b7-b782-4baf4128be5f",
   "metadata": {},
   "source": [
    "### Cross-Validation"
   ]
  },
  {
   "cell_type": "code",
   "execution_count": 195,
   "id": "ad82d5b3-1c04-45a5-a7b9-b870c19fdaf8",
   "metadata": {},
   "outputs": [
    {
     "name": "stdout",
     "output_type": "stream",
     "text": [
      "[CV] END .................................................... total time=   0.0s\n",
      "[CV] END .................................................... total time=   0.0s\n",
      "[CV] END .................................................... total time=   0.0s\n",
      "[CV] END .................................................... total time=   0.0s\n",
      "[CV] END .................................................... total time=   0.0s\n",
      "scores: [0.18918919 0.19594595 0.20945946 0.17006803 0.19727891]\n",
      "Mean accuracy: 0.19238830667402096\n"
     ]
    }
   ],
   "source": [
    "scores = cross_val_score(estimator=SVC(),X=X,y=Y,scoring='accuracy',cv=5,verbose=2)\n",
    "print(\"scores:\", scores)\n",
    "print(\"Mean accuracy:\", scores.mean())"
   ]
  },
  {
   "cell_type": "markdown",
   "id": "58caa248-4c88-4911-b9de-e3c849d65aaa",
   "metadata": {},
   "source": [
    "### With Sampling"
   ]
  },
  {
   "cell_type": "code",
   "execution_count": 197,
   "id": "5693c30d-1bad-454b-bc56-ff4fc151d230",
   "metadata": {},
   "outputs": [
    {
     "name": "stdout",
     "output_type": "stream",
     "text": [
      "Accuracy Score of Support Vector Machine: 0.10\n",
      "Accuracy Score of train data Support Vector Machine: 0.24\n"
     ]
    }
   ],
   "source": [
    "sv = SVC()\n",
    "sv.fit(x_smo,y_smo)\n",
    "y_pred = sv.predict(test_x)\n",
    "accsv = accuracy_score(y_pred,test_y)\n",
    "print(f\"Accuracy Score of Support Vector Machine: {accsv:.2f}\")\n",
    "\n",
    "y_pred_train = sv.predict(x_smo)\n",
    "accsvT = accuracy_score(y_pred_train,y_smo)\n",
    "print(f\"Accuracy Score of train data Support Vector Machine: {accsvT:.2f}\")"
   ]
  },
  {
   "cell_type": "markdown",
   "id": "49547f06-5ede-412f-b751-3044618d83c2",
   "metadata": {},
   "source": [
    "### Without Sampling"
   ]
  },
  {
   "cell_type": "code",
   "execution_count": 200,
   "id": "6d8e99e0-635b-4026-892a-ad194e69fef2",
   "metadata": {},
   "outputs": [
    {
     "name": "stdout",
     "output_type": "stream",
     "text": [
      "Accuracy Score of Support Vector Machine without Sampling: 0.18\n",
      "Accuracy Score of train data Support Vector Machine without Sampling: 0.23\n"
     ]
    }
   ],
   "source": [
    "sv = SVC()\n",
    "sv.fit(train_x,train_y)\n",
    "y_pred = sv.predict(test_x)\n",
    "accsv = accuracy_score(y_pred,test_y)\n",
    "print(f\"Accuracy Score of Support Vector Machine without Sampling: {accsv:.2f}\")\n",
    "\n",
    "y_pred_train = sv.predict(train_x)\n",
    "accsvT = accuracy_score(y_pred_train,train_y)\n",
    "print(f\"Accuracy Score of train data Support Vector Machine without Sampling: {accsvT:.2f}\")"
   ]
  },
  {
   "cell_type": "markdown",
   "id": "4a58a990-f71c-4ed7-9e02-2ed08a19b67b",
   "metadata": {},
   "source": [
    "### Label Encoding"
   ]
  },
  {
   "cell_type": "code",
   "execution_count": 203,
   "id": "9e371502-6e08-44b2-b9a6-23b9e8207456",
   "metadata": {},
   "outputs": [
    {
     "name": "stdout",
     "output_type": "stream",
     "text": [
      "Accuracy Score of Support Vector Machine - Label Encoding without Sampling: 0.43\n",
      "Accuracy Score of train data Support Vector Machine - Label Encoding without Sampling: 0.42\n"
     ]
    }
   ],
   "source": [
    "sv = SVC()\n",
    "sv.fit(x_train,y_train)\n",
    "y_pred = sv.predict(x_test)\n",
    "accsvl = accuracy_score(y_pred,y_test)\n",
    "print(f\"Accuracy Score of Support Vector Machine - Label Encoding without Sampling: {accsvl:.2f}\")\n",
    "\n",
    "y_pred_train = sv.predict(x_train)\n",
    "accsvlT = accuracy_score(y_pred_train,y_train)\n",
    "print(f\"Accuracy Score of train data Support Vector Machine - Label Encoding without Sampling: {accsvlT:.2f}\")"
   ]
  },
  {
   "cell_type": "markdown",
   "id": "f06b70b7-cb61-461a-b2c2-1b2fa10ceb6b",
   "metadata": {},
   "source": [
    "### Hyper Parameter tunning"
   ]
  },
  {
   "cell_type": "code",
   "execution_count": 207,
   "id": "dd493c7b-cda0-4300-8b10-55e6744a0539",
   "metadata": {},
   "outputs": [],
   "source": [
    "param_grid = {\n",
    "    'C':[0.1,1,10,100], \n",
    "    'kernel':['linear','rbf'], \n",
    "     'gamma':['scale','auto']\n",
    "}"
   ]
  },
  {
   "cell_type": "code",
   "execution_count": 209,
   "id": "a9aa16a5-781b-474d-a104-f7520d61a1ff",
   "metadata": {},
   "outputs": [
    {
     "name": "stdout",
     "output_type": "stream",
     "text": [
      "Fitting 5 folds for each of 16 candidates, totalling 80 fits\n",
      "Best hyperparameters: {'C': 10, 'gamma': 'scale', 'kernel': 'linear'}\n",
      "Best Cross validation Score: 0.62\n"
     ]
    }
   ],
   "source": [
    "grid_search = GridSearchCV(estimator=SVC(),param_grid = param_grid,cv=5,verbose=2,n_jobs = -1)\n",
    "grid_search.fit(train_x,train_y)\n",
    "\n",
    "best_param = grid_search.best_params_\n",
    "best_score= grid_search.best_score_\n",
    "\n",
    "print(f\"Best hyperparameters: {best_param}\")\n",
    "print(f\"Best Cross validation Score: {best_score:.2f}\")"
   ]
  },
  {
   "cell_type": "code",
   "execution_count": 210,
   "id": "8fb20448-9cc8-4fbb-8e50-26e11ea3451c",
   "metadata": {},
   "outputs": [
    {
     "name": "stdout",
     "output_type": "stream",
     "text": [
      "Accuracy Score of Support Vector Machine without Sampling(Tunning): 0.65\n",
      "Accuracy Score of train data Support Vector Machine without Sampling(Tunning): 0.95\n"
     ]
    }
   ],
   "source": [
    "best_model = grid_search.best_estimator_\n",
    "best_model.fit(train_x,train_y)\n",
    "y_pred = best_model.predict(test_x)\n",
    "accsvu = accuracy_score(y_pred,test_y)\n",
    "print(f\"Accuracy Score of Support Vector Machine without Sampling(Tunning): {accsvu:.2f}\")\n",
    "\n",
    "y_pred_train = best_model.predict(train_x)\n",
    "accsvTu = accuracy_score(y_pred_train,train_y)\n",
    "print(f\"Accuracy Score of train data Support Vector Machine without Sampling(Tunning): {accsvTu:.2f}\")"
   ]
  },
  {
   "cell_type": "code",
   "execution_count": 211,
   "id": "2b4b278e-b77c-48e4-80a5-c519f7929736",
   "metadata": {},
   "outputs": [
    {
     "name": "stdout",
     "output_type": "stream",
     "text": [
      "Accuracy Score of Support Vector Machine(Tunning): 0.64\n",
      "Accuracy Score of train data Support Vector Machine(Tunning): 0.93\n"
     ]
    }
   ],
   "source": [
    "best_model = grid_search.best_estimator_\n",
    "best_model.fit(x_smo,y_smo)\n",
    "y_pred = best_model.predict(test_x)\n",
    "accsu = accuracy_score(y_pred,test_y)\n",
    "print(f\"Accuracy Score of Support Vector Machine(Tunning): {accsu:.2f}\")\n",
    "\n",
    "y_pred_train = best_model.predict(x_smo)\n",
    "accsTu = accuracy_score(y_pred_train,y_smo)\n",
    "print(f\"Accuracy Score of train data Support Vector Machine(Tunning): {accsTu:.2f}\")"
   ]
  },
  {
   "cell_type": "code",
   "execution_count": 212,
   "id": "ecda9cdc-9d46-4b6a-856f-8628f875345a",
   "metadata": {},
   "outputs": [
    {
     "name": "stdout",
     "output_type": "stream",
     "text": [
      "Accuracy Score of Support Vector Machine - Label Encoder(Tunning): 0.25\n",
      "Accuracy Score of train data Support Vector Machine- Label Encoder(Tunning): 0.29\n"
     ]
    }
   ],
   "source": [
    "best_model = grid_search.best_estimator_\n",
    "best_model.fit(x_train,y_train)\n",
    "y_pred = best_model.predict(x_test)\n",
    "accsul = accuracy_score(y_pred,y_test)\n",
    "print(f\"Accuracy Score of Support Vector Machine - Label Encoder(Tunning): {accsul:.2f}\")\n",
    "\n",
    "y_pred_train = best_model.predict(x_train)\n",
    "accsTul = accuracy_score(y_pred_train,y_train)\n",
    "print(f\"Accuracy Score of train data Support Vector Machine- Label Encoder(Tunning): {accsTul:.2f}\")"
   ]
  },
  {
   "cell_type": "markdown",
   "id": "1f67623c-f71d-488a-bd69-77caf8d3bcc1",
   "metadata": {},
   "source": [
    "### Support‑Vector Machine (SVM) ‒ Performance Summary\n",
    "\n",
    "**Before tuning**\n",
    "• Train accuracy 0.24, test accuracy 0.10–0.18 → the SVM was under‑fitting (it hadn’t learned the patterns).\n",
    "\n",
    "**After tuning**\n",
    "• Train accuracy jumped to 0.93–0.95, but test accuracy only reached 0.64–0.65 → the SVM is now over‑fitting (memorising the training set but not generalising).\n",
    "\n",
    "The SVM is overfitting because,\n",
    "\n",
    "Small dataset – With fewer rows, the model easily memorizes the data.\n",
    "\n",
    "Many classes – Handling 12 classes with limited data makes learning harder.\n",
    "\n",
    "One-hot encoding – Creates high-dimensional sparse data, making distance-based learning less reliable.\n",
    "\n",
    "Before tuning (label‑encoded features, no sampling):\n",
    "Train accuracy 0.42, test accuracy 0.43 ⇒ model is underfitting but train‑test scores match.\n",
    "\n",
    "After tuning:\n",
    "Train accuracy rises to 0.63 while test accuracy edges up to 0.48 ⇒ a small gain on unseen data, but the larger gap shows mild overfitting.\n",
    "\n",
    "So, tuning helped a little, yet the model still struggles and now fits the training data more tightly than the test data.\n",
    "\n"
   ]
  },
  {
   "cell_type": "markdown",
   "id": "5e568136-44f9-4b4b-a23a-cd5f0d355188",
   "metadata": {},
   "source": [
    "## Decision tree"
   ]
  },
  {
   "cell_type": "markdown",
   "id": "72286999-ea79-4bba-ad76-e6f16b63fe20",
   "metadata": {},
   "source": [
    "### Cross Validation"
   ]
  },
  {
   "cell_type": "code",
   "execution_count": 216,
   "id": "0fe38201-2a05-4a3c-85ac-c4f803856fa2",
   "metadata": {},
   "outputs": [
    {
     "name": "stdout",
     "output_type": "stream",
     "text": [
      "[CV] END .................................................... total time=   0.0s\n",
      "[CV] END .................................................... total time=   0.0s\n",
      "[CV] END .................................................... total time=   0.0s\n",
      "[CV] END .................................................... total time=   0.0s\n",
      "[CV] END .................................................... total time=   0.0s\n",
      "scores: [0.85810811 0.88513514 0.91216216 0.82993197 0.85714286]\n",
      "Mean accuracy: 0.8684960470674756\n"
     ]
    }
   ],
   "source": [
    "scores = cross_val_score(estimator=DecisionTreeClassifier(random_state=42),X=X,y=Y,scoring='accuracy',cv=5,verbose=2)\n",
    "print(\"scores:\", scores)\n",
    "print(\"Mean accuracy:\", scores.mean())"
   ]
  },
  {
   "cell_type": "markdown",
   "id": "ec653f42-1520-4f58-a124-43580cb03dbf",
   "metadata": {},
   "source": [
    "### Without Sampling"
   ]
  },
  {
   "cell_type": "code",
   "execution_count": 218,
   "id": "b643a1ce-6188-4997-b987-6e99b1fba736",
   "metadata": {},
   "outputs": [
    {
     "name": "stdout",
     "output_type": "stream",
     "text": [
      "Accuracy Score of Decision Tree without sampling: 0.93\n",
      "Accuracy Score of train data of Decision Tree without sampling: 1.00\n"
     ]
    }
   ],
   "source": [
    "dt = DecisionTreeClassifier(random_state=42)\n",
    "dt.fit(train_x,train_y)\n",
    "y_pred = dt.predict(test_x)\n",
    "accdt = accuracy_score(y_pred,test_y)\n",
    "print(f\"Accuracy Score of Decision Tree without sampling: {accdt:.2f}\")\n",
    "\n",
    "y_pred_train = dt.predict(train_x)\n",
    "accdtt = accuracy_score(y_pred_train,train_y)\n",
    "print(f\"Accuracy Score of train data of Decision Tree without sampling: {accdtt:.2f}\")"
   ]
  },
  {
   "cell_type": "markdown",
   "id": "3b5a7baa-a06c-4de0-83ef-bb1ad946b90c",
   "metadata": {},
   "source": [
    "### With Sampling"
   ]
  },
  {
   "cell_type": "code",
   "execution_count": 220,
   "id": "39c67819-272f-480c-a601-68e63cf46948",
   "metadata": {},
   "outputs": [
    {
     "name": "stdout",
     "output_type": "stream",
     "text": [
      "Accuracy Score of Decision Tree: 0.94\n",
      "Accuracy Score of train data of Decision Tree: 1.00\n"
     ]
    }
   ],
   "source": [
    "dt = DecisionTreeClassifier(random_state=42)\n",
    "dt.fit(x_smo,y_smo)\n",
    "y_pred = dt.predict(test_x)\n",
    "accdts = accuracy_score(y_pred,test_y)\n",
    "print(f\"Accuracy Score of Decision Tree: {accdts:.2f}\")\n",
    "\n",
    "y_pred_train = dt.predict(x_smo)\n",
    "accdtts = accuracy_score(y_pred_train,y_smo)\n",
    "print(f\"Accuracy Score of train data of Decision Tree: {accdtts:.2f}\")"
   ]
  },
  {
   "cell_type": "markdown",
   "id": "9b65cca5-800b-4d1a-82c1-d8d7bacf1d30",
   "metadata": {},
   "source": [
    "### Hyper Parameter Tunning"
   ]
  },
  {
   "cell_type": "code",
   "execution_count": 222,
   "id": "33a11a99-bf56-4676-9a1b-2470fe1482ce",
   "metadata": {},
   "outputs": [],
   "source": [
    "param_grid = {\n",
    "    \"criterion\":[\"gini\", \"entropy\"],\n",
    "    \"max_depth\":[None, 5, 10, 20],\n",
    "}\n"
   ]
  },
  {
   "cell_type": "code",
   "execution_count": 223,
   "id": "292940df-ed5e-4de6-beb5-fa53fc067e65",
   "metadata": {},
   "outputs": [
    {
     "name": "stdout",
     "output_type": "stream",
     "text": [
      "Fitting 5 folds for each of 8 candidates, totalling 40 fits\n",
      "Best hyperparameters: {'criterion': 'gini', 'max_depth': None}\n",
      "Best Cross validation Score: 0.83\n"
     ]
    }
   ],
   "source": [
    "grid_search = GridSearchCV(estimator=dt,param_grid=param_grid,cv=5,verbose=2,scoring='accuracy',n_jobs=-1)\n",
    "grid_search.fit(train_x,train_y)\n",
    "\n",
    "best_param = grid_search.best_params_\n",
    "best_score= grid_search.best_score_\n",
    "\n",
    "print(f\"Best hyperparameters: {best_param}\")\n",
    "print(f\"Best Cross validation Score: {best_score:.2f}\")"
   ]
  },
  {
   "cell_type": "code",
   "execution_count": 224,
   "id": "38bdc6ce-22ff-457b-8611-46e99d89eb59",
   "metadata": {},
   "outputs": [
    {
     "name": "stdout",
     "output_type": "stream",
     "text": [
      "Accuracy Score of Decision Tree after Tunning: 0.93\n",
      "Accuracy Score of train data of Decision Tree After tunning: 1.00\n"
     ]
    }
   ],
   "source": [
    "best_model = grid_search.best_estimator_\n",
    "best_model.fit(train_x,train_y)\n",
    "y_pred = best_model.predict(test_x)\n",
    "accdt = accuracy_score(y_pred,test_y)\n",
    "print(f\"Accuracy Score of Decision Tree after Tunning: {accdt:.2f}\")\n",
    "\n",
    "y_pred_train = best_model.predict(train_x)\n",
    "accdtt = accuracy_score(y_pred_train,train_y)\n",
    "print(f\"Accuracy Score of train data of Decision Tree After tunning: {accdtt:.2f}\")"
   ]
  },
  {
   "cell_type": "markdown",
   "id": "352794b0-442b-4b66-9f99-7bbe627717d8",
   "metadata": {},
   "source": [
    "### Tree Plot"
   ]
  },
  {
   "cell_type": "code",
   "execution_count": 294,
   "id": "b5efe709-a119-4c1f-b8aa-cd5bebc1203a",
   "metadata": {},
   "outputs": [
    {
     "data": {
      "text/plain": [
       "[Text(0.917730248492697, 0.9833333333333333, 'x[16] <= 0.5\\ngini = 0.909\\nsamples = 957\\nvalue = [87, 87, 87, 87, 87, 87, 87, 87, 87, 87, 87]'),\n",
       " Text(0.868069192637568, 0.95, 'x[15] <= 0.5\\ngini = 0.904\\nsamples = 885\\nvalue = [87, 87, 87, 18, 86, 87, 87, 87, 87, 85, 87]'),\n",
       " Text(0.8928997205651326, 0.9666666666666666, 'True  '),\n",
       " Text(0.8013557765794836, 0.9166666666666666, 'x[18] <= 0.5\\ngini = 0.899\\nsamples = 783\\nvalue = [79, 85, 27, 17, 82, 82, 79, 85, 83, 80, 84]'),\n",
       " Text(0.7331463357676631, 0.8833333333333333, 'x[21] <= 0.5\\ngini = 0.896\\nsamples = 702\\nvalue = [75, 85, 26, 17, 78, 31, 72, 84, 75, 79, 80]'),\n",
       " Text(0.6619448454483695, 0.85, 'x[17] <= 0.5\\ngini = 0.891\\nsamples = 625\\nvalue = [69, 85, 22, 17, 71, 30, 69, 84, 26, 76, 76]'),\n",
       " Text(0.5956288213315217, 0.8166666666666667, 'x[22] <= 0.5\\ngini = 0.884\\nsamples = 547\\nvalue = [63, 83, 21, 17, 23, 27, 65, 83, 23, 70, 72]'),\n",
       " Text(0.528214164402174, 0.7833333333333333, 'x[23] <= 0.5\\ngini = 0.875\\nsamples = 457\\nvalue = [59, 76, 18, 17, 19, 21, 58, 82, 20, 19, 68]'),\n",
       " Text(0.44773267663043476, 0.75, 'x[20] <= 0.5\\ngini = 0.87\\nsamples = 405\\nvalue = [56.0, 76.0, 17.0, 17.0, 17.0, 18.0, 56.0, 81.0, 20.0\\n17.0, 30.0]'),\n",
       " Text(0.3519870923913043, 0.7166666666666667, 'x[19] <= 0.5\\ngini = 0.873\\nsamples = 347\\nvalue = [53.0, 75.0, 15.0, 17.0, 17.0, 15.0, 54.0, 40.0, 19.0\\n14.0, 28.0]'),\n",
       " Text(0.24745244565217392, 0.6833333333333333, 'x[1] <= 0.5\\ngini = 0.858\\nsamples = 273\\nvalue = [50.0, 71.0, 11.0, 17.0, 13.0, 12.0, 12.0, 34.0, 17.0\\n11.0, 25.0]'),\n",
       " Text(0.10360054347826086, 0.65, 'x[14] <= 0.5\\ngini = 0.696\\nsamples = 88\\nvalue = [39, 23, 1, 17, 3, 0, 0, 2, 2, 0, 1]'),\n",
       " Text(0.09273097826086957, 0.6166666666666667, 'x[2] <= 2.5\\ngini = 0.63\\nsamples = 71\\nvalue = [39, 6, 1, 17, 3, 0, 0, 2, 2, 0, 1]'),\n",
       " Text(0.043478260869565216, 0.5833333333333334, 'x[3] <= 63.5\\ngini = 0.311\\nsamples = 17\\nvalue = [1, 0, 0, 14, 1, 0, 0, 0, 1, 0, 0]'),\n",
       " Text(0.021739130434782608, 0.55, 'x[67] <= 0.5\\ngini = 0.124\\nsamples = 15\\nvalue = [1, 0, 0, 14, 0, 0, 0, 0, 0, 0, 0]'),\n",
       " Text(0.010869565217391304, 0.5166666666666667, 'gini = 0.0\\nsamples = 14\\nvalue = [0, 0, 0, 14, 0, 0, 0, 0, 0, 0, 0]'),\n",
       " Text(0.03260869565217391, 0.5166666666666667, 'gini = 0.0\\nsamples = 1\\nvalue = [1, 0, 0, 0, 0, 0, 0, 0, 0, 0, 0]'),\n",
       " Text(0.06521739130434782, 0.55, 'x[7] <= 0.5\\ngini = 0.5\\nsamples = 2\\nvalue = [0, 0, 0, 0, 1, 0, 0, 0, 1, 0, 0]'),\n",
       " Text(0.05434782608695652, 0.5166666666666667, 'gini = 0.0\\nsamples = 1\\nvalue = [0, 0, 0, 0, 0, 0, 0, 0, 1, 0, 0]'),\n",
       " Text(0.07608695652173914, 0.5166666666666667, 'gini = 0.0\\nsamples = 1\\nvalue = [0, 0, 0, 0, 1, 0, 0, 0, 0, 0, 0]'),\n",
       " Text(0.14198369565217392, 0.5833333333333334, 'x[3] <= 16.5\\ngini = 0.486\\nsamples = 54\\nvalue = [38, 6, 1, 3, 2, 0, 0, 2, 1, 0, 1]'),\n",
       " Text(0.10869565217391304, 0.55, 'x[29] <= 0.5\\ngini = 0.375\\nsamples = 8\\nvalue = [2, 6, 0, 0, 0, 0, 0, 0, 0, 0, 0]'),\n",
       " Text(0.09782608695652174, 0.5166666666666667, 'x[12] <= 0.5\\ngini = 0.245\\nsamples = 7\\nvalue = [1, 6, 0, 0, 0, 0, 0, 0, 0, 0, 0]'),\n",
       " Text(0.08695652173913043, 0.48333333333333334, 'gini = 0.0\\nsamples = 6\\nvalue = [0, 6, 0, 0, 0, 0, 0, 0, 0, 0, 0]'),\n",
       " Text(0.10869565217391304, 0.48333333333333334, 'gini = 0.0\\nsamples = 1\\nvalue = [1, 0, 0, 0, 0, 0, 0, 0, 0, 0, 0]'),\n",
       " Text(0.11956521739130435, 0.5166666666666667, 'gini = 0.0\\nsamples = 1\\nvalue = [1, 0, 0, 0, 0, 0, 0, 0, 0, 0, 0]'),\n",
       " Text(0.17527173913043478, 0.55, 'x[2] <= 3.5\\ngini = 0.378\\nsamples = 46\\nvalue = [36, 0, 1, 3, 2, 0, 0, 2, 1, 0, 1]'),\n",
       " Text(0.14130434782608695, 0.5166666666666667, 'x[35] <= 0.5\\ngini = 0.5\\nsamples = 2\\nvalue = [0, 0, 1, 0, 0, 0, 0, 1, 0, 0, 0]'),\n",
       " Text(0.13043478260869565, 0.48333333333333334, 'gini = 0.0\\nsamples = 1\\nvalue = [0, 0, 0, 0, 0, 0, 0, 1, 0, 0, 0]'),\n",
       " Text(0.15217391304347827, 0.48333333333333334, 'gini = 0.0\\nsamples = 1\\nvalue = [0, 0, 1, 0, 0, 0, 0, 0, 0, 0, 0]'),\n",
       " Text(0.20923913043478262, 0.5166666666666667, 'x[3] <= 50.0\\ngini = 0.322\\nsamples = 44\\nvalue = [36, 0, 0, 3, 2, 0, 0, 1, 1, 0, 1]'),\n",
       " Text(0.17391304347826086, 0.48333333333333334, 'x[2] <= 5.5\\ngini = 0.594\\nsamples = 8\\nvalue = [4, 0, 0, 3, 0, 0, 0, 0, 0, 0, 1]'),\n",
       " Text(0.16304347826086957, 0.45, 'x[11] <= 0.5\\ngini = 0.56\\nsamples = 5\\nvalue = [1, 0, 0, 3, 0, 0, 0, 0, 0, 0, 1]'),\n",
       " Text(0.15217391304347827, 0.4166666666666667, 'x[34] <= 0.5\\ngini = 0.375\\nsamples = 4\\nvalue = [0, 0, 0, 3, 0, 0, 0, 0, 0, 0, 1]'),\n",
       " Text(0.14130434782608695, 0.38333333333333336, 'gini = 0.0\\nsamples = 1\\nvalue = [0, 0, 0, 0, 0, 0, 0, 0, 0, 0, 1]'),\n",
       " Text(0.16304347826086957, 0.38333333333333336, 'gini = 0.0\\nsamples = 3\\nvalue = [0, 0, 0, 3, 0, 0, 0, 0, 0, 0, 0]'),\n",
       " Text(0.17391304347826086, 0.4166666666666667, 'gini = 0.0\\nsamples = 1\\nvalue = [1, 0, 0, 0, 0, 0, 0, 0, 0, 0, 0]'),\n",
       " Text(0.18478260869565216, 0.45, 'gini = 0.0\\nsamples = 3\\nvalue = [3, 0, 0, 0, 0, 0, 0, 0, 0, 0, 0]'),\n",
       " Text(0.24456521739130435, 0.48333333333333334, 'x[3] <= 210.0\\ngini = 0.205\\nsamples = 36\\nvalue = [32, 0, 0, 0, 2, 0, 0, 1, 1, 0, 0]'),\n",
       " Text(0.23369565217391305, 0.45, 'x[55] <= 0.5\\ngini = 0.162\\nsamples = 35\\nvalue = [32, 0, 0, 0, 1, 0, 0, 1, 1, 0, 0]'),\n",
       " Text(0.20652173913043478, 0.4166666666666667, 'x[3] <= 190.0\\ngini = 0.119\\nsamples = 32\\nvalue = [30, 0, 0, 0, 0, 0, 0, 1, 1, 0, 0]'),\n",
       " Text(0.18478260869565216, 0.38333333333333336, 'x[3] <= 97.5\\ngini = 0.071\\nsamples = 27\\nvalue = [26, 0, 0, 0, 0, 0, 0, 1, 0, 0, 0]'),\n",
       " Text(0.17391304347826086, 0.35, 'x[3] <= 75.5\\ngini = 0.219\\nsamples = 8\\nvalue = [7, 0, 0, 0, 0, 0, 0, 1, 0, 0, 0]'),\n",
       " Text(0.16304347826086957, 0.31666666666666665, 'gini = 0.0\\nsamples = 7\\nvalue = [7, 0, 0, 0, 0, 0, 0, 0, 0, 0, 0]'),\n",
       " Text(0.18478260869565216, 0.31666666666666665, 'gini = 0.0\\nsamples = 1\\nvalue = [0, 0, 0, 0, 0, 0, 0, 1, 0, 0, 0]'),\n",
       " Text(0.1956521739130435, 0.35, 'gini = 0.0\\nsamples = 19\\nvalue = [19, 0, 0, 0, 0, 0, 0, 0, 0, 0, 0]'),\n",
       " Text(0.22826086956521738, 0.38333333333333336, 'x[34] <= 0.5\\ngini = 0.32\\nsamples = 5\\nvalue = [4, 0, 0, 0, 0, 0, 0, 0, 1, 0, 0]'),\n",
       " Text(0.21739130434782608, 0.35, 'gini = 0.0\\nsamples = 1\\nvalue = [0, 0, 0, 0, 0, 0, 0, 0, 1, 0, 0]'),\n",
       " Text(0.2391304347826087, 0.35, 'gini = 0.0\\nsamples = 4\\nvalue = [4, 0, 0, 0, 0, 0, 0, 0, 0, 0, 0]'),\n",
       " Text(0.2608695652173913, 0.4166666666666667, 'x[7] <= 0.5\\ngini = 0.444\\nsamples = 3\\nvalue = [2, 0, 0, 0, 1, 0, 0, 0, 0, 0, 0]'),\n",
       " Text(0.25, 0.38333333333333336, 'gini = 0.0\\nsamples = 1\\nvalue = [0, 0, 0, 0, 1, 0, 0, 0, 0, 0, 0]'),\n",
       " Text(0.2717391304347826, 0.38333333333333336, 'gini = 0.0\\nsamples = 2\\nvalue = [2, 0, 0, 0, 0, 0, 0, 0, 0, 0, 0]'),\n",
       " Text(0.2554347826086957, 0.45, 'gini = 0.0\\nsamples = 1\\nvalue = [0, 0, 0, 0, 1, 0, 0, 0, 0, 0, 0]'),\n",
       " Text(0.11447010869565218, 0.6166666666666667, 'gini = 0.0\\nsamples = 17\\nvalue = [0, 17, 0, 0, 0, 0, 0, 0, 0, 0, 0]'),\n",
       " Text(0.391304347826087, 0.65, 'x[13] <= 0.5\\ngini = 0.858\\nsamples = 185\\nvalue = [11, 48, 10, 0, 10, 12, 12, 32, 15, 11, 24]'),\n",
       " Text(0.3804347826086957, 0.6166666666666667, 'x[4] <= 0.5\\ngini = 0.847\\nsamples = 168\\nvalue = [11, 48, 10, 0, 10, 12, 12, 32, 15, 11, 7]'),\n",
       " Text(0.3695652173913043, 0.5833333333333334, 'x[9] <= 0.5\\ngini = 0.873\\nsamples = 146\\nvalue = [11, 26, 10, 0, 10, 12, 12, 32, 15, 11, 7]'),\n",
       " Text(0.358695652173913, 0.55, 'x[11] <= 0.5\\ngini = 0.857\\nsamples = 134\\nvalue = [11, 26, 10, 0, 10, 12, 0, 32, 15, 11, 7]'),\n",
       " Text(0.34782608695652173, 0.5166666666666667, 'x[12] <= 0.5\\ngini = 0.843\\nsamples = 122\\nvalue = [11, 26, 10, 0, 10, 12, 0, 32, 3, 11, 7]'),\n",
       " Text(0.33695652173913043, 0.48333333333333334, 'x[7] <= 0.5\\ngini = 0.82\\nsamples = 111\\nvalue = [11.0, 26.0, 10.0, 0.0, 10.0, 12.0, 0.0, 32.0, 3.0\\n0.0, 7.0]'),\n",
       " Text(0.32608695652173914, 0.45, 'x[8] <= 0.5\\ngini = 0.796\\nsamples = 102\\nvalue = [11.0, 26.0, 10.0, 0.0, 1.0, 12.0, 0.0, 32.0, 3.0\\n0.0, 7.0]'),\n",
       " Text(0.30434782608695654, 0.4166666666666667, 'x[1] <= 36.5\\ngini = 0.763\\nsamples = 91\\nvalue = [10, 26, 10, 0, 1, 2, 0, 32, 3, 0, 7]'),\n",
       " Text(0.29347826086956524, 0.38333333333333336, 'x[5] <= 0.5\\ngini = 0.729\\nsamples = 83\\nvalue = [2.0, 26.0, 10.0, 0.0, 1.0, 2.0, 0.0, 32.0, 3.0, 0.0\\n7.0]'),\n",
       " Text(0.2826086956521739, 0.35, 'x[3] <= 77.5\\ngini = 0.699\\nsamples = 77\\nvalue = [2, 26, 4, 0, 1, 2, 0, 32, 3, 0, 7]'),\n",
       " Text(0.2418478260869565, 0.31666666666666665, 'x[3] <= 40.5\\ngini = 0.584\\nsamples = 32\\nvalue = [0, 19, 2, 0, 0, 0, 0, 6, 0, 0, 5]'),\n",
       " Text(0.21467391304347827, 0.2833333333333333, 'x[3] <= 12.5\\ngini = 0.7\\nsamples = 20\\nvalue = [0, 8, 2, 0, 0, 0, 0, 6, 0, 0, 4]'),\n",
       " Text(0.19293478260869565, 0.25, 'x[1] <= 8.5\\ngini = 0.32\\nsamples = 10\\nvalue = [0, 8, 2, 0, 0, 0, 0, 0, 0, 0, 0]'),\n",
       " Text(0.18206521739130435, 0.21666666666666667, 'gini = 0.0\\nsamples = 8\\nvalue = [0, 8, 0, 0, 0, 0, 0, 0, 0, 0, 0]'),\n",
       " Text(0.20380434782608695, 0.21666666666666667, 'gini = 0.0\\nsamples = 2\\nvalue = [0, 0, 2, 0, 0, 0, 0, 0, 0, 0, 0]'),\n",
       " Text(0.23641304347826086, 0.25, 'x[1] <= 9.5\\ngini = 0.48\\nsamples = 10\\nvalue = [0, 0, 0, 0, 0, 0, 0, 6, 0, 0, 4]'),\n",
       " Text(0.22554347826086957, 0.21666666666666667, 'x[2] <= 6.0\\ngini = 0.32\\nsamples = 5\\nvalue = [0, 0, 0, 0, 0, 0, 0, 1, 0, 0, 4]'),\n",
       " Text(0.21467391304347827, 0.18333333333333332, 'gini = 0.0\\nsamples = 4\\nvalue = [0, 0, 0, 0, 0, 0, 0, 0, 0, 0, 4]'),\n",
       " Text(0.23641304347826086, 0.18333333333333332, 'gini = 0.0\\nsamples = 1\\nvalue = [0, 0, 0, 0, 0, 0, 0, 1, 0, 0, 0]'),\n",
       " Text(0.24728260869565216, 0.21666666666666667, 'gini = 0.0\\nsamples = 5\\nvalue = [0, 0, 0, 0, 0, 0, 0, 5, 0, 0, 0]'),\n",
       " Text(0.26902173913043476, 0.2833333333333333, 'x[1] <= 3.5\\ngini = 0.153\\nsamples = 12\\nvalue = [0, 11, 0, 0, 0, 0, 0, 0, 0, 0, 1]'),\n",
       " Text(0.25815217391304346, 0.25, 'gini = 0.0\\nsamples = 1\\nvalue = [0, 0, 0, 0, 0, 0, 0, 0, 0, 0, 1]'),\n",
       " Text(0.2798913043478261, 0.25, 'gini = 0.0\\nsamples = 11\\nvalue = [0, 11, 0, 0, 0, 0, 0, 0, 0, 0, 0]'),\n",
       " Text(0.3233695652173913, 0.31666666666666665, 'x[24] <= 0.5\\ngini = 0.629\\nsamples = 45\\nvalue = [2.0, 7.0, 2.0, 0.0, 1.0, 2.0, 0.0, 26.0, 3.0, 0.0\\n2.0]'),\n",
       " Text(0.3125, 0.2833333333333333, 'x[33] <= 0.5\\ngini = 0.538\\nsamples = 39\\nvalue = [2, 1, 2, 0, 1, 2, 0, 26, 3, 0, 2]'),\n",
       " Text(0.3016304347826087, 0.25, 'x[14] <= 0.5\\ngini = 0.489\\nsamples = 37\\nvalue = [2, 1, 2, 0, 1, 2, 0, 26, 3, 0, 0]'),\n",
       " Text(0.2907608695652174, 0.21666666666666667, 'x[3] <= 136.0\\ngini = 0.433\\nsamples = 35\\nvalue = [0, 1, 2, 0, 1, 2, 0, 26, 3, 0, 0]'),\n",
       " Text(0.2608695652173913, 0.18333333333333332, 'x[3] <= 106.0\\ngini = 0.091\\nsamples = 21\\nvalue = [0, 0, 1, 0, 0, 0, 0, 20, 0, 0, 0]'),\n",
       " Text(0.25, 0.15, 'x[3] <= 97.0\\ngini = 0.278\\nsamples = 6\\nvalue = [0, 0, 1, 0, 0, 0, 0, 5, 0, 0, 0]'),\n",
       " Text(0.2391304347826087, 0.11666666666666667, 'gini = 0.0\\nsamples = 5\\nvalue = [0, 0, 0, 0, 0, 0, 0, 5, 0, 0, 0]'),\n",
       " Text(0.2608695652173913, 0.11666666666666667, 'gini = 0.0\\nsamples = 1\\nvalue = [0, 0, 1, 0, 0, 0, 0, 0, 0, 0, 0]'),\n",
       " Text(0.2717391304347826, 0.15, 'gini = 0.0\\nsamples = 15\\nvalue = [0, 0, 0, 0, 0, 0, 0, 15, 0, 0, 0]'),\n",
       " Text(0.32065217391304346, 0.18333333333333332, 'x[1] <= 11.0\\ngini = 0.735\\nsamples = 14\\nvalue = [0, 1, 1, 0, 1, 2, 0, 6, 3, 0, 0]'),\n",
       " Text(0.30978260869565216, 0.15, 'x[2] <= 4.5\\ngini = 0.79\\nsamples = 9\\nvalue = [0, 1, 1, 0, 1, 2, 0, 1, 3, 0, 0]'),\n",
       " Text(0.2826086956521739, 0.11666666666666667, 'x[3] <= 169.0\\ngini = 0.694\\nsamples = 7\\nvalue = [0, 1, 1, 0, 0, 2, 0, 0, 3, 0, 0]'),\n",
       " Text(0.2608695652173913, 0.08333333333333333, 'x[35] <= 0.5\\ngini = 0.667\\nsamples = 3\\nvalue = [0, 1, 1, 0, 0, 1, 0, 0, 0, 0, 0]'),\n",
       " Text(0.25, 0.05, 'x[34] <= 0.5\\ngini = 0.5\\nsamples = 2\\nvalue = [0, 1, 1, 0, 0, 0, 0, 0, 0, 0, 0]'),\n",
       " Text(0.2391304347826087, 0.016666666666666666, 'gini = 0.0\\nsamples = 1\\nvalue = [0, 1, 0, 0, 0, 0, 0, 0, 0, 0, 0]'),\n",
       " Text(0.2608695652173913, 0.016666666666666666, 'gini = 0.0\\nsamples = 1\\nvalue = [0, 0, 1, 0, 0, 0, 0, 0, 0, 0, 0]'),\n",
       " Text(0.2717391304347826, 0.05, 'gini = 0.0\\nsamples = 1\\nvalue = [0, 0, 0, 0, 0, 1, 0, 0, 0, 0, 0]'),\n",
       " Text(0.30434782608695654, 0.08333333333333333, 'x[28] <= 0.5\\ngini = 0.375\\nsamples = 4\\nvalue = [0, 0, 0, 0, 0, 1, 0, 0, 3, 0, 0]'),\n",
       " Text(0.29347826086956524, 0.05, 'gini = 0.0\\nsamples = 3\\nvalue = [0, 0, 0, 0, 0, 0, 0, 0, 3, 0, 0]'),\n",
       " Text(0.31521739130434784, 0.05, 'gini = 0.0\\nsamples = 1\\nvalue = [0, 0, 0, 0, 0, 1, 0, 0, 0, 0, 0]'),\n",
       " Text(0.33695652173913043, 0.11666666666666667, 'x[3] <= 200.5\\ngini = 0.5\\nsamples = 2\\nvalue = [0, 0, 0, 0, 1, 0, 0, 1, 0, 0, 0]'),\n",
       " Text(0.32608695652173914, 0.08333333333333333, 'gini = 0.0\\nsamples = 1\\nvalue = [0, 0, 0, 0, 0, 0, 0, 1, 0, 0, 0]'),\n",
       " Text(0.34782608695652173, 0.08333333333333333, 'gini = 0.0\\nsamples = 1\\nvalue = [0, 0, 0, 0, 1, 0, 0, 0, 0, 0, 0]'),\n",
       " Text(0.33152173913043476, 0.15, 'gini = 0.0\\nsamples = 5\\nvalue = [0, 0, 0, 0, 0, 0, 0, 5, 0, 0, 0]'),\n",
       " Text(0.3125, 0.21666666666666667, 'gini = 0.0\\nsamples = 2\\nvalue = [2, 0, 0, 0, 0, 0, 0, 0, 0, 0, 0]'),\n",
       " Text(0.3233695652173913, 0.25, 'gini = 0.0\\nsamples = 2\\nvalue = [0, 0, 0, 0, 0, 0, 0, 0, 0, 0, 2]'),\n",
       " Text(0.3342391304347826, 0.2833333333333333, 'gini = 0.0\\nsamples = 6\\nvalue = [0, 6, 0, 0, 0, 0, 0, 0, 0, 0, 0]'),\n",
       " Text(0.30434782608695654, 0.35, 'gini = 0.0\\nsamples = 6\\nvalue = [0, 0, 6, 0, 0, 0, 0, 0, 0, 0, 0]'),\n",
       " Text(0.31521739130434784, 0.38333333333333336, 'gini = 0.0\\nsamples = 8\\nvalue = [8, 0, 0, 0, 0, 0, 0, 0, 0, 0, 0]'),\n",
       " Text(0.34782608695652173, 0.4166666666666667, 'x[1] <= 4.0\\ngini = 0.165\\nsamples = 11\\nvalue = [1, 0, 0, 0, 0, 10, 0, 0, 0, 0, 0]'),\n",
       " Text(0.33695652173913043, 0.38333333333333336, 'gini = 0.0\\nsamples = 1\\nvalue = [1, 0, 0, 0, 0, 0, 0, 0, 0, 0, 0]'),\n",
       " Text(0.358695652173913, 0.38333333333333336, 'gini = 0.0\\nsamples = 10\\nvalue = [0, 0, 0, 0, 0, 10, 0, 0, 0, 0, 0]'),\n",
       " Text(0.34782608695652173, 0.45, 'gini = 0.0\\nsamples = 9\\nvalue = [0, 0, 0, 0, 9, 0, 0, 0, 0, 0, 0]'),\n",
       " Text(0.358695652173913, 0.48333333333333334, 'gini = 0.0\\nsamples = 11\\nvalue = [0, 0, 0, 0, 0, 0, 0, 0, 0, 11, 0]'),\n",
       " Text(0.3695652173913043, 0.5166666666666667, 'gini = 0.0\\nsamples = 12\\nvalue = [0, 0, 0, 0, 0, 0, 0, 0, 12, 0, 0]'),\n",
       " Text(0.3804347826086957, 0.55, 'gini = 0.0\\nsamples = 12\\nvalue = [0, 0, 0, 0, 0, 0, 12, 0, 0, 0, 0]'),\n",
       " Text(0.391304347826087, 0.5833333333333334, 'gini = 0.0\\nsamples = 22\\nvalue = [0, 22, 0, 0, 0, 0, 0, 0, 0, 0, 0]'),\n",
       " Text(0.40217391304347827, 0.6166666666666667, 'gini = 0.0\\nsamples = 17\\nvalue = [0, 0, 0, 0, 0, 0, 0, 0, 0, 0, 17]'),\n",
       " Text(0.45652173913043476, 0.6833333333333333, 'x[1] <= 1.0\\ngini = 0.655\\nsamples = 74\\nvalue = [3, 4, 4, 0, 4, 3, 42, 6, 2, 3, 3]'),\n",
       " Text(0.44565217391304346, 0.65, 'gini = 0.0\\nsamples = 42\\nvalue = [0, 0, 0, 0, 0, 0, 42, 0, 0, 0, 0]'),\n",
       " Text(0.4673913043478261, 0.65, 'x[10] <= 0.5\\ngini = 0.879\\nsamples = 32\\nvalue = [3, 4, 4, 0, 4, 3, 0, 6, 2, 3, 3]'),\n",
       " Text(0.45652173913043476, 0.6166666666666667, 'x[4] <= 0.5\\ngini = 0.87\\nsamples = 26\\nvalue = [3, 4, 4, 0, 4, 3, 0, 0, 2, 3, 3]'),\n",
       " Text(0.44565217391304346, 0.5833333333333334, 'x[5] <= 0.5\\ngini = 0.851\\nsamples = 22\\nvalue = [3, 0, 4, 0, 4, 3, 0, 0, 2, 3, 3]'),\n",
       " Text(0.43478260869565216, 0.55, 'x[7] <= 0.5\\ngini = 0.827\\nsamples = 18\\nvalue = [3, 0, 0, 0, 4, 3, 0, 0, 2, 3, 3]'),\n",
       " Text(0.42391304347826086, 0.5166666666666667, 'x[12] <= 0.5\\ngini = 0.796\\nsamples = 14\\nvalue = [3, 0, 0, 0, 0, 3, 0, 0, 2, 3, 3]'),\n",
       " Text(0.41304347826086957, 0.48333333333333334, 'x[8] <= 0.5\\ngini = 0.744\\nsamples = 11\\nvalue = [3, 0, 0, 0, 0, 3, 0, 0, 2, 0, 3]'),\n",
       " Text(0.40217391304347827, 0.45, 'x[13] <= 0.5\\ngini = 0.656\\nsamples = 8\\nvalue = [3, 0, 0, 0, 0, 0, 0, 0, 2, 0, 3]'),\n",
       " Text(0.391304347826087, 0.4166666666666667, 'x[31] <= 0.5\\ngini = 0.48\\nsamples = 5\\nvalue = [3, 0, 0, 0, 0, 0, 0, 0, 2, 0, 0]'),\n",
       " Text(0.3804347826086957, 0.38333333333333336, 'gini = 0.0\\nsamples = 3\\nvalue = [3, 0, 0, 0, 0, 0, 0, 0, 0, 0, 0]'),\n",
       " Text(0.40217391304347827, 0.38333333333333336, 'gini = 0.0\\nsamples = 2\\nvalue = [0, 0, 0, 0, 0, 0, 0, 0, 2, 0, 0]'),\n",
       " Text(0.41304347826086957, 0.4166666666666667, 'gini = 0.0\\nsamples = 3\\nvalue = [0, 0, 0, 0, 0, 0, 0, 0, 0, 0, 3]'),\n",
       " Text(0.42391304347826086, 0.45, 'gini = 0.0\\nsamples = 3\\nvalue = [0, 0, 0, 0, 0, 3, 0, 0, 0, 0, 0]'),\n",
       " Text(0.43478260869565216, 0.48333333333333334, 'gini = 0.0\\nsamples = 3\\nvalue = [0, 0, 0, 0, 0, 0, 0, 0, 0, 3, 0]'),\n",
       " Text(0.44565217391304346, 0.5166666666666667, 'gini = 0.0\\nsamples = 4\\nvalue = [0, 0, 0, 0, 4, 0, 0, 0, 0, 0, 0]'),\n",
       " Text(0.45652173913043476, 0.55, 'gini = 0.0\\nsamples = 4\\nvalue = [0, 0, 4, 0, 0, 0, 0, 0, 0, 0, 0]'),\n",
       " Text(0.4673913043478261, 0.5833333333333334, 'gini = 0.0\\nsamples = 4\\nvalue = [0, 4, 0, 0, 0, 0, 0, 0, 0, 0, 0]'),\n",
       " Text(0.4782608695652174, 0.6166666666666667, 'gini = 0.0\\nsamples = 6\\nvalue = [0, 0, 0, 0, 0, 0, 0, 6, 0, 0, 0]'),\n",
       " Text(0.5434782608695652, 0.7166666666666667, 'x[2] <= 0.5\\ngini = 0.488\\nsamples = 58\\nvalue = [3, 1, 2, 0, 0, 3, 2, 41, 1, 3, 2]'),\n",
       " Text(0.532608695652174, 0.6833333333333333, 'x[12] <= 0.5\\ngini = 0.864\\nsamples = 22\\nvalue = [3, 1, 2, 0, 0, 3, 2, 5, 1, 3, 2]'),\n",
       " Text(0.5217391304347826, 0.65, 'x[3] <= 27.0\\ngini = 0.842\\nsamples = 19\\nvalue = [3, 1, 2, 0, 0, 3, 2, 5, 1, 0, 2]'),\n",
       " Text(0.5, 0.6166666666666667, 'x[3] <= 8.0\\ngini = 0.531\\nsamples = 8\\nvalue = [0, 0, 0, 0, 0, 0, 0, 5, 1, 0, 2]'),\n",
       " Text(0.4891304347826087, 0.5833333333333334, 'x[13] <= 0.5\\ngini = 0.444\\nsamples = 3\\nvalue = [0, 0, 0, 0, 0, 0, 0, 0, 1, 0, 2]'),\n",
       " Text(0.4782608695652174, 0.55, 'gini = 0.0\\nsamples = 1\\nvalue = [0, 0, 0, 0, 0, 0, 0, 0, 1, 0, 0]'),\n",
       " Text(0.5, 0.55, 'gini = 0.0\\nsamples = 2\\nvalue = [0, 0, 0, 0, 0, 0, 0, 0, 0, 0, 2]'),\n",
       " Text(0.5108695652173914, 0.5833333333333334, 'gini = 0.0\\nsamples = 5\\nvalue = [0, 0, 0, 0, 0, 0, 0, 5, 0, 0, 0]'),\n",
       " Text(0.5434782608695652, 0.6166666666666667, 'x[8] <= 0.5\\ngini = 0.777\\nsamples = 11\\nvalue = [3, 1, 2, 0, 0, 3, 2, 0, 0, 0, 0]'),\n",
       " Text(0.532608695652174, 0.5833333333333334, 'x[9] <= 0.5\\ngini = 0.719\\nsamples = 8\\nvalue = [3, 1, 2, 0, 0, 0, 2, 0, 0, 0, 0]'),\n",
       " Text(0.5217391304347826, 0.55, 'x[3] <= 98.5\\ngini = 0.611\\nsamples = 6\\nvalue = [3, 1, 2, 0, 0, 0, 0, 0, 0, 0, 0]'),\n",
       " Text(0.5108695652173914, 0.5166666666666667, 'x[4] <= 0.5\\ngini = 0.444\\nsamples = 3\\nvalue = [0, 1, 2, 0, 0, 0, 0, 0, 0, 0, 0]'),\n",
       " Text(0.5, 0.48333333333333334, 'gini = 0.0\\nsamples = 2\\nvalue = [0, 0, 2, 0, 0, 0, 0, 0, 0, 0, 0]'),\n",
       " Text(0.5217391304347826, 0.48333333333333334, 'gini = 0.0\\nsamples = 1\\nvalue = [0, 1, 0, 0, 0, 0, 0, 0, 0, 0, 0]'),\n",
       " Text(0.532608695652174, 0.5166666666666667, 'gini = 0.0\\nsamples = 3\\nvalue = [3, 0, 0, 0, 0, 0, 0, 0, 0, 0, 0]'),\n",
       " Text(0.5434782608695652, 0.55, 'gini = 0.0\\nsamples = 2\\nvalue = [0, 0, 0, 0, 0, 0, 2, 0, 0, 0, 0]'),\n",
       " Text(0.5543478260869565, 0.5833333333333334, 'gini = 0.0\\nsamples = 3\\nvalue = [0, 0, 0, 0, 0, 3, 0, 0, 0, 0, 0]'),\n",
       " Text(0.5434782608695652, 0.65, 'gini = 0.0\\nsamples = 3\\nvalue = [0, 0, 0, 0, 0, 0, 0, 0, 0, 3, 0]'),\n",
       " Text(0.5543478260869565, 0.6833333333333333, 'gini = 0.0\\nsamples = 36\\nvalue = [0, 0, 0, 0, 0, 0, 0, 36, 0, 0, 0]'),\n",
       " Text(0.6086956521739131, 0.75, 'x[2] <= 0.5\\ngini = 0.454\\nsamples = 52\\nvalue = [3, 0, 1, 0, 2, 3, 2, 1, 0, 2, 38]'),\n",
       " Text(0.5978260869565217, 0.7166666666666667, 'x[42] <= 0.5\\ngini = 0.837\\nsamples = 14\\nvalue = [3, 0, 1, 0, 2, 3, 2, 1, 0, 2, 0]'),\n",
       " Text(0.5869565217391305, 0.6833333333333333, 'x[67] <= 0.5\\ngini = 0.81\\nsamples = 11\\nvalue = [3, 0, 1, 0, 2, 0, 2, 1, 0, 2, 0]'),\n",
       " Text(0.5760869565217391, 0.65, 'x[3] <= 16.5\\ngini = 0.765\\nsamples = 9\\nvalue = [3, 0, 1, 0, 2, 0, 0, 1, 0, 2, 0]'),\n",
       " Text(0.5652173913043478, 0.6166666666666667, 'gini = 0.0\\nsamples = 2\\nvalue = [0, 0, 0, 0, 0, 0, 0, 0, 0, 2, 0]'),\n",
       " Text(0.5869565217391305, 0.6166666666666667, 'x[7] <= 0.5\\ngini = 0.694\\nsamples = 7\\nvalue = [3, 0, 1, 0, 2, 0, 0, 1, 0, 0, 0]'),\n",
       " Text(0.5760869565217391, 0.5833333333333334, 'x[5] <= 0.5\\ngini = 0.56\\nsamples = 5\\nvalue = [3, 0, 1, 0, 0, 0, 0, 1, 0, 0, 0]'),\n",
       " Text(0.5652173913043478, 0.55, 'x[10] <= 0.5\\ngini = 0.375\\nsamples = 4\\nvalue = [3, 0, 0, 0, 0, 0, 0, 1, 0, 0, 0]'),\n",
       " Text(0.5543478260869565, 0.5166666666666667, 'gini = 0.0\\nsamples = 3\\nvalue = [3, 0, 0, 0, 0, 0, 0, 0, 0, 0, 0]'),\n",
       " Text(0.5760869565217391, 0.5166666666666667, 'gini = 0.0\\nsamples = 1\\nvalue = [0, 0, 0, 0, 0, 0, 0, 1, 0, 0, 0]'),\n",
       " Text(0.5869565217391305, 0.55, 'gini = 0.0\\nsamples = 1\\nvalue = [0, 0, 1, 0, 0, 0, 0, 0, 0, 0, 0]'),\n",
       " Text(0.5978260869565217, 0.5833333333333334, 'gini = 0.0\\nsamples = 2\\nvalue = [0, 0, 0, 0, 2, 0, 0, 0, 0, 0, 0]'),\n",
       " Text(0.5978260869565217, 0.65, 'gini = 0.0\\nsamples = 2\\nvalue = [0, 0, 0, 0, 0, 0, 2, 0, 0, 0, 0]'),\n",
       " Text(0.6086956521739131, 0.6833333333333333, 'gini = 0.0\\nsamples = 3\\nvalue = [0, 0, 0, 0, 0, 3, 0, 0, 0, 0, 0]'),\n",
       " Text(0.6195652173913043, 0.7166666666666667, 'gini = 0.0\\nsamples = 38\\nvalue = [0, 0, 0, 0, 0, 0, 0, 0, 0, 0, 38]'),\n",
       " Text(0.6630434782608695, 0.7833333333333333, 'x[1] <= 1.0\\ngini = 0.654\\nsamples = 90\\nvalue = [4, 7, 3, 0, 4, 6, 7, 1, 3, 51, 4]'),\n",
       " Text(0.6521739130434783, 0.75, 'gini = 0.0\\nsamples = 51\\nvalue = [0, 0, 0, 0, 0, 0, 0, 0, 0, 51, 0]'),\n",
       " Text(0.6739130434782609, 0.75, 'x[4] <= 0.5\\ngini = 0.868\\nsamples = 39\\nvalue = [4, 7, 3, 0, 4, 6, 7, 1, 3, 0, 4]'),\n",
       " Text(0.6630434782608695, 0.7166666666666667, 'x[9] <= 0.5\\ngini = 0.852\\nsamples = 32\\nvalue = [4, 0, 3, 0, 4, 6, 7, 1, 3, 0, 4]'),\n",
       " Text(0.6521739130434783, 0.6833333333333333, 'x[8] <= 0.5\\ngini = 0.835\\nsamples = 25\\nvalue = [4, 0, 3, 0, 4, 6, 0, 1, 3, 0, 4]'),\n",
       " Text(0.6413043478260869, 0.65, 'x[7] <= 0.5\\ngini = 0.814\\nsamples = 19\\nvalue = [4, 0, 3, 0, 4, 0, 0, 1, 3, 0, 4]'),\n",
       " Text(0.6304347826086957, 0.6166666666666667, 'x[13] <= 0.5\\ngini = 0.773\\nsamples = 15\\nvalue = [4, 0, 3, 0, 0, 0, 0, 1, 3, 0, 4]'),\n",
       " Text(0.6195652173913043, 0.5833333333333334, 'x[11] <= 0.5\\ngini = 0.711\\nsamples = 11\\nvalue = [4, 0, 3, 0, 0, 0, 0, 1, 3, 0, 0]'),\n",
       " Text(0.6086956521739131, 0.55, 'x[5] <= 0.5\\ngini = 0.594\\nsamples = 8\\nvalue = [4, 0, 3, 0, 0, 0, 0, 1, 0, 0, 0]'),\n",
       " Text(0.5978260869565217, 0.5166666666666667, 'x[32] <= 0.5\\ngini = 0.32\\nsamples = 5\\nvalue = [4, 0, 0, 0, 0, 0, 0, 1, 0, 0, 0]'),\n",
       " Text(0.5869565217391305, 0.48333333333333334, 'gini = 0.0\\nsamples = 4\\nvalue = [4, 0, 0, 0, 0, 0, 0, 0, 0, 0, 0]'),\n",
       " Text(0.6086956521739131, 0.48333333333333334, 'gini = 0.0\\nsamples = 1\\nvalue = [0, 0, 0, 0, 0, 0, 0, 1, 0, 0, 0]'),\n",
       " Text(0.6195652173913043, 0.5166666666666667, 'gini = 0.0\\nsamples = 3\\nvalue = [0, 0, 3, 0, 0, 0, 0, 0, 0, 0, 0]'),\n",
       " Text(0.6304347826086957, 0.55, 'gini = 0.0\\nsamples = 3\\nvalue = [0, 0, 0, 0, 0, 0, 0, 0, 3, 0, 0]'),\n",
       " Text(0.6413043478260869, 0.5833333333333334, 'gini = 0.0\\nsamples = 4\\nvalue = [0, 0, 0, 0, 0, 0, 0, 0, 0, 0, 4]'),\n",
       " Text(0.6521739130434783, 0.6166666666666667, 'gini = 0.0\\nsamples = 4\\nvalue = [0, 0, 0, 0, 4, 0, 0, 0, 0, 0, 0]'),\n",
       " Text(0.6630434782608695, 0.65, 'gini = 0.0\\nsamples = 6\\nvalue = [0, 0, 0, 0, 0, 6, 0, 0, 0, 0, 0]'),\n",
       " Text(0.6739130434782609, 0.6833333333333333, 'gini = 0.0\\nsamples = 7\\nvalue = [0, 0, 0, 0, 0, 0, 7, 0, 0, 0, 0]'),\n",
       " Text(0.6847826086956522, 0.7166666666666667, 'gini = 0.0\\nsamples = 7\\nvalue = [0, 7, 0, 0, 0, 0, 0, 0, 0, 0, 0]'),\n",
       " Text(0.7282608695652174, 0.8166666666666667, 'x[1] <= 0.5\\ngini = 0.6\\nsamples = 78\\nvalue = [6, 2, 1, 0, 48, 3, 4, 1, 3, 6, 4]'),\n",
       " Text(0.717391304347826, 0.7833333333333333, 'gini = 0.0\\nsamples = 47\\nvalue = [0, 0, 0, 0, 47, 0, 0, 0, 0, 0, 0]'),\n",
       " Text(0.7391304347826086, 0.7833333333333333, 'x[12] <= 0.5\\ngini = 0.866\\nsamples = 31\\nvalue = [6, 2, 1, 0, 1, 3, 4, 1, 3, 6, 4]'),\n",
       " Text(0.7282608695652174, 0.75, 'x[9] <= 0.5\\ngini = 0.851\\nsamples = 25\\nvalue = [6, 2, 1, 0, 1, 3, 4, 1, 3, 0, 4]'),\n",
       " Text(0.717391304347826, 0.7166666666666667, 'x[13] <= 0.5\\ngini = 0.825\\nsamples = 21\\nvalue = [6, 2, 1, 0, 1, 3, 0, 1, 3, 0, 4]'),\n",
       " Text(0.7065217391304348, 0.6833333333333333, 'x[11] <= 0.5\\ngini = 0.789\\nsamples = 17\\nvalue = [6, 2, 1, 0, 1, 3, 0, 1, 3, 0, 0]'),\n",
       " Text(0.6956521739130435, 0.65, 'x[8] <= 0.5\\ngini = 0.735\\nsamples = 14\\nvalue = [6, 2, 1, 0, 1, 3, 0, 1, 0, 0, 0]'),\n",
       " Text(0.6847826086956522, 0.6166666666666667, 'x[4] <= 0.5\\ngini = 0.645\\nsamples = 11\\nvalue = [6, 2, 1, 0, 1, 0, 0, 1, 0, 0, 0]'),\n",
       " Text(0.6739130434782609, 0.5833333333333334, 'x[25] <= 0.5\\ngini = 0.519\\nsamples = 9\\nvalue = [6, 0, 1, 0, 1, 0, 0, 1, 0, 0, 0]'),\n",
       " Text(0.6521739130434783, 0.55, 'x[64] <= 0.5\\ngini = 0.245\\nsamples = 7\\nvalue = [6, 0, 0, 0, 0, 0, 0, 1, 0, 0, 0]'),\n",
       " Text(0.6413043478260869, 0.5166666666666667, 'gini = 0.0\\nsamples = 6\\nvalue = [6, 0, 0, 0, 0, 0, 0, 0, 0, 0, 0]'),\n",
       " Text(0.6630434782608695, 0.5166666666666667, 'gini = 0.0\\nsamples = 1\\nvalue = [0, 0, 0, 0, 0, 0, 0, 1, 0, 0, 0]'),\n",
       " Text(0.6956521739130435, 0.55, 'x[3] <= 44.0\\ngini = 0.5\\nsamples = 2\\nvalue = [0, 0, 1, 0, 1, 0, 0, 0, 0, 0, 0]'),\n",
       " Text(0.6847826086956522, 0.5166666666666667, 'gini = 0.0\\nsamples = 1\\nvalue = [0, 0, 1, 0, 0, 0, 0, 0, 0, 0, 0]'),\n",
       " Text(0.7065217391304348, 0.5166666666666667, 'gini = 0.0\\nsamples = 1\\nvalue = [0, 0, 0, 0, 1, 0, 0, 0, 0, 0, 0]'),\n",
       " Text(0.6956521739130435, 0.5833333333333334, 'gini = 0.0\\nsamples = 2\\nvalue = [0, 2, 0, 0, 0, 0, 0, 0, 0, 0, 0]'),\n",
       " Text(0.7065217391304348, 0.6166666666666667, 'gini = 0.0\\nsamples = 3\\nvalue = [0, 0, 0, 0, 0, 3, 0, 0, 0, 0, 0]'),\n",
       " Text(0.717391304347826, 0.65, 'gini = 0.0\\nsamples = 3\\nvalue = [0, 0, 0, 0, 0, 0, 0, 0, 3, 0, 0]'),\n",
       " Text(0.7282608695652174, 0.6833333333333333, 'gini = 0.0\\nsamples = 4\\nvalue = [0, 0, 0, 0, 0, 0, 0, 0, 0, 0, 4]'),\n",
       " Text(0.7391304347826086, 0.7166666666666667, 'gini = 0.0\\nsamples = 4\\nvalue = [0, 0, 0, 0, 0, 0, 4, 0, 0, 0, 0]'),\n",
       " Text(0.75, 0.75, 'gini = 0.0\\nsamples = 6\\nvalue = [0, 0, 0, 0, 0, 0, 0, 0, 0, 6, 0]'),\n",
       " Text(0.8043478260869565, 0.85, 'x[2] <= 1.5\\ngini = 0.572\\nsamples = 77\\nvalue = [6, 0, 4, 0, 7, 1, 3, 0, 49, 3, 4]'),\n",
       " Text(0.7934782608695652, 0.8166666666666667, 'x[7] <= 0.5\\ngini = 0.827\\nsamples = 28\\nvalue = [6, 0, 4, 0, 7, 1, 3, 0, 0, 3, 4]'),\n",
       " Text(0.782608695652174, 0.7833333333333333, 'x[13] <= 0.5\\ngini = 0.803\\nsamples = 21\\nvalue = [6, 0, 4, 0, 0, 1, 3, 0, 0, 3, 4]'),\n",
       " Text(0.7717391304347826, 0.75, 'x[5] <= 0.5\\ngini = 0.754\\nsamples = 17\\nvalue = [6, 0, 4, 0, 0, 1, 3, 0, 0, 3, 0]'),\n",
       " Text(0.7608695652173914, 0.7166666666666667, 'x[9] <= 0.5\\ngini = 0.675\\nsamples = 13\\nvalue = [6, 0, 0, 0, 0, 1, 3, 0, 0, 3, 0]'),\n",
       " Text(0.75, 0.6833333333333333, 'x[12] <= 0.5\\ngini = 0.54\\nsamples = 10\\nvalue = [6, 0, 0, 0, 0, 1, 0, 0, 0, 3, 0]'),\n",
       " Text(0.7391304347826086, 0.65, 'x[8] <= 0.5\\ngini = 0.245\\nsamples = 7\\nvalue = [6, 0, 0, 0, 0, 1, 0, 0, 0, 0, 0]'),\n",
       " Text(0.7282608695652174, 0.6166666666666667, 'gini = 0.0\\nsamples = 6\\nvalue = [6, 0, 0, 0, 0, 0, 0, 0, 0, 0, 0]'),\n",
       " Text(0.75, 0.6166666666666667, 'gini = 0.0\\nsamples = 1\\nvalue = [0, 0, 0, 0, 0, 1, 0, 0, 0, 0, 0]'),\n",
       " Text(0.7608695652173914, 0.65, 'gini = 0.0\\nsamples = 3\\nvalue = [0, 0, 0, 0, 0, 0, 0, 0, 0, 3, 0]'),\n",
       " Text(0.7717391304347826, 0.6833333333333333, 'gini = 0.0\\nsamples = 3\\nvalue = [0, 0, 0, 0, 0, 0, 3, 0, 0, 0, 0]'),\n",
       " Text(0.782608695652174, 0.7166666666666667, 'gini = 0.0\\nsamples = 4\\nvalue = [0, 0, 4, 0, 0, 0, 0, 0, 0, 0, 0]'),\n",
       " Text(0.7934782608695652, 0.75, 'gini = 0.0\\nsamples = 4\\nvalue = [0, 0, 0, 0, 0, 0, 0, 0, 0, 0, 4]'),\n",
       " Text(0.8043478260869565, 0.7833333333333333, 'gini = 0.0\\nsamples = 7\\nvalue = [0, 0, 0, 0, 7, 0, 0, 0, 0, 0, 0]'),\n",
       " Text(0.8152173913043478, 0.8166666666666667, 'gini = 0.0\\nsamples = 49\\nvalue = [0, 0, 0, 0, 0, 0, 0, 0, 49, 0, 0]'),\n",
       " Text(0.8695652173913043, 0.8833333333333333, 'x[2] <= 0.5\\ngini = 0.579\\nsamples = 81\\nvalue = [4, 0, 1, 0, 4, 51, 7, 1, 8, 1, 4]'),\n",
       " Text(0.8586956521739131, 0.85, 'x[11] <= 0.5\\ngini = 0.836\\nsamples = 32\\nvalue = [4, 0, 1, 0, 4, 2, 7, 1, 8, 1, 4]'),\n",
       " Text(0.8478260869565217, 0.8166666666666667, 'x[9] <= 0.5\\ngini = 0.819\\nsamples = 24\\nvalue = [4, 0, 1, 0, 4, 2, 7, 1, 0, 1, 4]'),\n",
       " Text(0.8369565217391305, 0.7833333333333333, 'x[13] <= 0.5\\ngini = 0.81\\nsamples = 17\\nvalue = [4, 0, 1, 0, 4, 2, 0, 1, 0, 1, 4]'),\n",
       " Text(0.8260869565217391, 0.75, 'x[7] <= 0.5\\ngini = 0.769\\nsamples = 13\\nvalue = [4, 0, 1, 0, 4, 2, 0, 1, 0, 1, 0]'),\n",
       " Text(0.8043478260869565, 0.7166666666666667, 'x[35] <= 0.5\\ngini = 0.688\\nsamples = 8\\nvalue = [4, 0, 1, 0, 0, 1, 0, 1, 0, 1, 0]'),\n",
       " Text(0.7934782608695652, 0.6833333333333333, 'x[0] <= 0.5\\ngini = 0.612\\nsamples = 7\\nvalue = [4, 0, 0, 0, 0, 1, 0, 1, 0, 1, 0]'),\n",
       " Text(0.782608695652174, 0.65, 'x[3] <= 193.0\\ngini = 0.5\\nsamples = 6\\nvalue = [4, 0, 0, 0, 0, 0, 0, 1, 0, 1, 0]'),\n",
       " Text(0.7717391304347826, 0.6166666666666667, 'x[10] <= 0.5\\ngini = 0.32\\nsamples = 5\\nvalue = [4, 0, 0, 0, 0, 0, 0, 1, 0, 0, 0]'),\n",
       " Text(0.7608695652173914, 0.5833333333333334, 'gini = 0.0\\nsamples = 4\\nvalue = [4, 0, 0, 0, 0, 0, 0, 0, 0, 0, 0]'),\n",
       " Text(0.782608695652174, 0.5833333333333334, 'gini = 0.0\\nsamples = 1\\nvalue = [0, 0, 0, 0, 0, 0, 0, 1, 0, 0, 0]'),\n",
       " Text(0.7934782608695652, 0.6166666666666667, 'gini = 0.0\\nsamples = 1\\nvalue = [0, 0, 0, 0, 0, 0, 0, 0, 0, 1, 0]'),\n",
       " Text(0.8043478260869565, 0.65, 'gini = 0.0\\nsamples = 1\\nvalue = [0, 0, 0, 0, 0, 1, 0, 0, 0, 0, 0]'),\n",
       " Text(0.8152173913043478, 0.6833333333333333, 'gini = 0.0\\nsamples = 1\\nvalue = [0, 0, 1, 0, 0, 0, 0, 0, 0, 0, 0]'),\n",
       " Text(0.8478260869565217, 0.7166666666666667, 'x[0] <= 0.5\\ngini = 0.32\\nsamples = 5\\nvalue = [0, 0, 0, 0, 4, 1, 0, 0, 0, 0, 0]'),\n",
       " Text(0.8369565217391305, 0.6833333333333333, 'gini = 0.0\\nsamples = 4\\nvalue = [0, 0, 0, 0, 4, 0, 0, 0, 0, 0, 0]'),\n",
       " Text(0.8586956521739131, 0.6833333333333333, 'gini = 0.0\\nsamples = 1\\nvalue = [0, 0, 0, 0, 0, 1, 0, 0, 0, 0, 0]'),\n",
       " Text(0.8478260869565217, 0.75, 'gini = 0.0\\nsamples = 4\\nvalue = [0, 0, 0, 0, 0, 0, 0, 0, 0, 0, 4]'),\n",
       " Text(0.8586956521739131, 0.7833333333333333, 'gini = 0.0\\nsamples = 7\\nvalue = [0, 0, 0, 0, 0, 0, 7, 0, 0, 0, 0]'),\n",
       " Text(0.8695652173913043, 0.8166666666666667, 'gini = 0.0\\nsamples = 8\\nvalue = [0, 0, 0, 0, 0, 0, 0, 0, 8, 0, 0]'),\n",
       " Text(0.8804347826086957, 0.85, 'gini = 0.0\\nsamples = 49\\nvalue = [0, 0, 0, 0, 0, 49, 0, 0, 0, 0, 0]'),\n",
       " Text(0.9347826086956522, 0.9166666666666666, 'x[1] <= 0.5\\ngini = 0.632\\nsamples = 102\\nvalue = [8, 2, 60, 1, 4, 5, 8, 2, 4, 5, 3]'),\n",
       " Text(0.9239130434782609, 0.8833333333333333, 'gini = 0.0\\nsamples = 60\\nvalue = [0, 0, 60, 0, 0, 0, 0, 0, 0, 0, 0]'),\n",
       " Text(0.9456521739130435, 0.8833333333333333, 'x[9] <= 0.5\\ngini = 0.871\\nsamples = 42\\nvalue = [8, 2, 0, 1, 4, 5, 8, 2, 4, 5, 3]'),\n",
       " Text(0.9347826086956522, 0.85, 'x[12] <= 0.5\\ngini = 0.858\\nsamples = 34\\nvalue = [8, 2, 0, 1, 4, 5, 0, 2, 4, 5, 3]'),\n",
       " Text(0.9239130434782609, 0.8166666666666667, 'x[8] <= 0.5\\ngini = 0.835\\nsamples = 29\\nvalue = [8, 2, 0, 1, 4, 5, 0, 2, 4, 0, 3]'),\n",
       " Text(0.9130434782608695, 0.7833333333333333, 'x[11] <= 0.5\\ngini = 0.802\\nsamples = 24\\nvalue = [8, 2, 0, 1, 4, 0, 0, 2, 4, 0, 3]'),\n",
       " Text(0.9021739130434783, 0.75, 'x[7] <= 0.5\\ngini = 0.755\\nsamples = 20\\nvalue = [8, 2, 0, 1, 4, 0, 0, 2, 0, 0, 3]'),\n",
       " Text(0.8913043478260869, 0.7166666666666667, 'x[13] <= 0.5\\ngini = 0.68\\nsamples = 16\\nvalue = [8, 2, 0, 1, 0, 0, 0, 2, 0, 0, 3]'),\n",
       " Text(0.8804347826086957, 0.6833333333333333, 'x[10] <= 0.5\\ngini = 0.568\\nsamples = 13\\nvalue = [8, 2, 0, 1, 0, 0, 0, 2, 0, 0, 0]'),\n",
       " Text(0.8695652173913043, 0.65, 'x[24] <= 0.5\\ngini = 0.43\\nsamples = 11\\nvalue = [8, 2, 0, 1, 0, 0, 0, 0, 0, 0, 0]'),\n",
       " Text(0.8586956521739131, 0.6166666666666667, 'x[6] <= 0.5\\ngini = 0.198\\nsamples = 9\\nvalue = [8, 0, 0, 1, 0, 0, 0, 0, 0, 0, 0]'),\n",
       " Text(0.8478260869565217, 0.5833333333333334, 'gini = 0.0\\nsamples = 8\\nvalue = [8, 0, 0, 0, 0, 0, 0, 0, 0, 0, 0]'),\n",
       " Text(0.8695652173913043, 0.5833333333333334, 'gini = 0.0\\nsamples = 1\\nvalue = [0, 0, 0, 1, 0, 0, 0, 0, 0, 0, 0]'),\n",
       " Text(0.8804347826086957, 0.6166666666666667, 'gini = 0.0\\nsamples = 2\\nvalue = [0, 2, 0, 0, 0, 0, 0, 0, 0, 0, 0]'),\n",
       " Text(0.8913043478260869, 0.65, 'gini = 0.0\\nsamples = 2\\nvalue = [0, 0, 0, 0, 0, 0, 0, 2, 0, 0, 0]'),\n",
       " Text(0.9021739130434783, 0.6833333333333333, 'gini = 0.0\\nsamples = 3\\nvalue = [0, 0, 0, 0, 0, 0, 0, 0, 0, 0, 3]'),\n",
       " Text(0.9130434782608695, 0.7166666666666667, 'gini = 0.0\\nsamples = 4\\nvalue = [0, 0, 0, 0, 4, 0, 0, 0, 0, 0, 0]'),\n",
       " Text(0.9239130434782609, 0.75, 'gini = 0.0\\nsamples = 4\\nvalue = [0, 0, 0, 0, 0, 0, 0, 0, 4, 0, 0]'),\n",
       " Text(0.9347826086956522, 0.7833333333333333, 'gini = 0.0\\nsamples = 5\\nvalue = [0, 0, 0, 0, 0, 5, 0, 0, 0, 0, 0]'),\n",
       " Text(0.9456521739130435, 0.8166666666666667, 'gini = 0.0\\nsamples = 5\\nvalue = [0, 0, 0, 0, 0, 0, 0, 0, 0, 5, 0]'),\n",
       " Text(0.9565217391304348, 0.85, 'gini = 0.0\\nsamples = 8\\nvalue = [0, 0, 0, 0, 0, 0, 8, 0, 0, 0, 0]'),\n",
       " Text(0.967391304347826, 0.95, 'x[1] <= 10.5\\ngini = 0.081\\nsamples = 72\\nvalue = [0, 0, 0, 69, 1, 0, 0, 0, 0, 2, 0]'),\n",
       " Text(0.9425607764202615, 0.9666666666666666, '  False'),\n",
       " Text(0.9565217391304348, 0.9166666666666666, 'gini = 0.0\\nsamples = 69\\nvalue = [0, 0, 0, 69, 0, 0, 0, 0, 0, 0, 0]'),\n",
       " Text(0.9782608695652174, 0.9166666666666666, 'x[7] <= 0.5\\ngini = 0.444\\nsamples = 3\\nvalue = [0, 0, 0, 0, 1, 0, 0, 0, 0, 2, 0]'),\n",
       " Text(0.967391304347826, 0.8833333333333333, 'gini = 0.0\\nsamples = 2\\nvalue = [0, 0, 0, 0, 0, 0, 0, 0, 0, 2, 0]'),\n",
       " Text(0.9891304347826086, 0.8833333333333333, 'gini = 0.0\\nsamples = 1\\nvalue = [0, 0, 0, 0, 1, 0, 0, 0, 0, 0, 0]')]"
      ]
     },
     "execution_count": 294,
     "metadata": {},
     "output_type": "execute_result"
    },
    {
     "data": {
      "image/png": "[encoded data removed]",
      "text/plain": [
       "<Figure size 640x480 with 1 Axes>"
      ]
     },
     "metadata": {},
     "output_type": "display_data"
    }
   ],
   "source": [
    "from sklearn import tree\n",
    "tree.plot_tree(dt)"
   ]
  },
  {
   "cell_type": "markdown",
   "id": "6ae2711b-25b3-4da4-8d94-fdf966fda4ca",
   "metadata": {},
   "source": [
    "### Decision Tree – Summary\n",
    "\n",
    "The Decision Tree model achieved 100% accuracy on the training data and around 93–94% on the test data. This high performance may be due to the relatively small dataset (only around 700+ rows), which makes it easier for the model to learn patterns effectively.\n",
    "\n",
    "Although the training accuracy is perfect, the difference between training and test accuracy is small, and the cross-validation mean accuracy is also close (around 87%).\n",
    "\n",
    "Overall, the model appears to be generalising well.\n"
   ]
  },
  {
   "cell_type": "markdown",
   "id": "7056bd13-c18d-4597-9e83-75ae57b8cc67",
   "metadata": {},
   "source": [
    "## Random Forest"
   ]
  },
  {
   "cell_type": "markdown",
   "id": "10690161-991e-4f7c-91e2-8e1c4eaf0fc9",
   "metadata": {},
   "source": [
    "### Cross Validation"
   ]
  },
  {
   "cell_type": "code",
   "execution_count": 228,
   "id": "f4a68fe2-b3cb-4473-a309-e592c6eda805",
   "metadata": {},
   "outputs": [
    {
     "name": "stdout",
     "output_type": "stream",
     "text": [
      "[CV] END .................................................... total time=   0.3s\n",
      "[CV] END .................................................... total time=   0.3s\n",
      "[CV] END .................................................... total time=   0.3s\n",
      "[CV] END .................................................... total time=   0.3s\n",
      "[CV] END .................................................... total time=   0.3s\n",
      "scores: [0.88513514 0.90540541 0.88513514 0.9047619  0.9047619 ]\n",
      "Mean accuracy: 0.897039897039897\n"
     ]
    }
   ],
   "source": [
    "scores = cross_val_score(estimator=RandomForestClassifier(oob_score=True,random_state=42),X=X,y=Y,scoring='accuracy',cv=5,verbose=2)\n",
    "print(\"scores:\", scores)\n",
    "print(\"Mean accuracy:\", scores.mean())"
   ]
  },
  {
   "cell_type": "markdown",
   "id": "bec8940f-456b-44a1-a577-e5b028caa0ff",
   "metadata": {},
   "source": [
    "### Without Sampling"
   ]
  },
  {
   "cell_type": "code",
   "execution_count": 230,
   "id": "6677e825-6d2b-48b9-9a34-45e1856800c5",
   "metadata": {},
   "outputs": [
    {
     "name": "stdout",
     "output_type": "stream",
     "text": [
      "Accuracy Score of Random Forest without sampling: 0.90\n",
      "Accuracy Score of train data of Random Forest without sampling: 1.00\n"
     ]
    }
   ],
   "source": [
    "rf = RandomForestClassifier(oob_score=True,random_state=42)\n",
    "rf.fit(train_x,train_y)\n",
    "y_pred = rf.predict(test_x)\n",
    "accrf = accuracy_score(y_pred,test_y)\n",
    "print(f\"Accuracy Score of Random Forest without sampling: {accrf:.2f}\")\n",
    "\n",
    "y_pred_train = dt.predict(train_x)\n",
    "accrft = accuracy_score(y_pred_train,train_y)\n",
    "print(f\"Accuracy Score of train data of Random Forest without sampling: {accrft:.2f}\")"
   ]
  },
  {
   "cell_type": "markdown",
   "id": "21faaadc-413f-4a3d-a8b8-49297bed94a9",
   "metadata": {},
   "source": [
    "### Hyper Parameter Tunning"
   ]
  },
  {
   "cell_type": "code",
   "execution_count": 232,
   "id": "418b7577-157d-4ec2-82e0-226479d94d07",
   "metadata": {},
   "outputs": [],
   "source": [
    "param_grid = {\n",
    "    'n_estimators': [50,100,200],\n",
    "    'max_depth':[None,10,20,30], \n",
    "    'min_samples_split':[2,5,10] \n",
    "}"
   ]
  },
  {
   "cell_type": "code",
   "execution_count": 233,
   "id": "fd74d717-c131-4e13-aae2-9dfaeec55f5e",
   "metadata": {},
   "outputs": [
    {
     "name": "stdout",
     "output_type": "stream",
     "text": [
      "Fitting 5 folds for each of 36 candidates, totalling 180 fits\n",
      "Best param is {'max_depth': None, 'min_samples_split': 2, 'n_estimators': 50}\n",
      "Best score is 0.8677966101694915\n"
     ]
    }
   ],
   "source": [
    "grid_search = GridSearchCV(estimator=rf,param_grid=param_grid,cv=5,verbose=2,n_jobs=-1)\n",
    "grid_search.fit(train_x,train_y)\n",
    "\n",
    "best_param = grid_search.best_params_\n",
    "best_score = grid_search.best_score_\n",
    "\n",
    "print(f\"Best param is {best_param}\")\n",
    "print(f\"Best score is {best_score}\")"
   ]
  },
  {
   "cell_type": "code",
   "execution_count": 234,
   "id": "bdde0355-f170-4b98-8305-6ed8224c36e6",
   "metadata": {},
   "outputs": [
    {
     "name": "stdout",
     "output_type": "stream",
     "text": [
      "Accuracy Score of Random Forest without sampling(Tunning): 0.91\n",
      "Accuracy Score of train data Random Forest without sampling(Tunning): 1.00\n"
     ]
    }
   ],
   "source": [
    "best_model = grid_search.best_estimator_\n",
    "y_pred = best_model.predict(test_x)\n",
    "accrfh = accuracy_score(y_pred,test_y)\n",
    "print(f\"Accuracy Score of Random Forest without sampling(Tunning): {accrfh:.2f}\")\n",
    "\n",
    "y_pred_train = best_model.predict(train_x)\n",
    "accrfth = accuracy_score(y_pred_train,train_y)\n",
    "print(f\"Accuracy Score of train data Random Forest without sampling(Tunning): {accrfth:.2f}\")"
   ]
  },
  {
   "cell_type": "code",
   "execution_count": 235,
   "id": "b5443c4e-7ae0-4a67-8353-7c9d56b2b5f4",
   "metadata": {},
   "outputs": [
    {
     "name": "stdout",
     "output_type": "stream",
     "text": [
      "OOB score of the random forest:  0.847457627118644\n"
     ]
    }
   ],
   "source": [
    "print(\"OOB score of the random forest: \",best_model.oob_score_)"
   ]
  },
  {
   "cell_type": "markdown",
   "id": "4c738309-8f38-4268-955b-597088cad943",
   "metadata": {},
   "source": [
    "### Random Forest – Summary\n",
    "\n",
    "The Random Forest model got 100% accuracy on the training data and about 90–91% on the test data. Since the dataset has only around 700 rows, getting perfect accuracy on training is possible.\n",
    "\n",
    "The small difference between training and test accuracy shows that the model is not overfitting and is generalising well. The cross-validation accuracy is also close to the test accuracy, which means the model performs consistently across different data splits.\n",
    "\n",
    "After tuning, the test accuracy improved slightly from 90% to 91%, while the training accuracy stayed the same. This means tuning helped a bit, and overall the model is working well on this dataset.\n"
   ]
  },
  {
   "cell_type": "markdown",
   "id": "9bd82409-8e17-4a22-96d6-1eae87d38637",
   "metadata": {},
   "source": [
    "# Boosting "
   ]
  },
  {
   "cell_type": "markdown",
   "id": "eb14d674-ee54-4e07-9d3b-b5d9729c7582",
   "metadata": {},
   "source": [
    "## Ada Boost"
   ]
  },
  {
   "cell_type": "code",
   "execution_count": 239,
   "id": "fd12c3ed-fc65-43c1-b995-e01591e97565",
   "metadata": {},
   "outputs": [
    {
     "name": "stdout",
     "output_type": "stream",
     "text": [
      "[CV] END .................................................... total time=   0.2s\n",
      "[CV] END .................................................... total time=   0.1s\n",
      "[CV] END .................................................... total time=   0.1s\n",
      "[CV] END .................................................... total time=   0.1s\n",
      "[CV] END .................................................... total time=   0.1s\n",
      "scores: [0.22297297 0.24324324 0.20945946 0.25170068 0.23809524]\n",
      "Mean accuracy: 0.23309431880860454\n"
     ]
    }
   ],
   "source": [
    "scores = cross_val_score(estimator=AdaBoostClassifier(n_estimators=50,random_state=40),X=X,y=Y,scoring='accuracy',cv=5,verbose=2)\n",
    "print(\"scores:\", scores)\n",
    "print(\"Mean accuracy:\", scores.mean())"
   ]
  },
  {
   "cell_type": "markdown",
   "id": "85e88c5f-d6e0-45fd-8cac-8d057906b236",
   "metadata": {},
   "source": [
    "### Without Sampling"
   ]
  },
  {
   "cell_type": "code",
   "execution_count": 241,
   "id": "6e6139f6-9af0-4431-8ca2-45a0025646d1",
   "metadata": {},
   "outputs": [
    {
     "name": "stdout",
     "output_type": "stream",
     "text": [
      "Accuracy Score of Adaboost without sampling: 0.24\n",
      "Accuracy Score of Adaboost without sampling: 0.23\n"
     ]
    }
   ],
   "source": [
    "ada = AdaBoostClassifier(n_estimators=50,random_state=40)\n",
    "ada.fit(train_x,train_y)\n",
    "y_pred = ada.predict(test_x)\n",
    "accad = accuracy_score(y_pred,test_y)\n",
    "print(f\"Accuracy Score of Adaboost without sampling: {accad:.2f}\")\n",
    "\n",
    "y_pred_train = ada.predict(train_x)\n",
    "accadt = accuracy_score(y_pred_train,train_y)\n",
    "print(f\"Accuracy Score of Adaboost without sampling: {accadt:.2f}\")"
   ]
  },
  {
   "cell_type": "markdown",
   "id": "e11d1ae2-07bf-4755-ae87-698a902a5003",
   "metadata": {},
   "source": [
    "### With Sampling"
   ]
  },
  {
   "cell_type": "code",
   "execution_count": 243,
   "id": "27142e4a-64d3-4122-8330-e3cebb103938",
   "metadata": {},
   "outputs": [
    {
     "name": "stdout",
     "output_type": "stream",
     "text": [
      "Accuracy Score of Adaboost without sampling: 0.31\n",
      "Accuracy Score of Adaboost without sampling: 0.38\n"
     ]
    }
   ],
   "source": [
    "ada = AdaBoostClassifier(n_estimators=50,random_state=40)\n",
    "ada.fit(x_smo,y_smo)\n",
    "y_pred = ada.predict(test_x)\n",
    "accad = accuracy_score(y_pred,test_y)\n",
    "print(f\"Accuracy Score of Adaboost without sampling: {accad:.2f}\")\n",
    "\n",
    "y_pred_train = ada.predict(x_smo)\n",
    "accadt = accuracy_score(y_pred_train,y_smo)\n",
    "print(f\"Accuracy Score of Adaboost without sampling: {accadt:.2f}\")"
   ]
  },
  {
   "cell_type": "markdown",
   "id": "462fd832-9099-431a-9209-b52d5f96d2d1",
   "metadata": {},
   "source": [
    "### Hyper Parameter Tunning"
   ]
  },
  {
   "cell_type": "code",
   "execution_count": 245,
   "id": "76aa119f-4448-4d36-b05c-f6e636e23a07",
   "metadata": {},
   "outputs": [],
   "source": [
    "adab = AdaBoostClassifier(estimator=DecisionTreeClassifier(),random_state=42)\n",
    "\n",
    "param_grid = {\n",
    "    'n_estimators': [50, 100],\n",
    "    'learning_rate': [0.01, 0.1, 1],\n",
    "    'estimator__max_depth': [1, 2, 3],\n",
    "    'estimator__min_samples_split': [2, 5]\n",
    "}"
   ]
  },
  {
   "cell_type": "code",
   "execution_count": 246,
   "id": "5d1e53a4-6dd8-4d42-98fa-8dd01a71d375",
   "metadata": {},
   "outputs": [
    {
     "name": "stdout",
     "output_type": "stream",
     "text": [
      "Fitting 5 folds for each of 36 candidates, totalling 180 fits\n",
      "Best param is {'estimator__max_depth': 3, 'estimator__min_samples_split': 5, 'learning_rate': 0.01, 'n_estimators': 100}\n",
      "Best score is 0.8627118644067796\n"
     ]
    }
   ],
   "source": [
    "grid_search = GridSearchCV(estimator=adab,param_grid=param_grid,cv=5,verbose=2,n_jobs=-1)\n",
    "grid_search.fit(train_x,train_y)\n",
    "\n",
    "best_param = grid_search.best_params_\n",
    "best_score = grid_search.best_score_\n",
    "\n",
    "print(f\"Best param is {best_param}\")\n",
    "print(f\"Best score is {best_score}\")"
   ]
  },
  {
   "cell_type": "code",
   "execution_count": 247,
   "id": "aa2936d6-d611-4eb7-9c53-9aa42ed850d1",
   "metadata": {},
   "outputs": [
    {
     "name": "stdout",
     "output_type": "stream",
     "text": [
      "Accuracy Score of AdaBoost without sampling(Tunning): 0.93\n",
      "Accuracy Score of train data AdaBoost without sampling(Tunning): 1.00\n"
     ]
    }
   ],
   "source": [
    "best_model = grid_search.best_estimator_\n",
    "y_pred = best_model.predict(test_x)\n",
    "accad = accuracy_score(y_pred,test_y)\n",
    "print(f\"Accuracy Score of AdaBoost without sampling(Tunning): {accad:.2f}\")\n",
    "\n",
    "y_pred_train = best_model.predict(train_x)\n",
    "accadt = accuracy_score(y_pred_train,train_y)\n",
    "print(f\"Accuracy Score of train data AdaBoost without sampling(Tunning): {accadt:.2f}\")"
   ]
  },
  {
   "cell_type": "markdown",
   "id": "803d6ae0-2bfe-42ff-b6a3-56d4390b6483",
   "metadata": {},
   "source": [
    "### AdaBoost – Summary\n",
    "\n",
    "Before tuning, the AdaBoost model showed low accuracy (between 23% and 38%), which means it was underfitting and couldn't learn the data well.\n",
    "\n",
    "After tuning, the accuracy increased significantly to 93%, and the training accuracy became 100%. This improvement happened mainly because the base estimator was changed to a Decision Tree, which is more powerful and can capture complex patterns better.\n",
    "\n",
    "Although training accuracy is perfect, the cross-validation score of around 86% and test accuracy of 93% show that the model is generalising well and tuning was effective.\n"
   ]
  },
  {
   "cell_type": "markdown",
   "id": "f6f7bd1e-f657-4500-8962-3077176fc9f5",
   "metadata": {},
   "source": [
    "## G-Boost"
   ]
  },
  {
   "cell_type": "code",
   "execution_count": 250,
   "id": "c4465791-bb9e-4fb0-80e6-f9b389bae94c",
   "metadata": {},
   "outputs": [
    {
     "name": "stdout",
     "output_type": "stream",
     "text": [
      "[CV] END .................................................... total time=   3.2s\n",
      "[CV] END .................................................... total time=   3.1s\n",
      "[CV] END .................................................... total time=   3.4s\n",
      "[CV] END .................................................... total time=   3.4s\n",
      "[CV] END .................................................... total time=   3.5s\n",
      "scores: [0.96621622 0.97972973 0.97972973 0.95238095 0.97959184]\n",
      "Mean accuracy: 0.9715296929582644\n"
     ]
    }
   ],
   "source": [
    "scores = cross_val_score(estimator=GradientBoostingClassifier(n_estimators=100,random_state=40),X=X,y=Y,scoring='accuracy',cv=5,verbose=2)\n",
    "print(\"scores:\", scores)\n",
    "print(\"Mean accuracy:\", scores.mean())"
   ]
  },
  {
   "cell_type": "code",
   "execution_count": 251,
   "id": "e04664c9-5b72-4078-8c16-9f8f4bba30b1",
   "metadata": {},
   "outputs": [
    {
     "name": "stdout",
     "output_type": "stream",
     "text": [
      "Accuracy Score of GBoost without sampling: 0.99\n",
      "Accuracy Score of train data of GBoost without sampling: 1.00\n"
     ]
    }
   ],
   "source": [
    "g = GradientBoostingClassifier(n_estimators=100,random_state=40)\n",
    "g.fit(train_x,train_y)\n",
    "y_pred = g.predict(test_x)\n",
    "accg = accuracy_score(y_pred,test_y)\n",
    "print(f\"Accuracy Score of GBoost without sampling: {accg:.2f}\")\n",
    "\n",
    "y_pred = g.predict(train_x)\n",
    "accgt = accuracy_score(y_pred,train_y)\n",
    "print(f\"Accuracy Score of train data of GBoost without sampling: {accgt:.2f}\")"
   ]
  },
  {
   "cell_type": "markdown",
   "id": "2ffaab16-7bad-4ee0-8ea0-8eb0e9b4f201",
   "metadata": {},
   "source": [
    "### Gradient Boosting – Summary\n",
    "\n",
    "The Gradient Boosting model achieved 99% accuracy on the test data and 100% on the training data. The mean cross-validation accuracy was also very high at around 97%.\n",
    "\n",
    "This strong performance is likely due to the small dataset, which makes it easier for the model to learn effectively. The small gap between train and test accuracy shows that the model is generalising well and not overfitting.\n",
    "\n",
    "Since the model performs very well even without sampling or hyperparameter tuning, it can be considered one of the best models for this dataset as-is.\n"
   ]
  },
  {
   "cell_type": "markdown",
   "id": "25b65d72-0215-4d27-8895-20cc096bf479",
   "metadata": {},
   "source": [
    "## XGBoost"
   ]
  },
  {
   "cell_type": "markdown",
   "id": "7371dc16-5179-48f4-9f77-66bb1837c7a8",
   "metadata": {},
   "source": [
    "### Cross Validation"
   ]
  },
  {
   "cell_type": "code",
   "execution_count": 255,
   "id": "57a461ec-876b-4898-9b78-05f2f2332ec3",
   "metadata": {},
   "outputs": [
    {
     "name": "stdout",
     "output_type": "stream",
     "text": [
      "[CV] END .................................................... total time=   0.4s\n",
      "[CV] END .................................................... total time=   0.3s\n",
      "[CV] END .................................................... total time=   0.3s\n",
      "[CV] END .................................................... total time=   0.4s\n",
      "[CV] END .................................................... total time=   0.4s\n",
      "scores: [0.96621622 0.97972973 0.98648649 0.94557823 0.92517007]\n",
      "Mean accuracy: 0.960636146350432\n"
     ]
    }
   ],
   "source": [
    "scores = cross_val_score(estimator=XGBClassifier(),X=X,y=Y,scoring='accuracy',cv=5,verbose=2)\n",
    "print(\"scores:\", scores)\n",
    "print(\"Mean accuracy:\", scores.mean())"
   ]
  },
  {
   "cell_type": "code",
   "execution_count": 256,
   "id": "b365a9bf-76d8-402a-a35b-9ab491e0ff32",
   "metadata": {},
   "outputs": [
    {
     "name": "stdout",
     "output_type": "stream",
     "text": [
      "Accuracy Score of XGBoost without sampling: 0.98\n",
      "Accuracy Score of train data of XGBoost without sampling: 1.00\n"
     ]
    }
   ],
   "source": [
    "xgb = XGBClassifier()\n",
    "xgb.fit(train_x,train_y)\n",
    "y_pred = xgb.predict(test_x)\n",
    "accxg = accuracy_score(y_pred,test_y)\n",
    "print(f\"Accuracy Score of XGBoost without sampling: {accxg:.2f}\")\n",
    "\n",
    "y_pred = xgb.predict(train_x)\n",
    "accxgt = accuracy_score(y_pred,train_y)\n",
    "print(f\"Accuracy Score of train data of XGBoost without sampling: {accxgt:.2f}\")"
   ]
  },
  {
   "cell_type": "markdown",
   "id": "c14ca9a2-e059-4b90-bfd4-c77e005bac75",
   "metadata": {},
   "source": [
    "### XGBoost – Summary\n",
    "\n",
    "The XGBoost model reached 100 % accuracy on the training data and 98 % accuracy on the test data, with a mean cross‑validation accuracy of about 96 %.\n",
    "\n",
    "The tiny gap between train, test, and CV scores indicates that the model generalises very well on this relatively small dataset. It already performs at a high level without any sampling or additional hyperparameter tuning.\n"
   ]
  },
  {
   "cell_type": "code",
   "execution_count": null,
   "id": "ffafcf90-776f-40b6-9dae-93b412325862",
   "metadata": {},
   "outputs": [],
   "source": []
  },
  {
   "cell_type": "markdown",
   "id": "9175d8f9-7369-4b21-8f68-3af636f4d960",
   "metadata": {},
   "source": [
    "| Model / Variant                              | Sampling | Encoding    | Tuned | Train Acc | Test Acc | CV Acc (mean / best) |\n",
    "|----------------------------------------------|----------|-------------|-------|-----------|----------|----------------------|\n",
    "| **Logistic Regression**                      | No       | One‑hot     | No    | 0.56      | 0.53     | 0.53 (mean)          |\n",
    "| Logistic Regression                          | Yes      | One‑hot     | No    | 0.66      | 0.49     | –                    |\n",
    "| **K‑Nearest Neighbours**                     | No       | One‑hot     | No    | 0.82      | 0.72     | 0.69 (mean)          |\n",
    "| KNN                                          | Yes      | One‑hot     | No    | 0.86      | 0.79     | –                    |\n",
    "| **Bernoulli Naive Bayes**                    | No       | One‑hot     | No    | 0.62      | 0.53     | 0.52 (mean)          |\n",
    "| Bernoulli NB                                 | Yes      | One‑hot     | No    | 0.70      | 0.53     | –                    |\n",
    "| **SVM (one‑hot)**                            | No       | One‑hot     | No    | 0.24      | 0.10 – 0.18 | 0.19 (mean)        |\n",
    "| SVM (one‑hot)                                | No       | One‑hot     | Yes   | 0.93–0.95 | 0.64–0.65 | 0.65 (best)         |\n",
    "| **SVM (label‑encoded)**                      | No       | Label       | No    | 0.42      | 0.43     | –                    |\n",
    "| SVM (label‑encoded)                          | No       | Label       | Yes   | 0.63      | 0.48     | –                    |\n",
    "| **Decision Tree**                            | No       | One‑hot     | No    | 1.00      | 0.93     | 0.87 (mean)          |\n",
    "| Decision Tree                                | Yes      | One‑hot     | No    | 1.00      | 0.94     | –                    |\n",
    "| Decision Tree                                | No       | One‑hot     | Yes   | 1.00      | 0.93     | 0.83 (best fold)     |\n",
    "| **Random Forest**                            | No       | One‑hot     | No    | 1.00      | 0.90     | 0.90 (mean)          |\n",
    "| Random Forest                                | No       | One‑hot     | Yes   | 1.00      | 0.91     | 0.87 (best)          |\n",
    "| **Gradient Boosting**                        | No       | One‑hot     | No    | 1.00      | 0.99     | 0.97 (mean)          |\n",
    "| **XGBoost**                                  | No       | One‑hot     | No    | 1.00      | 0.98     | 0.96 (mean)          |\n",
    "| **AdaBoost**                                 | No       | One‑hot     | No    | 0.23–0.38 | 0.23–0.38 | 0.23 (mean)         |\n",
    "| AdaBoost                                     | No       | One‑hot     | Yes   | 1.00      | 0.93     | 0.86 (best)          |\n"
   ]
  },
  {
   "cell_type": "markdown",
   "id": "6ff5779b-39cb-4e50-869f-407fa5733205",
   "metadata": {},
   "source": [
    "## Best Model\n",
    "\n",
    "- GBoost and XGBoost"
   ]
  },
  {
   "cell_type": "code",
   "execution_count": 260,
   "id": "547b8883-86b1-414f-b6d1-146e4e8c2681",
   "metadata": {},
   "outputs": [
    {
     "data": {
      "text/plain": [
       "['gboost_model.pkl']"
      ]
     },
     "execution_count": 260,
     "metadata": {},
     "output_type": "execute_result"
    }
   ],
   "source": [
    "import joblib\n",
    "joblib.dump((g, X.columns.tolist(), label_encoder), \"gboost_model.pkl\")\n",
    "\n"
   ]
  },
  {
   "cell_type": "code",
   "execution_count": null,
   "id": "2ad517d5-ba18-444d-9224-5e5e06078ea6",
   "metadata": {},
   "outputs": [],
   "source": []
  },
  {
   "cell_type": "code",
   "execution_count": null,
   "id": "a5f6c66f-e051-4650-aa5c-583ea40ed3b7",
   "metadata": {},
   "outputs": [],
   "source": []
  },
  {
   "cell_type": "code",
   "execution_count": null,
   "id": "045c3ea7-d7a3-4a2c-bb44-2c48a240f1c5",
   "metadata": {},
   "outputs": [],
   "source": []
  }
 ],
 "metadata": {
  "kernelspec": {
   "display_name": "Python [conda env:base] *",
   "language": "python",
   "name": "conda-base-py"
  },
  "language_info": {
   "codemirror_mode": {
    "name": "ipython",
    "version": 3
   },
   "file_extension": ".py",
   "mimetype": "text/x-python",
   "name": "python",
   "nbconvert_exporter": "python",
   "pygments_lexer": "ipython3",
   "version": "3.12.7"
  }
 },
 "nbformat": 4,
 "nbformat_minor": 5
}
